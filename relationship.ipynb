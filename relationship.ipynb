{
 "cells": [
  {
   "cell_type": "code",
   "execution_count": 1,
   "metadata": {},
   "outputs": [
    {
     "data": {
      "text/html": [
       "<div>\n",
       "<style scoped>\n",
       "    .dataframe tbody tr th:only-of-type {\n",
       "        vertical-align: middle;\n",
       "    }\n",
       "\n",
       "    .dataframe tbody tr th {\n",
       "        vertical-align: top;\n",
       "    }\n",
       "\n",
       "    .dataframe thead th {\n",
       "        text-align: right;\n",
       "    }\n",
       "</style>\n",
       "<table border=\"1\" class=\"dataframe\">\n",
       "  <thead>\n",
       "    <tr style=\"text-align: right;\">\n",
       "      <th></th>\n",
       "      <th>show_id</th>\n",
       "      <th>type</th>\n",
       "      <th>title</th>\n",
       "      <th>director</th>\n",
       "      <th>cast</th>\n",
       "      <th>country</th>\n",
       "      <th>date_added</th>\n",
       "      <th>release_year</th>\n",
       "      <th>rating</th>\n",
       "      <th>duration</th>\n",
       "      <th>listed_in</th>\n",
       "      <th>description</th>\n",
       "    </tr>\n",
       "  </thead>\n",
       "  <tbody>\n",
       "    <tr>\n",
       "      <th>0</th>\n",
       "      <td>s1</td>\n",
       "      <td>Movie</td>\n",
       "      <td>Dick Johnson Is Dead</td>\n",
       "      <td>Kirsten Johnson</td>\n",
       "      <td>NaN</td>\n",
       "      <td>United States</td>\n",
       "      <td>9/25/2021</td>\n",
       "      <td>2020</td>\n",
       "      <td>PG-13</td>\n",
       "      <td>90 min</td>\n",
       "      <td>Documentaries</td>\n",
       "      <td>As her father nears the end of his life, filmm...</td>\n",
       "    </tr>\n",
       "    <tr>\n",
       "      <th>1</th>\n",
       "      <td>s2</td>\n",
       "      <td>TV Show</td>\n",
       "      <td>Blood &amp; Water</td>\n",
       "      <td>NaN</td>\n",
       "      <td>Ama Qamata, Khosi Ngema, Gail Mabalane, Thaban...</td>\n",
       "      <td>South Africa</td>\n",
       "      <td>9/24/2021</td>\n",
       "      <td>2021</td>\n",
       "      <td>TV-MA</td>\n",
       "      <td>2 Seasons</td>\n",
       "      <td>International TV Shows, TV Dramas, TV Mysteries</td>\n",
       "      <td>After crossing paths at a party, a Cape Town t...</td>\n",
       "    </tr>\n",
       "    <tr>\n",
       "      <th>2</th>\n",
       "      <td>s3</td>\n",
       "      <td>TV Show</td>\n",
       "      <td>Ganglands</td>\n",
       "      <td>Julien Leclercq</td>\n",
       "      <td>Sami Bouajila, Tracy Gotoas, Samuel Jouy, Nabi...</td>\n",
       "      <td>NaN</td>\n",
       "      <td>9/24/2021</td>\n",
       "      <td>2021</td>\n",
       "      <td>TV-MA</td>\n",
       "      <td>1 Season</td>\n",
       "      <td>Crime TV Shows, International TV Shows, TV Act...</td>\n",
       "      <td>To protect his family from a powerful drug lor...</td>\n",
       "    </tr>\n",
       "    <tr>\n",
       "      <th>3</th>\n",
       "      <td>s4</td>\n",
       "      <td>TV Show</td>\n",
       "      <td>Jailbirds New Orleans</td>\n",
       "      <td>NaN</td>\n",
       "      <td>NaN</td>\n",
       "      <td>NaN</td>\n",
       "      <td>9/24/2021</td>\n",
       "      <td>2021</td>\n",
       "      <td>TV-MA</td>\n",
       "      <td>1 Season</td>\n",
       "      <td>Docuseries, Reality TV</td>\n",
       "      <td>Feuds, flirtations and toilet talk go down amo...</td>\n",
       "    </tr>\n",
       "    <tr>\n",
       "      <th>4</th>\n",
       "      <td>s5</td>\n",
       "      <td>TV Show</td>\n",
       "      <td>Kota Factory</td>\n",
       "      <td>NaN</td>\n",
       "      <td>Mayur More, Jitendra Kumar, Ranjan Raj, Alam K...</td>\n",
       "      <td>India</td>\n",
       "      <td>9/24/2021</td>\n",
       "      <td>2021</td>\n",
       "      <td>TV-MA</td>\n",
       "      <td>2 Seasons</td>\n",
       "      <td>International TV Shows, Romantic TV Shows, TV ...</td>\n",
       "      <td>In a city of coaching centers known to train I...</td>\n",
       "    </tr>\n",
       "  </tbody>\n",
       "</table>\n",
       "</div>"
      ],
      "text/plain": [
       "  show_id     type                  title         director  \\\n",
       "0      s1    Movie   Dick Johnson Is Dead  Kirsten Johnson   \n",
       "1      s2  TV Show          Blood & Water              NaN   \n",
       "2      s3  TV Show              Ganglands  Julien Leclercq   \n",
       "3      s4  TV Show  Jailbirds New Orleans              NaN   \n",
       "4      s5  TV Show           Kota Factory              NaN   \n",
       "\n",
       "                                                cast        country  \\\n",
       "0                                                NaN  United States   \n",
       "1  Ama Qamata, Khosi Ngema, Gail Mabalane, Thaban...   South Africa   \n",
       "2  Sami Bouajila, Tracy Gotoas, Samuel Jouy, Nabi...            NaN   \n",
       "3                                                NaN            NaN   \n",
       "4  Mayur More, Jitendra Kumar, Ranjan Raj, Alam K...          India   \n",
       "\n",
       "  date_added  release_year rating   duration  \\\n",
       "0  9/25/2021          2020  PG-13     90 min   \n",
       "1  9/24/2021          2021  TV-MA  2 Seasons   \n",
       "2  9/24/2021          2021  TV-MA   1 Season   \n",
       "3  9/24/2021          2021  TV-MA   1 Season   \n",
       "4  9/24/2021          2021  TV-MA  2 Seasons   \n",
       "\n",
       "                                           listed_in  \\\n",
       "0                                      Documentaries   \n",
       "1    International TV Shows, TV Dramas, TV Mysteries   \n",
       "2  Crime TV Shows, International TV Shows, TV Act...   \n",
       "3                             Docuseries, Reality TV   \n",
       "4  International TV Shows, Romantic TV Shows, TV ...   \n",
       "\n",
       "                                         description  \n",
       "0  As her father nears the end of his life, filmm...  \n",
       "1  After crossing paths at a party, a Cape Town t...  \n",
       "2  To protect his family from a powerful drug lor...  \n",
       "3  Feuds, flirtations and toilet talk go down amo...  \n",
       "4  In a city of coaching centers known to train I...  "
      ]
     },
     "execution_count": 1,
     "metadata": {},
     "output_type": "execute_result"
    }
   ],
   "source": [
    "import pandas as pd\n",
    "import numpy as np\n",
    "import matplotlib.pyplot as plt\n",
    "import seaborn as sns\n",
    "import plotly.graph_objects as go\n",
    "\n",
    "df = pd.read_csv('netflix_titles.csv')\n",
    "df.head()"
   ]
  },
  {
   "cell_type": "markdown",
   "metadata": {},
   "source": [
    "# A. Thu thập dữ liệu"
   ]
  },
  {
   "cell_type": "markdown",
   "metadata": {},
   "source": [
    "* Ngữ cảnh:\n",
    "    * Netflix là một trong những nền tảng truyền thông phương tiện và phát trực tuyến lớn nhất, với hơn 8000 phim và chương trình truyền hình, và cùng với 260 triệu người đăng ký.\n",
    "\n",
    "    * Để tìm hiểu thêm về Netflix, cũng như dữ liệu về nội dung mà nền tảng này cung cấp, từ đó hiểu rõ hơn về định hướng của nền tảng, nhóm đã quyết định chọn bộ dữ liệu này để phân tích.\n",
    "\n",
    "* Bộ dữ liệu:\n",
    "    * Chủ đề: Phim và chương trình truyền hình của Netflix.\n",
    "    * Nguồn: https://www.kaggle.com/datasets/shivamb/netflix-shows\n",
    "\n",
    "* License:\n",
    "    * CC0: Hoàn toàn có được sự cho phép để copy, chỉnh sửa, phân loại và thực hiện các công việc mà không cần phải xin giấy phép.\n",
    "\n",
    "* Cách thức thu thập dữ liệu:\n",
    "    * Nguồn thu thập: cố định trên nền tảng Netflix\n",
    "    * Sử dụng cách gọi API để thu thập các dữ liệu trên nền tảng"
   ]
  },
  {
   "cell_type": "markdown",
   "metadata": {},
   "source": [
    "# B. Khám phá dữ liệu"
   ]
  },
  {
   "cell_type": "code",
   "execution_count": 2,
   "metadata": {},
   "outputs": [
    {
     "name": "stdout",
     "output_type": "stream",
     "text": [
      "Number of rows:  8807\n",
      "Number of columns:  12\n"
     ]
    }
   ],
   "source": [
    "print('Number of rows: ', df.shape[0])\n",
    "print('Number of columns: ', df.shape[1])"
   ]
  },
  {
   "cell_type": "markdown",
   "metadata": {},
   "source": [
    "* Bộ dữ liệu có tổng cộng 8807 dòng, mỗi dòng đều có đúng 1 ý nghĩa, đó là thể hiện dữ liệu liên quan đến 1 bộ phim hoặc chương trình truyền hình cụ thể\n",
    "\n",
    "* Bộ dữ liệu có 12 cột:\n",
    "    * `show_id`: chứa các giá trị id duy nhất cho một bộ phim/chương trình truyền hình\n",
    "    * `type`: thể loại của bộ phim/chương trình truyền hình\n",
    "    * `title`: tên của bộ phim/chương trình truyền hình\n",
    "    * `director`: tên của đạo diễn \n",
    "    * `cast`: các diễn viên tham gia bộ phim/chương trình truyền hình\n",
    "    * `country`: quốc gia mà bộ phim/chương trình truyền hình được sản xuất\n",
    "    * `date_added`: ngày được thêm vào Netflix\n",
    "    * `release_year`: năm phát hành của bộ phim/chương trình truyền hình\n",
    "    * `rating`: đánh giá độ tuổi được phép xem của bộ phim/chương trình truyền hình\n",
    "    * `duration`: tổng thời lượng phát sóng\n",
    "    * `listed_in`: các thể loại\n",
    "    * `description`: mô tả nội dung"
   ]
  },
  {
   "cell_type": "code",
   "execution_count": 3,
   "metadata": {},
   "outputs": [
    {
     "name": "stdout",
     "output_type": "stream",
     "text": [
      "show_id         object\n",
      "type            object\n",
      "title           object\n",
      "director        object\n",
      "cast            object\n",
      "country         object\n",
      "date_added      object\n",
      "release_year     int64\n",
      "rating          object\n",
      "duration        object\n",
      "listed_in       object\n",
      "description     object\n",
      "dtype: object\n"
     ]
    }
   ],
   "source": [
    "print(df.dtypes)"
   ]
  },
  {
   "cell_type": "markdown",
   "metadata": {},
   "source": [
    "* Kiểu dữ liệu của từng cột\n",
    "    * `show_id`: object\n",
    "    * `type`: object\n",
    "    * `title`: object\n",
    "    * `director`: object\n",
    "    * `cast`: object\n",
    "    * `country`: object\n",
    "    * `date_added`: object\n",
    "    * `release_year`: int\n",
    "    * `rating`: object\n",
    "    * `duration`: object\n",
    "    * `listed_in`: object\n",
    "    * `description`: object"
   ]
  },
  {
   "cell_type": "markdown",
   "metadata": {},
   "source": [
    "* Sau quá trình kiểm tra các giá trị của các cột trên thì ta nên xử lý cột `date_added`, chuyển dữ liệu từ object sang datetime"
   ]
  },
  {
   "cell_type": "code",
   "execution_count": 4,
   "metadata": {},
   "outputs": [
    {
     "data": {
      "text/plain": [
       "show_id                 object\n",
       "type                    object\n",
       "title                   object\n",
       "director                object\n",
       "cast                    object\n",
       "country                 object\n",
       "date_added      datetime64[ns]\n",
       "release_year             int64\n",
       "rating                  object\n",
       "duration                object\n",
       "listed_in               object\n",
       "description             object\n",
       "dtype: object"
      ]
     },
     "execution_count": 4,
     "metadata": {},
     "output_type": "execute_result"
    }
   ],
   "source": [
    "df['date_added'] = pd.to_datetime(df['date_added'], format='mixed')\n",
    "df.dtypes"
   ]
  },
  {
   "cell_type": "code",
   "execution_count": 5,
   "metadata": {},
   "outputs": [
    {
     "name": "stdout",
     "output_type": "stream",
     "text": [
      "Show id:  ['s1' 's2' 's3' ... 's8805' 's8806' 's8807']\n",
      "Total unique value:  8807\n"
     ]
    }
   ],
   "source": [
    "print('Show id: ', df['show_id'].unique())\n",
    "print('Total unique value: ', df['show_id'].nunique())"
   ]
  },
  {
   "cell_type": "code",
   "execution_count": 6,
   "metadata": {},
   "outputs": [
    {
     "name": "stdout",
     "output_type": "stream",
     "text": [
      "Type:  ['Movie' 'TV Show']\n",
      "Total unique value:  2\n"
     ]
    }
   ],
   "source": [
    "print('Type: ', df['type'].unique())\n",
    "print('Total unique value: ', df['type'].nunique())"
   ]
  },
  {
   "cell_type": "code",
   "execution_count": 7,
   "metadata": {},
   "outputs": [
    {
     "name": "stdout",
     "output_type": "stream",
     "text": [
      "Title:  ['Dick Johnson Is Dead' 'Blood & Water' 'Ganglands' ... 'Zombieland'\n",
      " 'Zoom' 'Zubaan']\n",
      "Total unique value:  8804\n"
     ]
    }
   ],
   "source": [
    "print('Title: ', df['title'].unique())\n",
    "print('Total unique value: ', df['title'].nunique())"
   ]
  },
  {
   "cell_type": "code",
   "execution_count": 8,
   "metadata": {},
   "outputs": [
    {
     "name": "stdout",
     "output_type": "stream",
     "text": [
      "Director:  ['Kirsten Johnson' nan 'Julien Leclercq' ... 'Majid Al Ansari'\n",
      " 'Peter Hewitt' 'Mozez Singh']\n",
      "Total unique value:  4528\n"
     ]
    }
   ],
   "source": [
    "print('Director: ', df['director'].unique())\n",
    "print('Total unique value: ', df['director'].nunique())"
   ]
  },
  {
   "cell_type": "code",
   "execution_count": 9,
   "metadata": {},
   "outputs": [
    {
     "name": "stdout",
     "output_type": "stream",
     "text": [
      "Cast:  [nan\n",
      " 'Ama Qamata, Khosi Ngema, Gail Mabalane, Thabang Molaba, Dillon Windvogel, Natasha Thahane, Arno Greeff, Xolile Tshabalala, Getmore Sithole, Cindy Mahlangu, Ryle De Morny, Greteli Fincham, Sello Maake Ka-Ncube, Odwa Gwanya, Mekaila Mathys, Sandi Schultz, Duane Williams, Shamilla Miller, Patrick Mofokeng'\n",
      " 'Sami Bouajila, Tracy Gotoas, Samuel Jouy, Nabiha Akkari, Sofia Lesaffre, Salim Kechiouche, Noureddine Farihi, Geert Van Rampelberg, Bakary Diombera'\n",
      " ...\n",
      " 'Jesse Eisenberg, Woody Harrelson, Emma Stone, Abigail Breslin, Amber Heard, Bill Murray, Derek Graf'\n",
      " 'Tim Allen, Courteney Cox, Chevy Chase, Kate Mara, Ryan Newman, Michael Cassidy, Spencer Breslin, Rip Torn, Kevin Zegers'\n",
      " 'Vicky Kaushal, Sarah-Jane Dias, Raaghav Chanana, Manish Chaudhary, Meghna Malik, Malkeet Rauni, Anita Shabdish, Chittaranjan Tripathy']\n",
      "Total unique value:  7692\n"
     ]
    }
   ],
   "source": [
    "print('Cast: ', df['cast'].unique())\n",
    "print('Total unique value: ', df['cast'].nunique())"
   ]
  },
  {
   "cell_type": "code",
   "execution_count": 10,
   "metadata": {},
   "outputs": [
    {
     "name": "stdout",
     "output_type": "stream",
     "text": [
      "Country:  ['United States' 'South Africa' nan 'India'\n",
      " 'United States, Ghana, Burkina Faso, United Kingdom, Germany, Ethiopia'\n",
      " 'United Kingdom' 'Germany, Czech Republic' 'Mexico' 'Turkey' 'Australia'\n",
      " 'United States, India, France' 'Finland' 'China, Canada, United States'\n",
      " 'South Africa, United States, Japan' 'Nigeria' 'Japan'\n",
      " 'Spain, United States' 'France' 'Belgium' 'United Kingdom, United States'\n",
      " 'United States, United Kingdom' 'France, United States' 'South Korea'\n",
      " 'Spain' 'United States, Singapore' 'United Kingdom, Australia, France'\n",
      " 'United Kingdom, Australia, France, United States'\n",
      " 'United States, Canada' 'Germany, United States'\n",
      " 'South Africa, United States' 'United States, Mexico'\n",
      " 'United States, Italy, France, Japan'\n",
      " 'United States, Italy, Romania, United Kingdom'\n",
      " 'Australia, United States' 'Argentina, Venezuela'\n",
      " 'United States, United Kingdom, Canada' 'China, Hong Kong' 'Russia'\n",
      " 'Canada' 'Hong Kong' 'United States, China, Hong Kong'\n",
      " 'Italy, United States' 'United States, Germany'\n",
      " 'United Kingdom, Canada, United States' ', South Korea' 'Ireland'\n",
      " 'India, Nepal' 'New Zealand, Australia, France, United States' 'Italy'\n",
      " 'Italy, Brazil, Greece' 'Argentina' 'Jordan' 'Colombia'\n",
      " 'United States, Japan' 'Belgium, United Kingdom'\n",
      " 'Switzerland, United Kingdom, Australia' 'Israel, United States'\n",
      " 'Canada, United States' 'Brazil' 'Argentina, Spain' 'Taiwan'\n",
      " 'United States, Nigeria' 'Bulgaria, United States'\n",
      " 'Spain, United Kingdom, United States' 'United States, China'\n",
      " 'United States, France' 'Spain, France, United Kingdom, United States'\n",
      " ', France, Algeria' 'Poland' 'Germany'\n",
      " 'France, Israel, Germany, United States, United Kingdom' 'New Zealand'\n",
      " 'Saudi Arabia' 'Thailand' 'Indonesia' 'Egypt, Denmark, Germany'\n",
      " 'United States, Switzerland' 'Hong Kong, Canada, United States'\n",
      " 'Kuwait, United States' 'France, Canada, United States, Spain'\n",
      " 'France, Netherlands, Singapore' 'France, Belgium'\n",
      " 'Ireland, United States, United Kingdom' 'Egypt' 'Malaysia' 'Israel'\n",
      " 'Australia, New Zealand' 'United Kingdom, Germany' 'Belgium, Netherlands'\n",
      " 'South Korea, Czech Republic' 'Australia, Germany' 'Vietnam'\n",
      " 'United Kingdom, Belgium' 'United Kingdom, Australia, United States'\n",
      " 'France, Japan, United States'\n",
      " 'United Kingdom, Germany, Spain, United States'\n",
      " 'United Kingdom, United States, France, Italy'\n",
      " 'United States, Germany, Canada'\n",
      " 'United States, France, Italy, United Kingdom'\n",
      " 'United States, United Kingdom, Germany, Hungary'\n",
      " 'United States, New Zealand' 'Sweden' 'China' 'Lebanon' 'Romania'\n",
      " 'Finland, Germany' 'Lebanon, Syria' 'Philippines' 'Iceland' 'Denmark'\n",
      " 'United States, India' 'Philippines, Singapore, Indonesia'\n",
      " 'China, United States, Canada' 'Lebanon, United Arab Emirates'\n",
      " 'Canada, United States, Denmark' 'United Arab Emirates'\n",
      " 'Mexico, France, Colombia' 'Netherlands' 'Germany, United States, France'\n",
      " 'United States, Bulgaria'\n",
      " 'United Kingdom, France, Germany, United States' 'Norway, Denmark'\n",
      " 'Syria, France, Lebanon, Qatar' 'United States, Czech Republic'\n",
      " 'Mauritius' 'Canada, South Africa' 'Austria' 'Mexico, Brazil'\n",
      " 'Germany, France' 'Mexico, United States'\n",
      " 'United Kingdom, France, Spain, United States' 'United States, Australia'\n",
      " 'United States, United Kingdom, France' 'United States, Russia'\n",
      " 'United States, United Kingdom, New Zealand' 'Australia, United Kingdom'\n",
      " 'Canada, Nigeria, United States'\n",
      " 'France, United States, United Kingdom, Canada' 'France, United Kingdom'\n",
      " 'India, United Kingdom' 'Canada, United States, Mexico'\n",
      " 'United Kingdom, Germany, United States'\n",
      " 'Czech Republic, United Kingdom, United States' 'China, United Kingdom'\n",
      " 'Italy, United Kingdom' 'China, Taiwan'\n",
      " 'United States, Brazil, Japan, Spain, India'\n",
      " 'United States, China, United Kingdom' 'Cameroon'\n",
      " 'Lebanon, Palestine, Denmark, Qatar' 'Japan, United States'\n",
      " 'Uruguay, Germany' 'Egypt, Saudi Arabia'\n",
      " 'United Kingdom, France, Poland, Germany, United States'\n",
      " 'Ireland, Switzerland, United Kingdom, France, United States'\n",
      " 'United Kingdom, South Africa, France'\n",
      " 'Ireland, United Kingdom, France, Germany' 'Russia, United States'\n",
      " 'United Kingdom, United States, France' 'United Kingdom,'\n",
      " 'United States, India, United Kingdom' 'Kenya' 'Spain, Argentina'\n",
      " 'India, United Kingdom, France, Qatar' 'Belgium, France'\n",
      " 'Argentina, Chile' 'United States, Thailand' 'Chile, Brazil'\n",
      " 'United States, Colombia' 'Canada, United States, United Kingdom'\n",
      " 'Uruguay' 'Luxembourg' 'United States, Cambodia, Romania' 'Bangladesh'\n",
      " 'Spain, Belgium, United States'\n",
      " 'United Kingdom, United States, Australia'\n",
      " 'Canada, United States, France' 'Portugal, United States'\n",
      " 'Portugal, Spain' 'India, United States' 'United Kingdom, Ireland'\n",
      " 'United Kingdom, Spain, United States' 'Hungary, United States'\n",
      " 'United States, South Korea' 'Canada, United States, Cayman Islands'\n",
      " 'India, France' 'France, Canada' 'Canada, Hungary, United States'\n",
      " 'Norway' 'Canada, United Kingdom, United States'\n",
      " 'United Kingdom, Germany, France, United States' 'Denmark, United States'\n",
      " 'Senegal' 'France, Algeria'\n",
      " 'United Kingdom, Finland, Germany, United States, Australia, Japan, France, Ireland'\n",
      " 'Philippines, Canada, United Kingdom, United States'\n",
      " 'Ireland, France, Iceland, United States, Mexico, Belgium, United Kingdom, Hong Kong'\n",
      " 'Singapore' 'Kuwait' 'United States, France, Serbia'\n",
      " 'United States, Italy' 'Spain, Italy'\n",
      " 'United States, Ireland, United Kingdom, India'\n",
      " 'United Kingdom, Singapore' 'Hong Kong, United States'\n",
      " 'United States, Malta, France, United Kingdom'\n",
      " 'United States, China, Canada' 'Canada, United States, Ireland'\n",
      " 'Lebanon, Canada, France' 'Japan, Canada, United States'\n",
      " 'Spain, France, Canada' 'Denmark, Singapore, Canada, United States'\n",
      " 'United States, France, Denmark' 'United States, China, Colombia'\n",
      " 'Spain, Thailand, United States' 'Mexico, Spain'\n",
      " 'Ireland, Luxembourg, Belgium' 'China, United States' 'Canada, Belgium'\n",
      " 'Canada, United Kingdom'\n",
      " 'Lebanon, United Arab Emirates, France, Switzerland, Germany'\n",
      " 'France, Belgium, Italy' 'Lebanon, United States, United Arab Emirates'\n",
      " 'Lebanon, France' 'France, Lebanon' 'France, Lebanon, United Kingdom'\n",
      " 'France, Norway, Lebanon, Belgium'\n",
      " 'Sweden, Czech Republic, United Kingdom, Denmark, Netherlands'\n",
      " 'United States, United Kingdom, India' 'Indonesia, Netherlands'\n",
      " 'Turkey, South Korea' 'Serbia, United States' 'Namibia'\n",
      " 'United Kingdom, Kenya' 'United Kingdom, France, Germany, Spain'\n",
      " 'United Kingdom, France, United States, Belgium, Luxembourg, China, Germany'\n",
      " 'Thailand, United States' 'United States, France, Canada, Belgium'\n",
      " 'United Kingdom, China' 'Germany, China, United Kingdom'\n",
      " 'Australia, New Zealand, United States'\n",
      " 'Hong Kong, Iceland, United States' 'France, Australia, Germany'\n",
      " 'United States, Belgium, Canada, France' 'South Africa, Angola'\n",
      " 'United States, Philippines'\n",
      " 'United States, United Kingdom, Canada, China'\n",
      " 'United States, Canada, United Kingdom' 'Turkey, United States'\n",
      " 'Peru, Germany, Norway' 'Mozambique' 'Brazil, France'\n",
      " 'China, Spain, South Korea, United States' 'Spain, Germany'\n",
      " 'Hong Kong, China' 'France, Belgium, Luxembourg, Cambodia,'\n",
      " 'United Kingdom, Australia' 'Belarus' 'Indonesia, United Kingdom'\n",
      " 'Switzerland, France, Belgium, United States' 'Ghana'\n",
      " 'Spain, France, Canada, United States' 'Chile, Italy'\n",
      " 'United Kingdom, Nigeria' 'Chile' 'France, Egypt' 'Egypt, France'\n",
      " 'France, Brazil, Spain, Belgium' 'Egypt, Algeria'\n",
      " 'Canada, South Korea, United States' 'Nigeria, United Kingdom'\n",
      " 'United States, France, Canada' 'Poland, United States'\n",
      " 'United Arab Emirates, Jordan, Lebanon, Saudi Arabia'\n",
      " 'United States, Mexico, Spain, Malta'\n",
      " 'Saudi Arabia, United Arab Emirates' 'Zimbabwe'\n",
      " 'United Kingdom, Germany, United Arab Emirates, New Zealand'\n",
      " 'Romania, United States' 'Canada, Nigeria'\n",
      " 'Saudi Arabia, Netherlands, Germany, Jordan, United Arab Emirates, United States'\n",
      " 'United Kingdom, Spain' 'Finland, France'\n",
      " 'United Kingdom, Germany, United States, France'\n",
      " 'India, United Kingdom, China, Canada, Japan, South Korea, United States'\n",
      " 'Italy, United Kingdom, France' 'United States, Mexico, Colombia'\n",
      " 'Turkey, India' 'Italy, Turkey' 'United Kingdom, United States, Japan'\n",
      " 'France, Belgium, United States' 'Puerto Rico, United States, Colombia'\n",
      " 'Uruguay, Argentina' 'United States, United Kingdom, Japan'\n",
      " 'United States, Argentina' 'United Kingdom, Italy'\n",
      " 'Ireland, United Kingdom'\n",
      " 'United Kingdom, France, Belgium, Canada, United States'\n",
      " 'Netherlands, Germany, Denmark, United Kingdom' 'Hungary'\n",
      " 'Austria, Germany' 'Taiwan, China'\n",
      " 'United Kingdom, United States, Ireland' 'South Korea, United States'\n",
      " 'Brazil, United Kingdom' 'Pakistan, United States'\n",
      " 'Romania, France, Switzerland, Germany' 'Romania, United Kingdom'\n",
      " 'France, Malta, United States' 'Cyprus'\n",
      " 'United Kingdom, France, Belgium, Ireland, United States'\n",
      " 'United States, Norway, Canada' 'Kenya, United States'\n",
      " 'France, South Korea, Japan, United States' 'Taiwan, Malaysia'\n",
      " 'Uruguay, Argentina, Germany, Spain'\n",
      " 'United States, United Kingdom, France, Germany, Japan'\n",
      " 'United States, France, Japan' 'United Kingdom, France, United States'\n",
      " 'Spain, France, United States' 'Indonesia, South Korea, Singapore'\n",
      " 'United States, Spain' 'Netherlands, Germany, Italy, Canada'\n",
      " 'Spain, Germany, Denmark, United States' 'Norway, Sweden'\n",
      " 'South Korea, Canada, United States, China' 'Argentina, Uruguay, Serbia'\n",
      " 'France, Japan' 'Mauritius, South Africa' 'United States, Poland'\n",
      " 'United Kingdom, United States, Germany, Denmark, Belgium, Japan'\n",
      " 'India, Germany' 'India, United Kingdom, Canada, United States'\n",
      " 'Philippines, United States' 'Romania, Bulgaria, Hungary'\n",
      " 'Uruguay, Guatemala' 'France, Senegal, Belgium' 'United Kingdom, Canada'\n",
      " 'Mexico, United States, Spain, Colombia' 'Canada, Norway'\n",
      " 'Singapore, United States' 'Finland, Germany, Belgium'\n",
      " 'United Kingdom, France' 'United States, Chile'\n",
      " 'United Kingdom, Japan, United States' 'Spain, United Kingdom'\n",
      " 'Argentina, United States, Mexico' 'United States, South Korea, Japan'\n",
      " 'Canada, Australia' 'United Kingdom, Hungary, Australia' 'Italy, Belgium'\n",
      " 'United States, United Kingdom, Germany' 'Switzerland'\n",
      " 'Singapore, Malaysia'\n",
      " 'France, Belgium, Luxembourg, Romania, Canada, United States'\n",
      " 'South Africa, Nigeria' 'Spain, France' 'United Kingdom, Hong Kong'\n",
      " 'Pakistan' 'Brazil, United States'\n",
      " 'Denmark, Brazil, France, Portugal, Sweden' 'India, Turkey'\n",
      " 'Malaysia, Singapore, Hong Kong' 'Philippines, Singapore'\n",
      " 'Australia, Canada' 'Taiwan, China, France, United States'\n",
      " 'Germany, Italy' 'Colombia, Peru, United Kingdom'\n",
      " 'Thailand, China, United States' 'Argentina, United States'\n",
      " 'Sweden, United States' 'Uruguay, Spain, Mexico'\n",
      " 'France, Luxembourg, Canada' 'Denmark, Spain' 'Chile, Argentina'\n",
      " 'United Kingdom, Belgium, Sweden' 'Canada, Brazil' 'Italy, France'\n",
      " 'Canada, Germany' 'Pakistan, United Arab Emirates' 'Ghana, United States'\n",
      " 'Mexico, Finland' 'United Arab Emirates, United Kingdom, India'\n",
      " 'Netherlands, Belgium' 'United States, Taiwan'\n",
      " 'Austria, Iraq, United States' 'United Kingdom, Malawi'\n",
      " 'Paraguay, Argentina' 'United Kingdom, Russia, United States'\n",
      " 'India, Pakistan' 'Indonesia, Singapore' 'Spain, Belgium'\n",
      " 'Iceland, Sweden, Belgium' 'Croatia' 'Uruguay, Argentina, Spain'\n",
      " 'United Kingdom, Ireland, United States'\n",
      " 'Canada, Germany, France, United States' 'United Kingdom, Japan'\n",
      " 'Norway, Denmark, Netherlands, Sweden' 'Hong Kong, China, United States'\n",
      " 'Ireland, Canada' 'Italy, Switzerland, France, Germany'\n",
      " 'Mexico, Netherlands' 'United States, Sweden' 'Germany, France, Russia'\n",
      " 'France, Iran, United States' 'United Kingdom, India'\n",
      " 'Russia, Poland, Serbia' 'Spain, Portugal' 'Peru' 'Mexico, Argentina'\n",
      " 'United Kingdom, Canada, United States, Cayman Islands'\n",
      " 'Indonesia, United States'\n",
      " 'United States, Israel, United Kingdom, Canada'\n",
      " 'Norway, Iceland, United States' 'Czech Republic, United States'\n",
      " 'United Kingdom, India, United States' 'United Kingdom, West Germany'\n",
      " 'India, Australia' 'United States,'\n",
      " 'Belgium, United Kingdom, United States' 'India, Germany, Austria'\n",
      " 'United States, Brazil, South Korea, Mexico, Japan, Germany'\n",
      " 'Spain, Mexico' 'China, Japan' 'Argentina, France'\n",
      " 'China, United States, United Kingdom'\n",
      " 'France, Luxembourg, United States' 'China, United States, Australia'\n",
      " 'Colombia, Mexico' 'United States, Canada, Ireland' 'Chile, Peru'\n",
      " 'Argentina, Italy' 'Canada, Japan, United States'\n",
      " 'United Kingdom, Canada, United States, Germany'\n",
      " 'Italy, Switzerland, Albania, Poland' 'United States, Japan, Canada'\n",
      " 'Cambodia' 'Italy, United States, Argentina'\n",
      " 'Saudi Arabia, Syria, Egypt, Lebanon, Kuwait'\n",
      " 'United States, Canada, Indonesia, United Kingdom, China, Singapore'\n",
      " 'Spain, Colombia'\n",
      " 'United Kingdom, South Africa, Australia, United States' 'Bulgaria'\n",
      " 'Argentina, Brazil, France, Poland, Germany, Denmark'\n",
      " 'United Kingdom, Spain, United States, Germany' 'Philippines, Qatar'\n",
      " 'Netherlands, Belgium, Germany, Jordan'\n",
      " 'United Arab Emirates, United States' 'Norway, Germany, Sweden'\n",
      " 'South Korea, China' 'Georgia' 'Soviet Union, India'\n",
      " 'Australia, United Arab Emirates' 'Canada, Germany, South Africa'\n",
      " 'South Korea, China, United States' 'India, Soviet Union' 'India, Mexico'\n",
      " 'Georgia, Germany, France' 'United Arab Emirates, Romania'\n",
      " 'India, Malaysia' 'Germany, Jordan, Netherlands'\n",
      " 'Turkey, France, Germany, Poland' 'Greece, United States'\n",
      " 'France, United Kingdom, United States' 'Norway, Germany'\n",
      " 'France, Morocco' 'Cambodia, United States' 'United States, Denmark'\n",
      " 'United States, Colombia, Mexico'\n",
      " 'United Kingdom, Italy, Israel, Peru, United States'\n",
      " 'Argentina, Uruguay, Spain, France'\n",
      " 'United Kingdom, France, United States, Belgium'\n",
      " 'France, Canada, China, Cambodia'\n",
      " 'United Kingdom, France, Belgium, United States' 'Chile, France'\n",
      " 'Netherlands, United States' 'France, United Kingdom, India'\n",
      " 'Czech Republic, Slovakia' 'Singapore, France' 'Spain, Switzerland'\n",
      " 'United States, Australia, China' 'South Africa, United States, Germany'\n",
      " 'United States, United Kingdom, Australia' 'Spain, Italy, Argentina'\n",
      " 'Chile, Spain, Argentina, Germany' 'West Germany'\n",
      " 'Austria, Czech Republic' 'Lebanon, Qatar'\n",
      " 'United Kingdom, Jordan, Qatar, Iran' 'France, South Korea, Japan'\n",
      " 'Israel, Germany, France' 'Canada, Japan, Netherlands'\n",
      " 'United States, Hungary' 'France, Germany' 'France, Qatar'\n",
      " 'United Kingdom, Germany, Canada' 'Ireland, South Africa'\n",
      " 'Chile, United States, France' 'Belgium, France, Netherlands'\n",
      " 'United Kingdom, Ukraine, United States'\n",
      " 'Germany, Australia, France, China' 'Norway, United States'\n",
      " 'United States, Bermuda, Ecuador'\n",
      " 'United States, Hungary, Ireland, Canada'\n",
      " 'United Kingdom, Egypt, United States'\n",
      " 'United States, France, United Kingdom' 'Spain, Mexico, France'\n",
      " 'United States, South Africa' 'Hong Kong, China, Singapore'\n",
      " 'South Africa, China, United States' 'Denmark, France, Poland'\n",
      " 'New Zealand, United Kingdom' 'Netherlands, Denmark, South Africa'\n",
      " 'Iran, France' 'United Kingdom, United States, France, Germany'\n",
      " 'Australia, France' 'Ireland, United Kingdom, United States'\n",
      " 'United Kingdom, France, Germany' 'Canada, Luxembourg'\n",
      " 'Brazil, Netherlands, United States, Colombia, Austria, Germany'\n",
      " 'France, Canada, Belgium' 'Canada, France'\n",
      " 'Bulgaria, United States, Spain, Canada' 'Sweden, Netherlands'\n",
      " 'France, United States, Mexico'\n",
      " 'Australia, United Kingdom, United Arab Emirates, Canada'\n",
      " 'Australia, Armenia, Japan, Jordan, Mexico, Mongolia, New Zealand, Philippines, South Africa, Sweden, United States, Uruguay'\n",
      " 'India, Iran' 'France, Belgium, Spain'\n",
      " 'Denmark, Sweden, Israel, United States' 'United States, Iceland'\n",
      " 'United Kingdom, Russia' 'United States, Israel, Italy, South Africa'\n",
      " 'Netherlands, Denmark, France, Germany' 'South Korea, Japan'\n",
      " 'United Kingdom, Pakistan' 'France, New Zealand'\n",
      " 'United Kingdom, Czech Republic, United States, Germany, Bahamas'\n",
      " 'China, Germany, India, United States' 'Germany, Sri Lanka'\n",
      " 'United States, India, Bangladesh' 'United States, Canada, France'\n",
      " 'Brazil, France, Germany' 'Germany, United States, Hong Kong, Singapore'\n",
      " 'France, Germany, Switzerland'\n",
      " 'Germany, France, Luxembourg, United Kingdom, United States'\n",
      " 'United Kingdom, Canada, Italy' 'Czech Republic, France'\n",
      " 'Taiwan, Hong Kong, United States, China' 'Germany, Australia'\n",
      " 'United Kingdom, Poland, United States' 'Denmark, Zimbabwe'\n",
      " 'United Kingdom, South Africa' 'Finland, Sweden, Norway, Latvia, Germany'\n",
      " 'South Africa, United States, New Zealand, Canada'\n",
      " 'United States, Italy, United Kingdom, Liechtenstein'\n",
      " 'Denmark, France, Belgium, Italy, Netherlands, United States, United Kingdom'\n",
      " 'United States, Australia, Mexico'\n",
      " 'United Kingdom, Czech Republic, Germany, United States'\n",
      " 'France, China, Japan, United States' 'United States, South Korea, China'\n",
      " 'Germany, Belgium' 'Pakistan, Norway, United States'\n",
      " 'United States, Canada, Belgium, United Kingdom' 'Venezuela'\n",
      " 'Canada, France, Italy, Morocco, United States' 'Canada, Spain, France'\n",
      " 'United States, Indonesia' 'Spain, France, Italy'\n",
      " 'United Arab Emirates, United States, United Kingdom'\n",
      " 'United Kingdom, Israel, Russia' 'Spain, Cuba' 'United States, Brazil'\n",
      " 'United States, France, Mexico' 'United States, Nicaragua'\n",
      " 'United Kingdom, United States, Spain, Germany, Greece, Canada'\n",
      " 'Italy, Canada, France' 'United Kingdom, Denmark, Canada, Croatia'\n",
      " 'Italy, Germany' 'United States, France, United Kingdom, Japan'\n",
      " 'United States, United Kingdom, Denmark, Sweden'\n",
      " 'United States, United Kingdom, Italy'\n",
      " 'United States, France, Canada, Spain' 'Russia, United States, China'\n",
      " 'United States, Canada, Germany' 'Ireland, United States'\n",
      " 'United States, United Arab Emirates' 'United States, Ireland'\n",
      " 'Ireland, United Kingdom, Italy, United States' 'Poland,'\n",
      " 'Slovenia, Croatia, Germany, Czech Republic, Qatar'\n",
      " 'Canada, United Kingdom, Netherlands' 'United States, Spain, Germany'\n",
      " 'India, Japan' 'China, South Korea, United States'\n",
      " 'United Kingdom, France, Belgium' 'Canada, Ireland, United States'\n",
      " 'United Kingdom, United States, Dominican Republic'\n",
      " 'United States, Senegal' 'Germany, United Kingdom, United States'\n",
      " 'South Africa, Germany, Netherlands, France'\n",
      " 'Canada, United States, United Kingdom, France, Luxembourg'\n",
      " 'Ireland, United States, France' 'Germany, United States, Canada'\n",
      " 'United Kingdom, Germany, Canada, United States'\n",
      " 'United States, France, Canada, Lebanon, Qatar'\n",
      " 'Netherlands, Belgium, United Kingdom, United States'\n",
      " 'France, Belgium, China, United States' 'United States, Chile, Israel'\n",
      " 'United Kingdom, Norway, Denmark, Germany, Sweden'\n",
      " 'Norway, Denmark, Sweden' 'China, India, Nepal'\n",
      " 'Colombia, Mexico, United States' 'United Kingdom, South Korea'\n",
      " 'Denmark, China' 'United States, Greece, Brazil' 'South Korea, France'\n",
      " 'United States, Australia, Samoa, United Kingdom'\n",
      " 'Germany, United Kingdom' 'Argentina, Chile, Peru' 'Turkey, Azerbaijan'\n",
      " 'Poland, West Germany' 'Germany, United States, Sweden' 'Canada, Spain'\n",
      " 'United States, Cambodia' 'United States, Greece'\n",
      " 'Norway, United Kingdom, France, Ireland' 'United Kingdom, Poland'\n",
      " 'Israel, Sweden, Germany, Netherlands' 'Switzerland, France'\n",
      " 'Italy, India' 'United States, Botswana'\n",
      " 'Chile, Argentina, France, Spain, United States'\n",
      " 'United States, India, South Korea, China'\n",
      " 'Denmark, Germany, Belgium, United Kingdom, France'\n",
      " 'Denmark, Germany, Belgium, United Kingdom, France, Sweden'\n",
      " 'France, Switzerland, Spain, United States, United Arab Emirates'\n",
      " 'Brazil, India, China, United States'\n",
      " 'Denmark, France, United States, Sweden' 'Australia, Iraq'\n",
      " 'China, Morocco, Hong Kong' 'Canada, United States, Germany'\n",
      " 'United Kingdom, Thailand' 'Venezuela, Colombia'\n",
      " 'Colombia, United States' 'France, Germany, Czech Republic, Belgium'\n",
      " 'Switzerland, Vatican City, Italy, Germany, France'\n",
      " 'Portugal, France, Poland, United States'\n",
      " 'United States, New Zealand, Japan'\n",
      " 'United States, Netherlands, Japan, France' 'India, Switzerland'\n",
      " 'Canada, India' 'United States, Morocco' 'Singapore, Japan, France'\n",
      " 'Canada, Mexico, Germany, South Africa'\n",
      " 'United Kingdom, United States, Canada'\n",
      " 'Germany, France, United States, Canada, United Kingdom'\n",
      " 'United States, Uruguay' 'India, Canada'\n",
      " 'Ireland, Canada, United Kingdom, United States'\n",
      " 'United States, Germany, Australia' 'Australia, France, Ireland'\n",
      " 'Australia, India' 'United States, United Kingdom, Canada, Japan'\n",
      " 'Sweden, United Kingdom, Finland' 'Hong Kong, Taiwan'\n",
      " 'United States, United Kingdom, Spain, South Korea' 'Guatemala' 'Ukraine'\n",
      " 'Italy, South Africa, West Germany, Australia, United States'\n",
      " 'United States, Germany, United Kingdom, Australia'\n",
      " 'Italy, France, Switzerland' 'Canada, France, United States'\n",
      " 'Switzerland, United States' 'Thailand, Canada, United States'\n",
      " 'China, Hong Kong, United States' 'United Kingdom, New Zealand'\n",
      " 'Czech Republic, United Kingdom, France'\n",
      " 'Australia, United Kingdom, Canada' 'Jamaica, United States'\n",
      " 'Australia, United Kingdom, United States, New Zealand, Italy, France'\n",
      " 'France, United States, Canada'\n",
      " 'United Kingdom, France, Canada, Belgium, United States'\n",
      " 'Denmark, United Kingdom, Sweden' 'United States, Hong Kong'\n",
      " 'United States, Kazakhstan'\n",
      " 'Argentina, France, United States, Germany, Qatar'\n",
      " 'United States, Germany, United Kingdom'\n",
      " 'United States, Germany, United Kingdom, Italy'\n",
      " 'United States, New Zealand, United Kingdom' 'Finland, United States'\n",
      " 'Spain, France, Uruguay' 'France, Canada, United States'\n",
      " 'United States, Canada, China'\n",
      " 'Ireland, Canada, Luxembourg, United States, United Kingdom, Philippines, India'\n",
      " 'United States, Czech Republic, United Kingdom' 'Israel, Germany'\n",
      " 'Mexico, France'\n",
      " 'Israel, Germany, Poland, Luxembourg, Belgium, France, United States'\n",
      " 'Austria, United States' 'United Kingdom, Lithuania'\n",
      " 'United States, Greece, United Kingdom'\n",
      " 'United Kingdom, China, United States, India'\n",
      " 'United States, Sweden, Norway' 'United Kingdom, United States, Morocco'\n",
      " 'United States, United Kingdom, Morocco' 'Spain, Canada, United States'\n",
      " 'United States, India, United Arab Emirates'\n",
      " 'United Kingdom, Canada, France, United States' 'India, Germany, France'\n",
      " 'Belgium, Ireland, Netherlands, Germany, Afghanistan'\n",
      " 'France, Canada, Italy, United States, China'\n",
      " 'Ireland, United Kingdom, Greece, France, Netherlands'\n",
      " 'Denmark, Indonesia, Finland, Norway, United Kingdom, Israel, France, United States, Germany, Netherlands'\n",
      " 'New Zealand, United States'\n",
      " 'United States, Australia, South Africa, United Kingdom'\n",
      " 'United States, Germany, Mexico'\n",
      " 'Somalia, Kenya, Sudan, South Africa, United States'\n",
      " 'United States, Canada, Japan, Panama' 'United Kingdom, Spain, Belgium'\n",
      " 'Serbia, South Korea, Slovenia'\n",
      " 'Denmark, United Kingdom, South Africa, Sweden, Belgium'\n",
      " 'Germany, Canada, United States'\n",
      " 'Ireland, Canada, United States, United Kingdom'\n",
      " 'New Zealand, United Kingdom, Australia'\n",
      " 'United Kingdom, Australia, Canada, United States'\n",
      " 'Germany, United States, Italy' 'United States, Venezuela'\n",
      " 'United Kingdom, Canada, Japan'\n",
      " 'United Kingdom, United States, Czech Republic'\n",
      " 'United Kingdom, China, United States' 'United Kingdom, Brazil, Germany'\n",
      " 'United Kingdom, Namibia, South Africa, Zimbabwe, United States'\n",
      " 'Canada, United States, India, United Kingdom'\n",
      " 'Switzerland, United Kingdom, United States'\n",
      " 'United Kingdom, India, Sweden'\n",
      " 'United States, Brazil, India, Uganda, China'\n",
      " 'Peru, United States, United Kingdom'\n",
      " 'Germany, United States, United Kingdom, Canada'\n",
      " 'Canada, India, Thailand, United States, United Arab Emirates'\n",
      " 'United States, East Germany, West Germany'\n",
      " 'France, Netherlands, South Africa, Finland'\n",
      " 'Egypt, Austria, United States' 'Russia, Spain'\n",
      " 'Croatia, Slovenia, Serbia, Montenegro' 'Japan, Canada'\n",
      " 'United States, France, South Korea, Indonesia'\n",
      " 'United Arab Emirates, Jordan']\n",
      "Total unique value:  748\n"
     ]
    }
   ],
   "source": [
    "print('Country: ', df['country'].unique())\n",
    "print('Total unique value: ', df['country'].nunique())"
   ]
  },
  {
   "cell_type": "code",
   "execution_count": 11,
   "metadata": {},
   "outputs": [
    {
     "name": "stdout",
     "output_type": "stream",
     "text": [
      "Date added from:  2008-01-01 00:00:00\n",
      "To:  2021-09-25 00:00:00\n"
     ]
    }
   ],
   "source": [
    "print('Date added from: ', df['date_added'].min())\n",
    "print('To: ', df['date_added'].max())"
   ]
  },
  {
   "cell_type": "code",
   "execution_count": 12,
   "metadata": {},
   "outputs": [
    {
     "name": "stdout",
     "output_type": "stream",
     "text": [
      "Release year from:  1925\n",
      "To:  2021\n"
     ]
    }
   ],
   "source": [
    "print('Release year from: ', df['release_year'].min())\n",
    "print('To: ', df['release_year'].max())"
   ]
  },
  {
   "cell_type": "code",
   "execution_count": 13,
   "metadata": {},
   "outputs": [
    {
     "name": "stdout",
     "output_type": "stream",
     "text": [
      "Rating:  ['PG-13' 'TV-MA' 'PG' 'TV-14' 'TV-PG' 'TV-Y' 'TV-Y7' 'R' 'TV-G' 'G'\n",
      " 'NC-17' 'NR' nan 'TV-Y7-FV' 'UR']\n",
      "Total unique value:  14\n"
     ]
    }
   ],
   "source": [
    "print('Rating: ', df['rating'].unique())\n",
    "print('Total unique value: ', df['rating'].nunique())"
   ]
  },
  {
   "cell_type": "code",
   "execution_count": 14,
   "metadata": {},
   "outputs": [
    {
     "name": "stdout",
     "output_type": "stream",
     "text": [
      "Duration:  ['90 min' '2 Seasons' '1 Season' '91 min' '125 min' '9 Seasons' '104 min'\n",
      " '127 min' '4 Seasons' '67 min' '94 min' '5 Seasons' '161 min' '61 min'\n",
      " '166 min' '147 min' '103 min' '97 min' '106 min' '111 min' '3 Seasons'\n",
      " '110 min' '105 min' '96 min' '124 min' '116 min' '98 min' '23 min'\n",
      " '115 min' '122 min' '99 min' '88 min' '100 min' '6 Seasons' '102 min'\n",
      " '93 min' '95 min' '85 min' '83 min' '113 min' '13 min' '182 min' '48 min'\n",
      " '145 min' '87 min' '92 min' '80 min' '117 min' '128 min' '119 min'\n",
      " '143 min' '114 min' '118 min' '108 min' '63 min' '121 min' '142 min'\n",
      " '154 min' '120 min' '82 min' '109 min' '101 min' '86 min' '229 min'\n",
      " '76 min' '89 min' '156 min' '112 min' '107 min' '129 min' '135 min'\n",
      " '136 min' '165 min' '150 min' '133 min' '70 min' '84 min' '140 min'\n",
      " '78 min' '7 Seasons' '64 min' '59 min' '139 min' '69 min' '148 min'\n",
      " '189 min' '141 min' '130 min' '138 min' '81 min' '132 min' '10 Seasons'\n",
      " '123 min' '65 min' '68 min' '66 min' '62 min' '74 min' '131 min' '39 min'\n",
      " '46 min' '38 min' '8 Seasons' '17 Seasons' '126 min' '155 min' '159 min'\n",
      " '137 min' '12 min' '273 min' '36 min' '34 min' '77 min' '60 min' '49 min'\n",
      " '58 min' '72 min' '204 min' '212 min' '25 min' '73 min' '29 min' '47 min'\n",
      " '32 min' '35 min' '71 min' '149 min' '33 min' '15 min' '54 min' '224 min'\n",
      " '162 min' '37 min' '75 min' '79 min' '55 min' '158 min' '164 min'\n",
      " '173 min' '181 min' '185 min' '21 min' '24 min' '51 min' '151 min'\n",
      " '42 min' '22 min' '134 min' '177 min' '13 Seasons' '52 min' '14 min'\n",
      " '53 min' '8 min' '57 min' '28 min' '50 min' '9 min' '26 min' '45 min'\n",
      " '171 min' '27 min' '44 min' '146 min' '20 min' '157 min' '17 min'\n",
      " '203 min' '41 min' '30 min' '194 min' '15 Seasons' '233 min' '237 min'\n",
      " '230 min' '195 min' '253 min' '152 min' '190 min' '160 min' '208 min'\n",
      " '180 min' '144 min' '5 min' '174 min' '170 min' '192 min' '209 min'\n",
      " '187 min' '172 min' '16 min' '186 min' '11 min' '193 min' '176 min'\n",
      " '56 min' '169 min' '40 min' '10 min' '3 min' '168 min' '312 min'\n",
      " '153 min' '214 min' '31 min' '163 min' '19 min' '12 Seasons' '179 min'\n",
      " '11 Seasons' '43 min' '200 min' '196 min' '167 min' '178 min' '228 min'\n",
      " '18 min' '205 min' '201 min' '191 min']\n",
      "Total unique value:  220\n"
     ]
    }
   ],
   "source": [
    "print('Duration: ', df['duration'].unique())\n",
    "print('Total unique value: ', df['duration'].nunique())"
   ]
  },
  {
   "cell_type": "code",
   "execution_count": 15,
   "metadata": {},
   "outputs": [
    {
     "name": "stdout",
     "output_type": "stream",
     "text": [
      "Listed in:  ['Documentaries' 'International TV Shows, TV Dramas, TV Mysteries'\n",
      " 'Crime TV Shows, International TV Shows, TV Action & Adventure'\n",
      " 'Docuseries, Reality TV'\n",
      " 'International TV Shows, Romantic TV Shows, TV Comedies'\n",
      " 'TV Dramas, TV Horror, TV Mysteries' 'Children & Family Movies'\n",
      " 'Dramas, Independent Movies, International Movies'\n",
      " 'British TV Shows, Reality TV' 'Comedies, Dramas'\n",
      " 'Crime TV Shows, Docuseries, International TV Shows'\n",
      " 'Dramas, International Movies' 'Children & Family Movies, Comedies'\n",
      " 'British TV Shows, Crime TV Shows, Docuseries' 'TV Comedies, TV Dramas'\n",
      " 'Documentaries, International Movies'\n",
      " 'Crime TV Shows, Spanish-Language TV Shows, TV Dramas' 'Thrillers'\n",
      " 'International TV Shows, Spanish-Language TV Shows, TV Action & Adventure'\n",
      " 'International TV Shows, TV Action & Adventure, TV Dramas'\n",
      " 'Comedies, International Movies'\n",
      " 'Comedies, International Movies, Romantic Movies'\n",
      " 'Docuseries, International TV Shows, Reality TV'\n",
      " 'Comedies, International Movies, Music & Musicals' 'Comedies'\n",
      " 'Horror Movies, Sci-Fi & Fantasy' 'TV Comedies'\n",
      " 'British TV Shows, International TV Shows, TV Comedies'\n",
      " 'International TV Shows, TV Dramas, TV Thrillers' \"Kids' TV\"\n",
      " 'Dramas, International Movies, Thrillers'\n",
      " 'Action & Adventure, Dramas, International Movies'\n",
      " \"Kids' TV, TV Comedies\" 'Action & Adventure, Dramas'\n",
      " \"Kids' TV, TV Sci-Fi & Fantasy\"\n",
      " 'Action & Adventure, Classic Movies, Dramas'\n",
      " 'Dramas, Horror Movies, Thrillers'\n",
      " 'Action & Adventure, Horror Movies, Thrillers' 'Action & Adventure'\n",
      " 'Dramas, Thrillers' 'International TV Shows, TV Dramas'\n",
      " 'International TV Shows, TV Dramas, TV Sci-Fi & Fantasy'\n",
      " 'Action & Adventure, Anime Features, International Movies' 'Reality TV'\n",
      " 'Docuseries, International TV Shows'\n",
      " 'Documentaries, International Movies, Sports Movies'\n",
      " 'International TV Shows, Reality TV, Romantic TV Shows'\n",
      " 'British TV Shows, Docuseries, International TV Shows'\n",
      " 'Anime Series, International TV Shows'\n",
      " 'Comedies, Dramas, International Movies'\n",
      " 'Crime TV Shows, TV Comedies, TV Dramas'\n",
      " 'Action & Adventure, Comedies, Dramas' \"Anime Series, Kids' TV\"\n",
      " 'International Movies, Thrillers' \"Kids' TV, Korean TV Shows\"\n",
      " 'Documentaries, Sports Movies' 'Sci-Fi & Fantasy, Thrillers'\n",
      " 'Dramas, International Movies, Romantic Movies'\n",
      " 'Documentaries, Music & Musicals'\n",
      " \"Kids' TV, TV Comedies, TV Sci-Fi & Fantasy\" \"British TV Shows, Kids' TV\"\n",
      " 'Docuseries, Science & Nature TV' 'Children & Family Movies, Dramas'\n",
      " \"Kids' TV, TV Dramas, Teen TV Shows\"\n",
      " 'Crime TV Shows, International TV Shows, Spanish-Language TV Shows'\n",
      " 'Docuseries, International TV Shows, Spanish-Language TV Shows' 'Dramas'\n",
      " 'Comedies, Romantic Movies' 'Dramas, Romantic Movies'\n",
      " 'Comedies, Dramas, Independent Movies'\n",
      " 'Crime TV Shows, TV Action & Adventure, TV Comedies'\n",
      " 'Children & Family Movies, Music & Musicals'\n",
      " 'Action & Adventure, Classic Movies, Cult Movies'\n",
      " 'International TV Shows, TV Action & Adventure, TV Comedies'\n",
      " 'Action & Adventure, Sci-Fi & Fantasy' 'Action & Adventure, Comedies'\n",
      " 'Classic Movies, Comedies, Dramas' 'Comedies, Cult Movies'\n",
      " 'Comedies, Cult Movies, Music & Musicals' 'Comedies, Music & Musicals'\n",
      " 'TV Shows' 'Action & Adventure, International Movies'\n",
      " 'Anime Series, International TV Shows, Teen TV Shows'\n",
      " 'Action & Adventure, Children & Family Movies, Cult Movies'\n",
      " 'Comedies, Dramas, Romantic Movies'\n",
      " 'Comedies, Cult Movies, Sci-Fi & Fantasy' 'Classic Movies, Dramas'\n",
      " 'Action & Adventure, Children & Family Movies, Comedies'\n",
      " 'Dramas, Faith & Spirituality' 'Documentaries, LGBTQ Movies'\n",
      " 'Action & Adventure, Classic Movies' 'Docuseries'\n",
      " 'International TV Shows, TV Comedies' 'Dramas, Independent Movies'\n",
      " 'Action & Adventure, Comedies, International Movies'\n",
      " 'International TV Shows, Spanish-Language TV Shows, TV Dramas'\n",
      " 'Crime TV Shows, International TV Shows, TV Dramas'\n",
      " 'Action & Adventure, Horror Movies, International Movies'\n",
      " 'Comedies, International Movies, Sci-Fi & Fantasy'\n",
      " 'Action & Adventure, International Movies, Music & Musicals'\n",
      " 'Dramas, International Movies, Music & Musicals'\n",
      " 'Horror Movies, International Movies' 'Reality TV, Teen TV Shows'\n",
      " 'Crime TV Shows, TV Dramas, TV Mysteries'\n",
      " 'International TV Shows, Reality TV'\n",
      " 'International TV Shows, TV Comedies, TV Dramas'\n",
      " 'Dramas, Independent Movies, Romantic Movies' 'Horror Movies'\n",
      " 'Documentaries, LGBTQ Movies, Sports Movies'\n",
      " 'Horror Movies, International Movies, Thrillers'\n",
      " 'Action & Adventure, Anime Features'\n",
      " 'TV Dramas, TV Mysteries, TV Sci-Fi & Fantasy'\n",
      " 'International TV Shows, Spanish-Language TV Shows, TV Comedies'\n",
      " 'Children & Family Movies, Comedies, Music & Musicals'\n",
      " 'Comedies, Independent Movies'\n",
      " 'Anime Series, International TV Shows, Romantic TV Shows'\n",
      " 'Classic Movies, Dramas, Independent Movies'\n",
      " 'International TV Shows, Romantic TV Shows, Spanish-Language TV Shows'\n",
      " 'International TV Shows, TV Dramas, Teen TV Shows' 'Stand-Up Comedy'\n",
      " 'Action & Adventure, Anime Features, Children & Family Movies'\n",
      " 'International TV Shows, Romantic TV Shows, TV Dramas'\n",
      " 'International Movies, Music & Musicals'\n",
      " 'TV Action & Adventure, TV Dramas, TV Mysteries'\n",
      " 'Horror Movies, Independent Movies, International Movies'\n",
      " 'Comedies, Cult Movies, International Movies'\n",
      " 'Classic Movies, Dramas, International Movies' 'Movies'\n",
      " 'Crime TV Shows, Docuseries'\n",
      " 'Children & Family Movies, Comedies, Sci-Fi & Fantasy'\n",
      " 'Anime Series, International TV Shows, TV Thrillers'\n",
      " 'Action & Adventure, Horror Movies, Sci-Fi & Fantasy'\n",
      " 'Classic Movies, Comedies, Cult Movies' 'TV Dramas, Teen TV Shows'\n",
      " 'Action & Adventure, Sci-Fi & Fantasy, Thrillers'\n",
      " 'Children & Family Movies, Comedies, Dramas' 'Dramas, Sports Movies'\n",
      " 'Action & Adventure, Dramas, Sci-Fi & Fantasy'\n",
      " 'Action & Adventure, Comedies, Cult Movies'\n",
      " 'Dramas, Independent Movies, Thrillers' 'TV Dramas, TV Sci-Fi & Fantasy'\n",
      " 'Action & Adventure, International Movies, Thrillers'\n",
      " 'British TV Shows, International TV Shows, Reality TV'\n",
      " 'TV Action & Adventure, TV Dramas, Teen TV Shows' 'Anime Series'\n",
      " 'Crime TV Shows, TV Action & Adventure, TV Sci-Fi & Fantasy'\n",
      " 'Crime TV Shows, International TV Shows, TV Comedies'\n",
      " 'Stand-Up Comedy & Talk Shows, TV Comedies'\n",
      " 'Classic & Cult TV, TV Action & Adventure, TV Dramas'\n",
      " 'Children & Family Movies, Sports Movies'\n",
      " 'TV Action & Adventure, TV Sci-Fi & Fantasy'\n",
      " 'Anime Series, Stand-Up Comedy & Talk Shows' 'TV Dramas'\n",
      " 'Anime Features, Children & Family Movies, International Movies'\n",
      " 'Classic & Cult TV, Crime TV Shows, International TV Shows'\n",
      " 'Crime TV Shows, International TV Shows, Romantic TV Shows'\n",
      " 'Horror Movies, LGBTQ Movies'\n",
      " 'Action & Adventure, Dramas, Romantic Movies'\n",
      " 'Documentaries, International Movies, Music & Musicals'\n",
      " 'TV Comedies, TV Dramas, Teen TV Shows'\n",
      " 'Children & Family Movies, Comedies, Sports Movies'\n",
      " 'Children & Family Movies, Dramas, International Movies'\n",
      " 'Comedies, Documentaries, International Movies'\n",
      " 'Romantic TV Shows, TV Dramas' 'Anime Series, TV Horror, TV Thrillers'\n",
      " 'International Movies, Romantic Movies'\n",
      " 'TV Action & Adventure, TV Dramas, TV Sci-Fi & Fantasy'\n",
      " \"Kids' TV, Korean TV Shows, TV Comedies\"\n",
      " 'British TV Shows, Crime TV Shows, International TV Shows'\n",
      " 'Crime TV Shows, TV Horror, TV Mysteries'\n",
      " 'Docuseries, International TV Shows, Science & Nature TV'\n",
      " 'British TV Shows, International TV Shows, TV Dramas'\n",
      " \"Kids' TV, TV Action & Adventure, TV Sci-Fi & Fantasy\"\n",
      " 'International Movies, Romantic Movies, Thrillers'\n",
      " 'Action & Adventure, Cult Movies, International Movies'\n",
      " 'Action & Adventure, Comedies, Sci-Fi & Fantasy'\n",
      " \"International TV Shows, Kids' TV, TV Mysteries\"\n",
      " 'Action & Adventure, Thrillers'\n",
      " 'Dramas, Faith & Spirituality, International Movies'\n",
      " 'Action & Adventure, Classic Movies, Comedies'\n",
      " 'Action & Adventure, Comedies, Sports Movies'\n",
      " 'Action & Adventure, Children & Family Movies, Classic Movies'\n",
      " 'Action & Adventure, Children & Family Movies, Dramas'\n",
      " 'Horror Movies, Thrillers' 'Action & Adventure, Romantic Movies'\n",
      " 'Dramas, Romantic Movies, Sci-Fi & Fantasy'\n",
      " 'Dramas, Music & Musicals, Romantic Movies'\n",
      " 'Anime Series, Crime TV Shows, International TV Shows'\n",
      " 'Reality TV, Romantic TV Shows'\n",
      " 'International Movies, Music & Musicals, Romantic Movies'\n",
      " 'Reality TV, TV Action & Adventure, TV Mysteries'\n",
      " 'Crime TV Shows, TV Dramas'\n",
      " 'International TV Shows, Reality TV, Spanish-Language TV Shows'\n",
      " 'Crime TV Shows, TV Dramas, TV Thrillers' 'British TV Shows, Docuseries'\n",
      " 'International TV Shows, Korean TV Shows, TV Comedies'\n",
      " 'Action & Adventure, Anime Features, Classic Movies'\n",
      " 'TV Action & Adventure, TV Dramas, TV Horror'\n",
      " 'Crime TV Shows, International TV Shows, TV Thrillers'\n",
      " 'Anime Series, Crime TV Shows, TV Horror' 'Anime Features, Documentaries'\n",
      " 'Comedies, Horror Movies'\n",
      " 'International TV Shows, Spanish-Language TV Shows, Stand-Up Comedy & Talk Shows'\n",
      " 'Children & Family Movies, Documentaries, International Movies'\n",
      " 'Romantic TV Shows, TV Comedies, TV Dramas'\n",
      " 'Dramas, Faith & Spirituality, Romantic Movies'\n",
      " 'Dramas, Independent Movies, LGBTQ Movies'\n",
      " 'Comedies, Independent Movies, LGBTQ Movies'\n",
      " 'Action & Adventure, Cult Movies, Sci-Fi & Fantasy'\n",
      " 'Cult Movies, Horror Movies' 'Action & Adventure, Dramas, Sports Movies'\n",
      " 'Anime Series, Romantic TV Shows, Teen TV Shows'\n",
      " 'Dramas, International Movies, LGBTQ Movies'\n",
      " 'Dramas, Romantic Movies, Thrillers'\n",
      " 'Children & Family Movies, Dramas, Faith & Spirituality'\n",
      " 'Dramas, International Movies, Sports Movies'\n",
      " 'Action & Adventure, Horror Movies'\n",
      " 'Documentaries, International Movies, LGBTQ Movies'\n",
      " 'Dramas, Independent Movies, Sci-Fi & Fantasy'\n",
      " 'Comedies, Independent Movies, International Movies'\n",
      " 'Reality TV, TV Horror, TV Thrillers'\n",
      " 'TV Action & Adventure, TV Horror, TV Sci-Fi & Fantasy'\n",
      " 'International TV Shows, TV Horror, TV Sci-Fi & Fantasy'\n",
      " 'Independent Movies, International Movies, Thrillers'\n",
      " 'Independent Movies, Thrillers' 'Documentaries, Dramas'\n",
      " 'Action & Adventure, Sports Movies'\n",
      " 'Dramas, International Movies, Sci-Fi & Fantasy'\n",
      " 'Comedies, Independent Movies, Romantic Movies'\n",
      " 'Horror Movies, Romantic Movies, Sci-Fi & Fantasy'\n",
      " 'International TV Shows, Stand-Up Comedy & Talk Shows'\n",
      " 'Action & Adventure, Anime Features, Horror Movies'\n",
      " 'Cult Movies, Dramas, Music & Musicals' 'TV Dramas, TV Thrillers'\n",
      " 'Crime TV Shows, International TV Shows, Korean TV Shows'\n",
      " 'TV Horror, TV Mysteries, TV Thrillers'\n",
      " 'Comedies, Horror Movies, International Movies'\n",
      " 'Crime TV Shows, Docuseries, TV Mysteries'\n",
      " 'Comedies, International Movies, Sports Movies'\n",
      " 'Classic Movies, Music & Musicals' 'Reality TV, TV Comedies, TV Horror'\n",
      " 'Children & Family Movies, Faith & Spirituality, Music & Musicals'\n",
      " 'International TV Shows, Korean TV Shows, Stand-Up Comedy & Talk Shows'\n",
      " 'Dramas, Music & Musicals'\n",
      " 'Docuseries, Science & Nature TV, TV Action & Adventure'\n",
      " \"British TV Shows, Kids' TV, TV Dramas\"\n",
      " 'International TV Shows, Korean TV Shows, Romantic TV Shows'\n",
      " 'Horror Movies, Independent Movies'\n",
      " \"Anime Series, Kids' TV, TV Action & Adventure\"\n",
      " 'Comedies, Dramas, Music & Musicals' 'TV Horror, Teen TV Shows'\n",
      " 'Comedies, LGBTQ Movies, Thrillers'\n",
      " 'Docuseries, Reality TV, Science & Nature TV'\n",
      " 'Crime TV Shows, Spanish-Language TV Shows, TV Action & Adventure'\n",
      " 'Romantic TV Shows, Teen TV Shows' 'TV Comedies, Teen TV Shows'\n",
      " 'Romantic TV Shows, TV Dramas, Teen TV Shows'\n",
      " 'Children & Family Movies, Sci-Fi & Fantasy'\n",
      " 'Romantic TV Shows, TV Action & Adventure, TV Dramas'\n",
      " 'Comedies, International Movies, LGBTQ Movies' 'Dramas, Sci-Fi & Fantasy'\n",
      " \"Kids' TV, TV Thrillers\"\n",
      " 'TV Action & Adventure, TV Comedies, TV Sci-Fi & Fantasy'\n",
      " 'British TV Shows, Romantic TV Shows, TV Dramas'\n",
      " 'Anime Series, International TV Shows, Spanish-Language TV Shows'\n",
      " 'Docuseries, TV Comedies' 'Comedies, Romantic Movies, Sports Movies'\n",
      " 'TV Action & Adventure, TV Comedies, TV Dramas'\n",
      " 'Children & Family Movies, Dramas, Sports Movies'\n",
      " 'Action & Adventure, Dramas, Independent Movies'\n",
      " 'Spanish-Language TV Shows, TV Dramas' 'Dramas, LGBTQ Movies'\n",
      " 'TV Horror, TV Mysteries, TV Sci-Fi & Fantasy'\n",
      " 'Action & Adventure, Dramas, Faith & Spirituality'\n",
      " 'International TV Shows, TV Mysteries, TV Thrillers'\n",
      " 'British TV Shows, Classic & Cult TV, International TV Shows'\n",
      " 'Action & Adventure, Comedies, Independent Movies' 'Music & Musicals'\n",
      " \"British TV Shows, Kids' TV, TV Comedies\"\n",
      " 'Docuseries, Spanish-Language TV Shows'\n",
      " 'Dramas, Independent Movies, Sports Movies'\n",
      " 'TV Dramas, TV Mysteries, TV Thrillers'\n",
      " 'Comedies, LGBTQ Movies, Music & Musicals'\n",
      " 'International TV Shows, TV Action & Adventure, TV Mysteries'\n",
      " \"Kids' TV, TV Comedies, Teen TV Shows\"\n",
      " 'International TV Shows, TV Dramas, TV Horror'\n",
      " 'Comedies, International Movies, Thrillers'\n",
      " 'Classic & Cult TV, TV Action & Adventure, TV Sci-Fi & Fantasy'\n",
      " 'International TV Shows, TV Horror, TV Mysteries'\n",
      " 'Children & Family Movies, Documentaries'\n",
      " 'Music & Musicals, Romantic Movies' 'Romantic Movies'\n",
      " 'Children & Family Movies, Classic Movies, Comedies'\n",
      " 'TV Action & Adventure, TV Dramas'\n",
      " 'Dramas, LGBTQ Movies, Romantic Movies'\n",
      " 'Children & Family Movies, Comedies, Romantic Movies'\n",
      " 'Comedies, Sports Movies' 'International Movies'\n",
      " 'International TV Shows, Romantic TV Shows, TV Mysteries'\n",
      " 'Stand-Up Comedy & Talk Shows'\n",
      " 'Action & Adventure, International Movies, Romantic Movies'\n",
      " 'Reality TV, TV Comedies' 'Cult Movies, Dramas, International Movies'\n",
      " \"Kids' TV, TV Dramas\"\n",
      " 'Crime TV Shows, International TV Shows, TV Mysteries'\n",
      " 'Action & Adventure, Sci-Fi & Fantasy, Sports Movies'\n",
      " 'TV Dramas, TV Sci-Fi & Fantasy, TV Thrillers'\n",
      " 'Romantic TV Shows, TV Dramas, TV Sci-Fi & Fantasy'\n",
      " 'Docuseries, TV Sci-Fi & Fantasy' 'Anime Features, International Movies'\n",
      " \"British TV Shows, Classic & Cult TV, Kids' TV\"\n",
      " 'British TV Shows, Reality TV, Romantic TV Shows'\n",
      " 'Documentaries, Faith & Spirituality, International Movies'\n",
      " \"Kids' TV, Reality TV, TV Dramas\" 'LGBTQ Movies, Thrillers'\n",
      " 'TV Action & Adventure, TV Mysteries, TV Sci-Fi & Fantasy'\n",
      " 'Reality TV, Science & Nature TV'\n",
      " \"Kids' TV, TV Action & Adventure, TV Comedies\"\n",
      " 'International TV Shows, Romantic TV Shows, TV Action & Adventure'\n",
      " 'Children & Family Movies, Dramas, Independent Movies'\n",
      " 'Comedies, Music & Musicals, Romantic Movies'\n",
      " 'International TV Shows, Korean TV Shows, Reality TV'\n",
      " 'Classic & Cult TV, TV Dramas, TV Sci-Fi & Fantasy'\n",
      " 'Anime Features, Children & Family Movies'\n",
      " 'Action & Adventure, International Movies, Sci-Fi & Fantasy'\n",
      " 'Crime TV Shows, TV Action & Adventure, TV Dramas'\n",
      " 'Classic & Cult TV, TV Action & Adventure, TV Horror'\n",
      " 'International TV Shows, Korean TV Shows, TV Dramas'\n",
      " 'International TV Shows, TV Action & Adventure, TV Horror'\n",
      " 'Action & Adventure, Comedies, Romantic Movies'\n",
      " 'International TV Shows, Korean TV Shows, TV Action & Adventure'\n",
      " \"Classic & Cult TV, Kids' TV, TV Action & Adventure\"\n",
      " 'Anime Series, International TV Shows, TV Horror'\n",
      " 'International TV Shows, Korean TV Shows, TV Horror'\n",
      " 'Children & Family Movies, Comedies, International Movies'\n",
      " 'International Movies, Sci-Fi & Fantasy'\n",
      " 'International Movies, Sci-Fi & Fantasy, Thrillers'\n",
      " 'Children & Family Movies, Dramas, Romantic Movies'\n",
      " 'Anime Series, Romantic TV Shows' 'Comedies, Dramas, LGBTQ Movies'\n",
      " 'British TV Shows, International TV Shows, TV Action & Adventure'\n",
      " 'Docuseries, Science & Nature TV, TV Comedies'\n",
      " 'International TV Shows, Stand-Up Comedy & Talk Shows, TV Comedies'\n",
      " 'Children & Family Movies, Dramas, Music & Musicals'\n",
      " 'Action & Adventure, Independent Movies, International Movies'\n",
      " 'Action & Adventure, Children & Family Movies, Sci-Fi & Fantasy'\n",
      " 'Horror Movies, Independent Movies, Sci-Fi & Fantasy'\n",
      " 'TV Dramas, TV Sci-Fi & Fantasy, Teen TV Shows'\n",
      " 'Anime Features, International Movies, Sci-Fi & Fantasy'\n",
      " 'Dramas, Independent Movies, Music & Musicals'\n",
      " \"Kids' TV, TV Comedies, TV Dramas\"\n",
      " 'Children & Family Movies, Documentaries, Sports Movies'\n",
      " 'Independent Movies, Sci-Fi & Fantasy, Thrillers'\n",
      " 'Anime Features, Music & Musicals, Sci-Fi & Fantasy'\n",
      " 'TV Comedies, TV Dramas, TV Sci-Fi & Fantasy'\n",
      " 'Crime TV Shows, TV Action & Adventure'\n",
      " 'Comedies, Faith & Spirituality, Romantic Movies'\n",
      " \"Kids' TV, TV Action & Adventure\"\n",
      " 'Action & Adventure, Independent Movies'\n",
      " 'International TV Shows, Reality TV, TV Comedies'\n",
      " 'Docuseries, Reality TV, Teen TV Shows'\n",
      " 'Crime TV Shows, International TV Shows, Reality TV'\n",
      " 'Anime Series, Teen TV Shows'\n",
      " 'Crime TV Shows, Romantic TV Shows, TV Dramas'\n",
      " 'Anime Features, Romantic Movies'\n",
      " 'Horror Movies, Sci-Fi & Fantasy, Thrillers'\n",
      " 'International TV Shows, TV Comedies, TV Sci-Fi & Fantasy'\n",
      " 'International TV Shows, Romantic TV Shows'\n",
      " 'Anime Features, Music & Musicals'\n",
      " 'Anime Features, International Movies, Romantic Movies'\n",
      " 'International TV Shows, Romantic TV Shows, Teen TV Shows'\n",
      " 'Docuseries, Stand-Up Comedy & Talk Shows'\n",
      " 'Horror Movies, Independent Movies, Thrillers'\n",
      " 'TV Action & Adventure, TV Comedies, TV Horror'\n",
      " 'Documentaries, Stand-Up Comedy' \"Kids' TV, Spanish-Language TV Shows\"\n",
      " \"British TV Shows, Kids' TV, TV Thrillers\"\n",
      " \"Kids' TV, TV Action & Adventure, TV Dramas\"\n",
      " 'Anime Series, Crime TV Shows' 'Dramas, Sci-Fi & Fantasy, Thrillers'\n",
      " 'TV Comedies, TV Dramas, TV Horror'\n",
      " 'Children & Family Movies, Comedies, LGBTQ Movies'\n",
      " 'International TV Shows, TV Action & Adventure, TV Sci-Fi & Fantasy'\n",
      " 'Docuseries, TV Dramas'\n",
      " 'Horror Movies, International Movies, Romantic Movies'\n",
      " 'Crime TV Shows, Docuseries, Science & Nature TV'\n",
      " 'International Movies, Music & Musicals, Thrillers'\n",
      " \"Kids' TV, Spanish-Language TV Shows, Teen TV Shows\"\n",
      " 'Comedies, Horror Movies, Independent Movies'\n",
      " 'Action & Adventure, International Movies, Sports Movies'\n",
      " 'Action & Adventure, Independent Movies, Sci-Fi & Fantasy'\n",
      " 'Horror Movies, LGBTQ Movies, Music & Musicals'\n",
      " 'Comedies, Music & Musicals, Sports Movies'\n",
      " 'TV Horror, TV Mysteries, Teen TV Shows' 'Romantic TV Shows, TV Comedies'\n",
      " \"Kids' TV, Reality TV, Science & Nature TV\"\n",
      " 'International Movies, Romantic Movies, Sci-Fi & Fantasy'\n",
      " 'TV Comedies, TV Horror, TV Thrillers' 'TV Action & Adventure'\n",
      " 'International TV Shows, Spanish-Language TV Shows, TV Horror'\n",
      " 'Crime TV Shows, TV Action & Adventure, TV Thrillers'\n",
      " 'Music & Musicals, Stand-Up Comedy' 'British TV Shows, TV Comedies'\n",
      " 'TV Comedies, TV Sci-Fi & Fantasy, Teen TV Shows'\n",
      " 'TV Comedies, TV Sci-Fi & Fantasy'\n",
      " 'Romantic TV Shows, Spanish-Language TV Shows, TV Comedies'\n",
      " 'Crime TV Shows, International TV Shows, TV Sci-Fi & Fantasy'\n",
      " 'British TV Shows, International TV Shows, Romantic TV Shows'\n",
      " \"Crime TV Shows, Kids' TV\"\n",
      " 'Horror Movies, International Movies, Sci-Fi & Fantasy'\n",
      " 'TV Comedies, TV Mysteries'\n",
      " 'Cult Movies, Horror Movies, Independent Movies'\n",
      " 'British TV Shows, Docuseries, TV Comedies' 'Comedies, Documentaries'\n",
      " 'Reality TV, Science & Nature TV, TV Action & Adventure'\n",
      " 'TV Comedies, TV Dramas, TV Mysteries'\n",
      " 'Crime TV Shows, TV Comedies, Teen TV Shows'\n",
      " \"Docuseries, Kids' TV, Science & Nature TV\"\n",
      " 'Reality TV, Spanish-Language TV Shows'\n",
      " 'Action & Adventure, Anime Features, Sci-Fi & Fantasy'\n",
      " \"Crime TV Shows, Kids' TV, TV Comedies\"\n",
      " 'Dramas, Faith & Spirituality, Independent Movies'\n",
      " 'Documentaries, Faith & Spirituality'\n",
      " 'British TV Shows, International TV Shows, Stand-Up Comedy & Talk Shows'\n",
      " 'Comedies, Dramas, Faith & Spirituality' 'Classic & Cult TV, TV Comedies'\n",
      " 'Dramas, Romantic Movies, Sports Movies'\n",
      " 'Stand-Up Comedy & Talk Shows, TV Mysteries, TV Sci-Fi & Fantasy'\n",
      " 'TV Sci-Fi & Fantasy, TV Thrillers'\n",
      " 'Comedies, Independent Movies, Music & Musicals'\n",
      " 'Comedies, Cult Movies, Independent Movies'\n",
      " 'Documentaries, Dramas, International Movies'\n",
      " 'British TV Shows, TV Horror, TV Thrillers'\n",
      " 'British TV Shows, Docuseries, Science & Nature TV'\n",
      " 'Children & Family Movies, Comedies, Cult Movies' 'Sports Movies'\n",
      " 'Sci-Fi & Fantasy' 'Comedies, LGBTQ Movies'\n",
      " 'Comedies, Independent Movies, Thrillers'\n",
      " 'Classic Movies, Cult Movies, Dramas'\n",
      " 'British TV Shows, TV Comedies, TV Dramas'\n",
      " 'Action & Adventure, Children & Family Movies, Independent Movies'\n",
      " 'Action & Adventure, Documentaries, International Movies'\n",
      " 'Children & Family Movies, Independent Movies'\n",
      " 'Comedies, Cult Movies, Dramas'\n",
      " 'International TV Shows, TV Horror, TV Thrillers'\n",
      " 'Classic Movies, Thrillers' 'Crime TV Shows, TV Dramas, TV Horror'\n",
      " 'British TV Shows, Docuseries, Reality TV'\n",
      " 'Documentaries, LGBTQ Movies, Music & Musicals'\n",
      " 'Classic Movies, Dramas, Romantic Movies'\n",
      " 'Crime TV Shows, Romantic TV Shows, Spanish-Language TV Shows'\n",
      " 'Classic Movies, Cult Movies, Horror Movies'\n",
      " 'Anime Series, Crime TV Shows, TV Thrillers'\n",
      " 'Children & Family Movies, Classic Movies'\n",
      " 'Classic Movies, Comedies, International Movies'\n",
      " 'Comedies, Sci-Fi & Fantasy' 'Action & Adventure, Cult Movies, Dramas'\n",
      " 'Documentaries, Faith & Spirituality, Music & Musicals'\n",
      " 'British TV Shows, Classic & Cult TV, TV Comedies'\n",
      " 'International Movies, Sports Movies' 'International TV Shows'\n",
      " \"Classic & Cult TV, Kids' TV, Spanish-Language TV Shows\"\n",
      " 'Romantic TV Shows, Spanish-Language TV Shows, TV Dramas'\n",
      " 'Children & Family Movies, Comedies, Faith & Spirituality'\n",
      " 'British TV Shows, Crime TV Shows, TV Dramas'\n",
      " 'Classic Movies, Dramas, Music & Musicals'\n",
      " 'Cult Movies, Horror Movies, Thrillers'\n",
      " 'Action & Adventure, Classic Movies, Sci-Fi & Fantasy'\n",
      " 'TV Action & Adventure, TV Comedies'\n",
      " 'Classic Movies, Comedies, Music & Musicals' 'Independent Movies'\n",
      " 'Documentaries, Horror Movies'\n",
      " 'Classic & Cult TV, TV Horror, TV Mysteries'\n",
      " 'Comedies, Faith & Spirituality, International Movies'\n",
      " 'Dramas, Horror Movies, Sci-Fi & Fantasy'\n",
      " 'British TV Shows, TV Dramas, TV Sci-Fi & Fantasy'\n",
      " 'Comedies, Cult Movies, Horror Movies'\n",
      " 'Comedies, Cult Movies, Sports Movies' 'Classic Movies, Documentaries'\n",
      " 'Action & Adventure, Faith & Spirituality, Sci-Fi & Fantasy'\n",
      " 'Action & Adventure, Children & Family Movies'\n",
      " 'International TV Shows, Reality TV, TV Action & Adventure'\n",
      " 'Docuseries, Science & Nature TV, TV Dramas' 'Anime Features'\n",
      " 'Action & Adventure, Horror Movies, Independent Movies'\n",
      " 'Action & Adventure, Classic Movies, International Movies'\n",
      " 'Cult Movies, Independent Movies, Thrillers'\n",
      " 'Crime TV Shows, TV Comedies'\n",
      " 'Classic Movies, Cult Movies, Documentaries'\n",
      " \"Classic & Cult TV, Kids' TV, TV Comedies\"\n",
      " 'Classic Movies, Dramas, LGBTQ Movies'\n",
      " 'Classic Movies, Dramas, Sports Movies' 'Action & Adventure, Cult Movies'\n",
      " 'Action & Adventure, Comedies, Music & Musicals'\n",
      " 'Classic Movies, Horror Movies, Thrillers'\n",
      " 'Classic Movies, Comedies, Independent Movies'\n",
      " 'Children & Family Movies, Classic Movies, Dramas'\n",
      " 'Dramas, Faith & Spirituality, Sports Movies'\n",
      " 'Classic Movies, Comedies, Romantic Movies'\n",
      " 'Dramas, Horror Movies, Music & Musicals'\n",
      " 'Classic Movies, Independent Movies, Thrillers'\n",
      " 'Children & Family Movies, Faith & Spirituality'\n",
      " 'Classic Movies, Comedies, Sports Movies'\n",
      " 'Comedies, Dramas, Sports Movies'\n",
      " 'Action & Adventure, Romantic Movies, Sci-Fi & Fantasy'\n",
      " 'Classic & Cult TV, TV Sci-Fi & Fantasy'\n",
      " 'Comedies, Cult Movies, LGBTQ Movies'\n",
      " 'Comedies, Horror Movies, Sci-Fi & Fantasy'\n",
      " 'Action & Adventure, Comedies, Horror Movies'\n",
      " 'Classic & Cult TV, Crime TV Shows, TV Dramas'\n",
      " 'Action & Adventure, Documentaries, Sports Movies'\n",
      " 'International Movies, LGBTQ Movies, Romantic Movies'\n",
      " 'Cult Movies, Dramas, Thrillers']\n",
      "Total unique value:  514\n"
     ]
    }
   ],
   "source": [
    "print('Listed in: ', df['listed_in'].unique())\n",
    "print('Total unique value: ', df['listed_in'].nunique())"
   ]
  },
  {
   "cell_type": "code",
   "execution_count": 16,
   "metadata": {},
   "outputs": [
    {
     "name": "stdout",
     "output_type": "stream",
     "text": [
      "Description:  ['As her father nears the end of his life, filmmaker Kirsten Johnson stages his death in inventive and comical ways to help them both face the inevitable.'\n",
      " 'After crossing paths at a party, a Cape Town teen sets out to prove whether a private-school swimming star is her sister who was abducted at birth.'\n",
      " 'To protect his family from a powerful drug lord, skilled thief Mehdi and his expert team of robbers are pulled into a violent and deadly turf war.'\n",
      " ...\n",
      " 'Looking to survive in a world taken over by zombies, a dorky college student teams with an urban roughneck and a pair of grifter sisters.'\n",
      " 'Dragged from civilian life, a former superhero must train a new crop of youthful saviors when the military preps for an attack by a familiar villain.'\n",
      " \"A scrappy but poor boy worms his way into a tycoon's dysfunctional family, while facing his fear of music and the truth about his past.\"]\n",
      "Total unique value:  8775\n"
     ]
    }
   ],
   "source": [
    "print('Description: ', df['description'].unique())\n",
    "print('Total unique value: ', df['description'].nunique())"
   ]
  },
  {
   "cell_type": "markdown",
   "metadata": {},
   "source": [
    "* Với mỗi cột, các giá trị được phân bố như sau:\n",
    "    * `show_id`: 8807 giá trị id duy nhất\n",
    "    * `type`: chỉ có 2 giá trị: `Movie` và `TV Show`\n",
    "    * `title`: 8807 tên khác nhau\n",
    "    * `director`: có 30% hàng không có giá trị, còn lại sẽ có 4528 cái tên phân biệt\n",
    "    * `cast`: có 9% hàng không có giá trị, còn lại sẽ có 7692 cái tên phân biệt\n",
    "    * `country`: tên các quốc gia sản xuất\n",
    "    * `date_added`: bao gồm các giá trị ngày tháng năm trong khoảng từ 01-01-2008 đến 25-09-2021\n",
    "    * `release_year`: bao gồm các giá trị số từ 1925 đến 2021\n",
    "    * `rating`: bao gồm các giá trị nhãn, gồm 17 nhãn khác nhau\n",
    "    * `duration`: thời lượng phát sóng được tính bằng số phút, hoặc tính theo mùa\n",
    "    * `listed_in`: gồm 514 thể loại khác nhau\n",
    "    * `description`: các chuỗi mô tả"
   ]
  },
  {
   "cell_type": "markdown",
   "metadata": {},
   "source": [
    "* Đối với bộ dữ liệu trên thì việc tiền xử lý là không cần thiết, không có cột nào có quá nhiều hàng không có giá trị, chỉ duy nhất là cột director (30%), tuy nhiên vẫn có thể chấp nhận được."
   ]
  },
  {
   "cell_type": "markdown",
   "metadata": {},
   "source": [
    "# C. Khám phá mối quan hệ trong dữ liệu"
   ]
  },
  {
   "cell_type": "markdown",
   "metadata": {},
   "source": [
    "### Movie type"
   ]
  },
  {
   "cell_type": "code",
   "execution_count": 23,
   "metadata": {},
   "outputs": [
    {
     "data": {
      "image/png": "[encoded data removed]",
      "text/plain": [
       "<Figure size 1400x700 with 2 Axes>"
      ]
     },
     "metadata": {},
     "output_type": "display_data"
    }
   ],
   "source": [
    "import matplotlib.pyplot as plt\n",
    "import seaborn as sns\n",
    "\n",
    "# Create a figure with 2 subplots (1 row, 2 columns)\n",
    "fig, axes = plt.subplots(1, 2, figsize=(14, 7))\n",
    "\n",
    "# Pie chart\n",
    "type_counts = df['type'].value_counts()\n",
    "axes[0].pie(type_counts, labels=type_counts.index, autopct='%1.1f%%')\n",
    "axes[0].set_title('Biểu đồ hình tròn cho type')\n",
    "\n",
    "# Column chart\n",
    "sns.countplot(x='type', data=df, ax=axes[1])\n",
    "axes[1].set_ylabel('Số lượng')\n",
    "axes[1].set_title('Biểu đồ cột cho type')\n",
    "\n",
    "plt.tight_layout()\n",
    "plt.show()\n"
   ]
  },
  {
   "cell_type": "markdown",
   "metadata": {},
   "source": [
    "#### Lí do chọn biểu đồ: \n",
    "- Biểu đồ tròn thích hợp để hiển thị phần trăm của mỗi loại giá trị so với tổng số lượng. Điều này đặc biệt hữu ích khi biểu diễn tỷ lệ phần trăm của \"Movie\" so với \"TV-Show\"giúp người đọc dễ dàng so sánh tỷ lệ giữa hai loại giá trị.\n",
    "- Biểu đồ cột thích hợp để trực quan hóa số lượng của các loại giá trị, trong trường hợp này là \"Movie\" và \"TV-Show\". Cột được sắp xếp theo thứ giảm dần, giúp người đọc dễ dàng so sánh các giá trị.\n"
   ]
  },
  {
   "cell_type": "markdown",
   "metadata": {},
   "source": [
    "#### Nhận xét\n",
    "*   Số lượng phim kiểu \"Movie\" chiếm đa số trong tất cả các phim, với hơn 2/3 tổng số lượng phim và gấp đôi số lượng phim kiểu \"TV Show\". Điều này chỉ ra sự phổ biến của Movie so với TV Show."
   ]
  },
  {
   "cell_type": "markdown",
   "metadata": {},
   "source": [
    "### Release Year"
   ]
  },
  {
   "cell_type": "code",
   "execution_count": 24,
   "metadata": {},
   "outputs": [
    {
     "data": {
      "image/png": "[encoded data removed]",
      "text/plain": [
       "<Figure size 1000x500 with 1 Axes>"
      ]
     },
     "metadata": {},
     "output_type": "display_data"
    }
   ],
   "source": [
    "# Tính số lượng phát hành theo năm\n",
    "release_counts = df['release_year'].value_counts()\n",
    "\n",
    "# Vẽ biểu đồ cột\n",
    "plt.figure(figsize=(10,5))\n",
    "plt.bar(release_counts.index, release_counts.values)\n",
    "plt.xlabel('Release Year')\n",
    "plt.ylabel('Count')\n",
    "plt.title('Number of Movie Releases by Year')\n",
    "plt.show()\n"
   ]
  },
  {
   "cell_type": "markdown",
   "metadata": {},
   "source": [
    "#### Lý do chọn biểu đồ\n",
    "\n",
    "* Biểu đồ cột rất phù hợp với trường hợp trường dữ liệu có nhiều giá trị như release year.\n",
    "* Có thể dễ dàng nhìn thấy xu hướng phát triển của ngành công nghiệp điện ảnh qua thời gian.\n",
    "* Biểu đồ được sắp xếp theo thứ tự tăng dần, giúp người đọc dễ so sánh số lượng phim phát hành giữa các năm hoặc nhận biết các năm có sự tăng trưởng đặc biệt."
   ]
  },
  {
   "cell_type": "markdown",
   "metadata": {},
   "source": [
    "#### Nhận xét\n",
    "\n",
    "* Từ những năm 2000 trở đi, số lượng phim đã bắt đầu tăng dần, cho thấy ngành công nghiệp điện ảnh bắt đầu phát triển. Trước đó, số lượng phim rất ít và không có sự tăng trưởng đáng kể.\n",
    "* Sự phát triển của ngành công nghiệp điện ảnh trở nên rõ rệt từ năm 2014, tăng đột biến số lượng phim được phát hành.\n",
    "* Năm 2018 được xác định là năm đỉnh điểm của số lượng phim được phát hành, cho thấy sự phát triển mạnh mẽ của ngành công nghiệp điện ảnh tại thời điểm này.\n",
    "* Từ năm 2018 trở đi, số lượng phim được phát hành giảm đột biến.\n",
    "\n",
    "=> Tổng quan, biểu đồ minh họa một hành trình phát triển độc đáo của ngành công nghiệp điện ảnh, từ sự phát triển từ những năm 2000, đạt đỉnh cao vào năm 2018, và sau đó trải qua sự giảm đột biến trong thời gian sau đó."
   ]
  },
  {
   "cell_type": "markdown",
   "metadata": {},
   "source": [
    "### Country"
   ]
  },
  {
   "cell_type": "code",
   "execution_count": null,
   "metadata": {},
   "outputs": [
    {
     "data": {
      "image/png": "[encoded data removed]",
      "text/plain": [
       "<Figure size 1400x600 with 2 Axes>"
      ]
     },
     "metadata": {},
     "output_type": "display_data"
    }
   ],
   "source": [
    "# Đếm số lượng film ở mỗi quốc gia\n",
    "country_count = df[\"country\"].value_counts()\n",
    "top_countries = country_count.head(5)\n",
    "other_countries_count = country_count[5:].sum()\n",
    "top_and_others = pd.concat([top_countries, pd.Series(other_countries_count, index=['Others'])])\n",
    "\n",
    "# Set up the figure and axes\n",
    "fig, axes = plt.subplots(1, 2, figsize=(14, 6))\n",
    "# Pie chart\n",
    "axes[0].pie(top_and_others, labels=top_and_others.index, autopct='%1.1f%%', startangle=140, colors=['skyblue', 'lightgreen', 'lightcoral', 'orange', 'lightpink', 'grey'])\n",
    "axes[0].set_title(\"Phần trăm số lượng film theo quốc gia\")\n",
    "\n",
    "# Countplot\n",
    "sns.countplot(x='country', data=df, order=country_count.index[:5], ax=axes[1])\n",
    "axes[1].set_xlabel(\"Quốc gia\")\n",
    "axes[1].set_ylabel(\"Số lượng film\")\n",
    "axes[1].set_title(\"Số lượng film của 5 quốc gia hàng đầu\")\n",
    "\n",
    "# Adjust layout\n",
    "plt.tight_layout()\n",
    "plt.show()\n"
   ]
  },
  {
   "cell_type": "markdown",
   "metadata": {},
   "source": [
    "#### Lí do chọn biểu đồ: \n",
    "- Pie chart là một lựa chọn phù hợp vì chúng ta quan tâm đến phân phối phần trăm của số lượng bộ phim ở mỗi quốc gia so với tổng số lượng bộ phim. Ở đây, ta lấy 5 quốc gia có nhiều phim nhất và gom tất cả các quốc gia còn lại thành nhóm others để dễ trực quan.\n",
    "- Countplot là một lựa chọn phù hợp khi muốn biểu diễn phân phối của một biến phân loại (categorical variable) dưới dạng số lượng.\n",
    "Ở đây, biến phân loại là country và số lượng film là country_count. Chỉ lấy top 5 quốc gia để dễ trực quan hóa.\n"
   ]
  },
  {
   "cell_type": "markdown",
   "metadata": {},
   "source": [
    "### Rating"
   ]
  },
  {
   "cell_type": "code",
   "execution_count": null,
   "metadata": {},
   "outputs": [
    {
     "name": "stdout",
     "output_type": "stream",
     "text": [
      "rating\n",
      "TV-MA       0.364308\n",
      "TV-14       0.245371\n",
      "TV-PG       0.098035\n",
      "R           0.090765\n",
      "PG-13       0.056004\n",
      "TV-Y7       0.037942\n",
      "TV-Y        0.034874\n",
      "PG          0.032603\n",
      "TV-G        0.024991\n",
      "NR          0.009088\n",
      "G           0.004658\n",
      "TV-Y7-FV    0.000682\n",
      "NC-17       0.000341\n",
      "UR          0.000341\n",
      "Name: proportion, dtype: float64\n"
     ]
    },
    {
     "data": {
      "image/png": "[encoded data removed]",
      "text/plain": [
       "<Figure size 640x480 with 1 Axes>"
      ]
     },
     "metadata": {},
     "output_type": "display_data"
    }
   ],
   "source": [
    "rating_count = df[\"rating\"].value_counts(normalize=True)\n",
    "print(rating_count)\n",
    "sns.countplot(x=\"rating\", data=df, order=rating_count.index)\n",
    "plt.xticks(rotation=45)\n",
    "plt.show()"
   ]
  },
  {
   "cell_type": "markdown",
   "metadata": {},
   "source": [
    "#### Nhận xét\n",
    "Nhìn chung, tag TV-MA (không phù hợp cho người dưới 17 tuổi) là tag phổ biến nhất, tiếp theo đó là tag TV-14 (phù hợp cho người 14 tuổi trở lên). "
   ]
  },
  {
   "cell_type": "markdown",
   "metadata": {},
   "source": [
    "#### Lí do chọn biểu đồ\n",
    "Countplot là một lựa chọn phù hợp khi muốn biểu diễn phân phối của một biến phân loại (categorical variable) dưới dạng số lượng.\n",
    "Ở đây, biến phân loại là rating và số lượng film là rating_count. "
   ]
  },
  {
   "cell_type": "markdown",
   "metadata": {},
   "source": [
    "### Listed_in (Thể loại)"
   ]
  },
  {
   "cell_type": "code",
   "execution_count": 21,
   "metadata": {},
   "outputs": [
    {
     "data": {
      "text/html": [
       "<div>\n",
       "<style scoped>\n",
       "    .dataframe tbody tr th:only-of-type {\n",
       "        vertical-align: middle;\n",
       "    }\n",
       "\n",
       "    .dataframe tbody tr th {\n",
       "        vertical-align: top;\n",
       "    }\n",
       "\n",
       "    .dataframe thead th {\n",
       "        text-align: right;\n",
       "    }\n",
       "</style>\n",
       "<table border=\"1\" class=\"dataframe\">\n",
       "  <thead>\n",
       "    <tr style=\"text-align: right;\">\n",
       "      <th></th>\n",
       "      <th>show_id</th>\n",
       "      <th>type</th>\n",
       "      <th>title</th>\n",
       "      <th>director</th>\n",
       "      <th>cast</th>\n",
       "      <th>country</th>\n",
       "      <th>date_added</th>\n",
       "      <th>release_year</th>\n",
       "      <th>rating</th>\n",
       "      <th>duration</th>\n",
       "      <th>listed_in</th>\n",
       "      <th>description</th>\n",
       "    </tr>\n",
       "  </thead>\n",
       "  <tbody>\n",
       "    <tr>\n",
       "      <th>1</th>\n",
       "      <td>s2</td>\n",
       "      <td>TV Show</td>\n",
       "      <td>Blood &amp; Water</td>\n",
       "      <td>NaN</td>\n",
       "      <td>Ama Qamata, Khosi Ngema, Gail Mabalane, Thaban...</td>\n",
       "      <td>South Africa</td>\n",
       "      <td>2021-09-24</td>\n",
       "      <td>2021</td>\n",
       "      <td>TV-MA</td>\n",
       "      <td>2 Seasons</td>\n",
       "      <td>International TV Shows, TV Dramas, TV Mysteries</td>\n",
       "      <td>After crossing paths at a party, a Cape Town t...</td>\n",
       "    </tr>\n",
       "    <tr>\n",
       "      <th>2</th>\n",
       "      <td>s3</td>\n",
       "      <td>TV Show</td>\n",
       "      <td>Ganglands</td>\n",
       "      <td>Julien Leclercq</td>\n",
       "      <td>Sami Bouajila, Tracy Gotoas, Samuel Jouy, Nabi...</td>\n",
       "      <td>NaN</td>\n",
       "      <td>2021-09-24</td>\n",
       "      <td>2021</td>\n",
       "      <td>TV-MA</td>\n",
       "      <td>1 Season</td>\n",
       "      <td>Crime TV Shows, International TV Shows, TV Act...</td>\n",
       "      <td>To protect his family from a powerful drug lor...</td>\n",
       "    </tr>\n",
       "    <tr>\n",
       "      <th>3</th>\n",
       "      <td>s4</td>\n",
       "      <td>TV Show</td>\n",
       "      <td>Jailbirds New Orleans</td>\n",
       "      <td>NaN</td>\n",
       "      <td>NaN</td>\n",
       "      <td>NaN</td>\n",
       "      <td>2021-09-24</td>\n",
       "      <td>2021</td>\n",
       "      <td>TV-MA</td>\n",
       "      <td>1 Season</td>\n",
       "      <td>Docuseries, Reality TV</td>\n",
       "      <td>Feuds, flirtations and toilet talk go down amo...</td>\n",
       "    </tr>\n",
       "    <tr>\n",
       "      <th>4</th>\n",
       "      <td>s5</td>\n",
       "      <td>TV Show</td>\n",
       "      <td>Kota Factory</td>\n",
       "      <td>NaN</td>\n",
       "      <td>Mayur More, Jitendra Kumar, Ranjan Raj, Alam K...</td>\n",
       "      <td>India</td>\n",
       "      <td>2021-09-24</td>\n",
       "      <td>2021</td>\n",
       "      <td>TV-MA</td>\n",
       "      <td>2 Seasons</td>\n",
       "      <td>International TV Shows, Romantic TV Shows, TV ...</td>\n",
       "      <td>In a city of coaching centers known to train I...</td>\n",
       "    </tr>\n",
       "    <tr>\n",
       "      <th>5</th>\n",
       "      <td>s6</td>\n",
       "      <td>TV Show</td>\n",
       "      <td>Midnight Mass</td>\n",
       "      <td>Mike Flanagan</td>\n",
       "      <td>Kate Siegel, Zach Gilford, Hamish Linklater, H...</td>\n",
       "      <td>NaN</td>\n",
       "      <td>2021-09-24</td>\n",
       "      <td>2021</td>\n",
       "      <td>TV-MA</td>\n",
       "      <td>1 Season</td>\n",
       "      <td>TV Dramas, TV Horror, TV Mysteries</td>\n",
       "      <td>The arrival of a charismatic young priest brin...</td>\n",
       "    </tr>\n",
       "  </tbody>\n",
       "</table>\n",
       "</div>"
      ],
      "text/plain": [
       "  show_id     type                  title         director  \\\n",
       "1      s2  TV Show          Blood & Water              NaN   \n",
       "2      s3  TV Show              Ganglands  Julien Leclercq   \n",
       "3      s4  TV Show  Jailbirds New Orleans              NaN   \n",
       "4      s5  TV Show           Kota Factory              NaN   \n",
       "5      s6  TV Show          Midnight Mass    Mike Flanagan   \n",
       "\n",
       "                                                cast       country date_added  \\\n",
       "1  Ama Qamata, Khosi Ngema, Gail Mabalane, Thaban...  South Africa 2021-09-24   \n",
       "2  Sami Bouajila, Tracy Gotoas, Samuel Jouy, Nabi...           NaN 2021-09-24   \n",
       "3                                                NaN           NaN 2021-09-24   \n",
       "4  Mayur More, Jitendra Kumar, Ranjan Raj, Alam K...         India 2021-09-24   \n",
       "5  Kate Siegel, Zach Gilford, Hamish Linklater, H...           NaN 2021-09-24   \n",
       "\n",
       "   release_year rating   duration  \\\n",
       "1          2021  TV-MA  2 Seasons   \n",
       "2          2021  TV-MA   1 Season   \n",
       "3          2021  TV-MA   1 Season   \n",
       "4          2021  TV-MA  2 Seasons   \n",
       "5          2021  TV-MA   1 Season   \n",
       "\n",
       "                                           listed_in  \\\n",
       "1    International TV Shows, TV Dramas, TV Mysteries   \n",
       "2  Crime TV Shows, International TV Shows, TV Act...   \n",
       "3                             Docuseries, Reality TV   \n",
       "4  International TV Shows, Romantic TV Shows, TV ...   \n",
       "5                 TV Dramas, TV Horror, TV Mysteries   \n",
       "\n",
       "                                         description  \n",
       "1  After crossing paths at a party, a Cape Town t...  \n",
       "2  To protect his family from a powerful drug lor...  \n",
       "3  Feuds, flirtations and toilet talk go down amo...  \n",
       "4  In a city of coaching centers known to train I...  \n",
       "5  The arrival of a charismatic young priest brin...  "
      ]
     },
     "execution_count": 21,
     "metadata": {},
     "output_type": "execute_result"
    }
   ],
   "source": [
    "#creating a dataframe for tv show\n",
    "tv_show = (df['type'] == 'TV Show')\n",
    "tvdf = df[tv_show]\n",
    "tvdf.head()"
   ]
  },
  {
   "cell_type": "code",
   "execution_count": 22,
   "metadata": {},
   "outputs": [
    {
     "data": {
      "text/html": [
       "<div>\n",
       "<style scoped>\n",
       "    .dataframe tbody tr th:only-of-type {\n",
       "        vertical-align: middle;\n",
       "    }\n",
       "\n",
       "    .dataframe tbody tr th {\n",
       "        vertical-align: top;\n",
       "    }\n",
       "\n",
       "    .dataframe thead th {\n",
       "        text-align: right;\n",
       "    }\n",
       "</style>\n",
       "<table border=\"1\" class=\"dataframe\">\n",
       "  <thead>\n",
       "    <tr style=\"text-align: right;\">\n",
       "      <th></th>\n",
       "      <th>show_id</th>\n",
       "      <th>type</th>\n",
       "      <th>title</th>\n",
       "      <th>director</th>\n",
       "      <th>cast</th>\n",
       "      <th>country</th>\n",
       "      <th>date_added</th>\n",
       "      <th>release_year</th>\n",
       "      <th>rating</th>\n",
       "      <th>duration</th>\n",
       "      <th>listed_in</th>\n",
       "      <th>description</th>\n",
       "    </tr>\n",
       "  </thead>\n",
       "  <tbody>\n",
       "    <tr>\n",
       "      <th>0</th>\n",
       "      <td>s1</td>\n",
       "      <td>Movie</td>\n",
       "      <td>Dick Johnson Is Dead</td>\n",
       "      <td>Kirsten Johnson</td>\n",
       "      <td>NaN</td>\n",
       "      <td>United States</td>\n",
       "      <td>2021-09-25</td>\n",
       "      <td>2020</td>\n",
       "      <td>PG-13</td>\n",
       "      <td>90 min</td>\n",
       "      <td>Documentaries</td>\n",
       "      <td>As her father nears the end of his life, filmm...</td>\n",
       "    </tr>\n",
       "    <tr>\n",
       "      <th>6</th>\n",
       "      <td>s7</td>\n",
       "      <td>Movie</td>\n",
       "      <td>My Little Pony: A New Generation</td>\n",
       "      <td>Robert Cullen, José Luis Ucha</td>\n",
       "      <td>Vanessa Hudgens, Kimiko Glenn, James Marsden, ...</td>\n",
       "      <td>NaN</td>\n",
       "      <td>2021-09-24</td>\n",
       "      <td>2021</td>\n",
       "      <td>PG</td>\n",
       "      <td>91 min</td>\n",
       "      <td>Children &amp; Family Movies</td>\n",
       "      <td>Equestria's divided. But a bright-eyed hero be...</td>\n",
       "    </tr>\n",
       "    <tr>\n",
       "      <th>7</th>\n",
       "      <td>s8</td>\n",
       "      <td>Movie</td>\n",
       "      <td>Sankofa</td>\n",
       "      <td>Haile Gerima</td>\n",
       "      <td>Kofi Ghanaba, Oyafunmike Ogunlano, Alexandra D...</td>\n",
       "      <td>United States, Ghana, Burkina Faso, United Kin...</td>\n",
       "      <td>2021-09-24</td>\n",
       "      <td>1993</td>\n",
       "      <td>TV-MA</td>\n",
       "      <td>125 min</td>\n",
       "      <td>Dramas, Independent Movies, International Movies</td>\n",
       "      <td>On a photo shoot in Ghana, an American model s...</td>\n",
       "    </tr>\n",
       "    <tr>\n",
       "      <th>9</th>\n",
       "      <td>s10</td>\n",
       "      <td>Movie</td>\n",
       "      <td>The Starling</td>\n",
       "      <td>Theodore Melfi</td>\n",
       "      <td>Melissa McCarthy, Chris O'Dowd, Kevin Kline, T...</td>\n",
       "      <td>United States</td>\n",
       "      <td>2021-09-24</td>\n",
       "      <td>2021</td>\n",
       "      <td>PG-13</td>\n",
       "      <td>104 min</td>\n",
       "      <td>Comedies, Dramas</td>\n",
       "      <td>A woman adjusting to life after a loss contend...</td>\n",
       "    </tr>\n",
       "    <tr>\n",
       "      <th>12</th>\n",
       "      <td>s13</td>\n",
       "      <td>Movie</td>\n",
       "      <td>Je Suis Karl</td>\n",
       "      <td>Christian Schwochow</td>\n",
       "      <td>Luna Wedler, Jannis Niewöhner, Milan Peschel, ...</td>\n",
       "      <td>Germany, Czech Republic</td>\n",
       "      <td>2021-09-23</td>\n",
       "      <td>2021</td>\n",
       "      <td>TV-MA</td>\n",
       "      <td>127 min</td>\n",
       "      <td>Dramas, International Movies</td>\n",
       "      <td>After most of her family is murdered in a terr...</td>\n",
       "    </tr>\n",
       "  </tbody>\n",
       "</table>\n",
       "</div>"
      ],
      "text/plain": [
       "   show_id   type                             title  \\\n",
       "0       s1  Movie              Dick Johnson Is Dead   \n",
       "6       s7  Movie  My Little Pony: A New Generation   \n",
       "7       s8  Movie                           Sankofa   \n",
       "9      s10  Movie                      The Starling   \n",
       "12     s13  Movie                      Je Suis Karl   \n",
       "\n",
       "                         director  \\\n",
       "0                 Kirsten Johnson   \n",
       "6   Robert Cullen, José Luis Ucha   \n",
       "7                    Haile Gerima   \n",
       "9                  Theodore Melfi   \n",
       "12            Christian Schwochow   \n",
       "\n",
       "                                                 cast  \\\n",
       "0                                                 NaN   \n",
       "6   Vanessa Hudgens, Kimiko Glenn, James Marsden, ...   \n",
       "7   Kofi Ghanaba, Oyafunmike Ogunlano, Alexandra D...   \n",
       "9   Melissa McCarthy, Chris O'Dowd, Kevin Kline, T...   \n",
       "12  Luna Wedler, Jannis Niewöhner, Milan Peschel, ...   \n",
       "\n",
       "                                              country date_added  \\\n",
       "0                                       United States 2021-09-25   \n",
       "6                                                 NaN 2021-09-24   \n",
       "7   United States, Ghana, Burkina Faso, United Kin... 2021-09-24   \n",
       "9                                       United States 2021-09-24   \n",
       "12                            Germany, Czech Republic 2021-09-23   \n",
       "\n",
       "    release_year rating duration  \\\n",
       "0           2020  PG-13   90 min   \n",
       "6           2021     PG   91 min   \n",
       "7           1993  TV-MA  125 min   \n",
       "9           2021  PG-13  104 min   \n",
       "12          2021  TV-MA  127 min   \n",
       "\n",
       "                                           listed_in  \\\n",
       "0                                      Documentaries   \n",
       "6                           Children & Family Movies   \n",
       "7   Dramas, Independent Movies, International Movies   \n",
       "9                                   Comedies, Dramas   \n",
       "12                      Dramas, International Movies   \n",
       "\n",
       "                                          description  \n",
       "0   As her father nears the end of his life, filmm...  \n",
       "6   Equestria's divided. But a bright-eyed hero be...  \n",
       "7   On a photo shoot in Ghana, an American model s...  \n",
       "9   A woman adjusting to life after a loss contend...  \n",
       "12  After most of her family is murdered in a terr...  "
      ]
     },
     "execution_count": 22,
     "metadata": {},
     "output_type": "execute_result"
    }
   ],
   "source": [
    "#creating a dataframe for movies\n",
    "movie = (df['type'] == 'Movie')\n",
    "movie_df = df[movie]\n",
    "movie_df.head()"
   ]
  },
  {
   "cell_type": "code",
   "execution_count": 23,
   "metadata": {},
   "outputs": [],
   "source": [
    "#movie genres\n",
    "genres = {}\n",
    "for genre in movie_df['listed_in']:\n",
    "    for i in genre.split(','):\n",
    "        i=i.strip()\n",
    "        if i not in genres:\n",
    "            genres[i] = 1\n",
    "        else:\n",
    "            genres[i] += 1\n",
    "        \n",
    "genre_movie_df = pd.DataFrame(list(genres.items()), columns= ['Genre', 'Number of Movies'])\n",
    "genre_movie_df['Genre'].unique()\n",
    "genre_movie_df.sort_values(by = 'Number of Movies', ascending = False).head()\n",
    "top_genres = genre_movie_df.nlargest(5, columns=\"Number of Movies\")"
   ]
  },
  {
   "cell_type": "code",
   "execution_count": 24,
   "metadata": {
    "scrolled": true
   },
   "outputs": [
    {
     "data": {
      "image/png": "[encoded data removed]",
      "text/plain": [
       "<Figure size 6000x1500 with 1 Axes>"
      ]
     },
     "metadata": {},
     "output_type": "display_data"
    }
   ],
   "source": [
    "fig, ax = plt.subplots(figsize=(60, 15))\n",
    "sns.barplot(x='Genre', y='Number of Movies',\n",
    "            data=top_genres.sort_values(by='Number of Movies', ascending=False))\n",
    "ax.set_title(\"Số lượng film ở mỗi tag\", fontsize=60, pad=30)\n",
    "plt.tick_params(labelsize=40) \n",
    "ax.set_xlabel('Thể loại', fontsize=40, labelpad=30)  \n",
    "ax.set_ylabel('Số lượng film', fontsize=40, labelpad=30)\n",
    "plt.show()"
   ]
  },
  {
   "cell_type": "markdown",
   "metadata": {},
   "source": [
    "#### Lí do chọn biểu đồ\n",
    "Countplot là một lựa chọn phù hợp khi muốn biểu diễn phân phối của một biến phân loại (categorical variable) dưới dạng số lượng.\n",
    "Ở đây, biến phân loại là genre và số lượng film là Number of Movies. Chỉ lấy top 5 thể loại có nhiều phim nhất để trực quan hóa."
   ]
  },
  {
   "cell_type": "markdown",
   "metadata": {},
   "source": [
    "#### Nhận xét: \n",
    "Có thể dễ dàng nhận thấy, tag phim đa quốc gia là loại phim có số lượng nhiều nhất ở netflix, theo sau đó là phim truyện. Các thể loại khác kém phổ biến hơn là Hài kịch, phim tài liệu và phim phiêu lưu hành động. Phim đa quốc gia ở đây ko phải là một thể loại phim mà hay được xem như một tính chất hơn. Do đó không khó hiểu khi tag đa quốc gia sẽ là nhiều nhất."
   ]
  },
  {
   "cell_type": "markdown",
   "metadata": {},
   "source": [
    "### Số lượng nội dung được thêm vào theo tháng"
   ]
  },
  {
   "cell_type": "code",
   "execution_count": 25,
   "metadata": {
    "scrolled": true
   },
   "outputs": [
    {
     "data": {
      "application/vnd.plotly.v1+json": {
       "config": {
        "plotlyServerURL": "https://plot.ly"
       },
       "data": [
        {
         "marker": {
          "color": "#a678de"
         },
         "name": "Movies",
         "type": "scatter",
         "x": [
          "January",
          "February",
          "March",
          "April",
          "May",
          "June",
          "July",
          "August",
          "September",
          "October",
          "November",
          "December"
         ],
         "y": [
          546,
          382,
          529,
          550,
          439,
          492,
          565,
          519,
          519,
          545,
          498,
          547
         ]
        },
        {
         "marker": {
          "color": "#6ad49b"
         },
         "name": "TV Shows",
         "type": "scatter",
         "x": [
          "January",
          "February",
          "March",
          "April",
          "May",
          "June",
          "July",
          "August",
          "September",
          "October",
          "November",
          "December"
         ],
         "y": [
          192,
          181,
          213,
          214,
          193,
          236,
          262,
          236,
          251,
          215,
          207,
          266
         ]
        },
        {
         "marker": {
          "color": "Brown"
         },
         "name": "Total Contents",
         "type": "scatter",
         "x": [
          "January",
          "February",
          "March",
          "April",
          "May",
          "June",
          "July",
          "August",
          "September",
          "October",
          "November",
          "December"
         ],
         "y": [
          738,
          563,
          742,
          764,
          632,
          728,
          827,
          755,
          770,
          760,
          705,
          813
         ]
        }
       ],
       "layout": {
        "legend": {
         "orientation": "h",
         "x": 0.1,
         "y": 1.1
        },
        "template": {
         "data": {
          "bar": [
           {
            "error_x": {
             "color": "#2a3f5f"
            },
            "error_y": {
             "color": "#2a3f5f"
            },
            "marker": {
             "line": {
              "color": "#E5ECF6",
              "width": 0.5
             },
             "pattern": {
              "fillmode": "overlay",
              "size": 10,
              "solidity": 0.2
             }
            },
            "type": "bar"
           }
          ],
          "barpolar": [
           {
            "marker": {
             "line": {
              "color": "#E5ECF6",
              "width": 0.5
             },
             "pattern": {
              "fillmode": "overlay",
              "size": 10,
              "solidity": 0.2
             }
            },
            "type": "barpolar"
           }
          ],
          "carpet": [
           {
            "aaxis": {
             "endlinecolor": "#2a3f5f",
             "gridcolor": "white",
             "linecolor": "white",
             "minorgridcolor": "white",
             "startlinecolor": "#2a3f5f"
            },
            "baxis": {
             "endlinecolor": "#2a3f5f",
             "gridcolor": "white",
             "linecolor": "white",
             "minorgridcolor": "white",
             "startlinecolor": "#2a3f5f"
            },
            "type": "carpet"
           }
          ],
          "choropleth": [
           {
            "colorbar": {
             "outlinewidth": 0,
             "ticks": ""
            },
            "type": "choropleth"
           }
          ],
          "contour": [
           {
            "colorbar": {
             "outlinewidth": 0,
             "ticks": ""
            },
            "colorscale": [
             [
              0,
              "#0d0887"
             ],
             [
              0.1111111111111111,
              "#46039f"
             ],
             [
              0.2222222222222222,
              "#7201a8"
             ],
             [
              0.3333333333333333,
              "#9c179e"
             ],
             [
              0.4444444444444444,
              "#bd3786"
             ],
             [
              0.5555555555555556,
              "#d8576b"
             ],
             [
              0.6666666666666666,
              "#ed7953"
             ],
             [
              0.7777777777777778,
              "#fb9f3a"
             ],
             [
              0.8888888888888888,
              "#fdca26"
             ],
             [
              1,
              "#f0f921"
             ]
            ],
            "type": "contour"
           }
          ],
          "contourcarpet": [
           {
            "colorbar": {
             "outlinewidth": 0,
             "ticks": ""
            },
            "type": "contourcarpet"
           }
          ],
          "heatmap": [
           {
            "colorbar": {
             "outlinewidth": 0,
             "ticks": ""
            },
            "colorscale": [
             [
              0,
              "#0d0887"
             ],
             [
              0.1111111111111111,
              "#46039f"
             ],
             [
              0.2222222222222222,
              "#7201a8"
             ],
             [
              0.3333333333333333,
              "#9c179e"
             ],
             [
              0.4444444444444444,
              "#bd3786"
             ],
             [
              0.5555555555555556,
              "#d8576b"
             ],
             [
              0.6666666666666666,
              "#ed7953"
             ],
             [
              0.7777777777777778,
              "#fb9f3a"
             ],
             [
              0.8888888888888888,
              "#fdca26"
             ],
             [
              1,
              "#f0f921"
             ]
            ],
            "type": "heatmap"
           }
          ],
          "heatmapgl": [
           {
            "colorbar": {
             "outlinewidth": 0,
             "ticks": ""
            },
            "colorscale": [
             [
              0,
              "#0d0887"
             ],
             [
              0.1111111111111111,
              "#46039f"
             ],
             [
              0.2222222222222222,
              "#7201a8"
             ],
             [
              0.3333333333333333,
              "#9c179e"
             ],
             [
              0.4444444444444444,
              "#bd3786"
             ],
             [
              0.5555555555555556,
              "#d8576b"
             ],
             [
              0.6666666666666666,
              "#ed7953"
             ],
             [
              0.7777777777777778,
              "#fb9f3a"
             ],
             [
              0.8888888888888888,
              "#fdca26"
             ],
             [
              1,
              "#f0f921"
             ]
            ],
            "type": "heatmapgl"
           }
          ],
          "histogram": [
           {
            "marker": {
             "pattern": {
              "fillmode": "overlay",
              "size": 10,
              "solidity": 0.2
             }
            },
            "type": "histogram"
           }
          ],
          "histogram2d": [
           {
            "colorbar": {
             "outlinewidth": 0,
             "ticks": ""
            },
            "colorscale": [
             [
              0,
              "#0d0887"
             ],
             [
              0.1111111111111111,
              "#46039f"
             ],
             [
              0.2222222222222222,
              "#7201a8"
             ],
             [
              0.3333333333333333,
              "#9c179e"
             ],
             [
              0.4444444444444444,
              "#bd3786"
             ],
             [
              0.5555555555555556,
              "#d8576b"
             ],
             [
              0.6666666666666666,
              "#ed7953"
             ],
             [
              0.7777777777777778,
              "#fb9f3a"
             ],
             [
              0.8888888888888888,
              "#fdca26"
             ],
             [
              1,
              "#f0f921"
             ]
            ],
            "type": "histogram2d"
           }
          ],
          "histogram2dcontour": [
           {
            "colorbar": {
             "outlinewidth": 0,
             "ticks": ""
            },
            "colorscale": [
             [
              0,
              "#0d0887"
             ],
             [
              0.1111111111111111,
              "#46039f"
             ],
             [
              0.2222222222222222,
              "#7201a8"
             ],
             [
              0.3333333333333333,
              "#9c179e"
             ],
             [
              0.4444444444444444,
              "#bd3786"
             ],
             [
              0.5555555555555556,
              "#d8576b"
             ],
             [
              0.6666666666666666,
              "#ed7953"
             ],
             [
              0.7777777777777778,
              "#fb9f3a"
             ],
             [
              0.8888888888888888,
              "#fdca26"
             ],
             [
              1,
              "#f0f921"
             ]
            ],
            "type": "histogram2dcontour"
           }
          ],
          "mesh3d": [
           {
            "colorbar": {
             "outlinewidth": 0,
             "ticks": ""
            },
            "type": "mesh3d"
           }
          ],
          "parcoords": [
           {
            "line": {
             "colorbar": {
              "outlinewidth": 0,
              "ticks": ""
             }
            },
            "type": "parcoords"
           }
          ],
          "pie": [
           {
            "automargin": true,
            "type": "pie"
           }
          ],
          "scatter": [
           {
            "fillpattern": {
             "fillmode": "overlay",
             "size": 10,
             "solidity": 0.2
            },
            "type": "scatter"
           }
          ],
          "scatter3d": [
           {
            "line": {
             "colorbar": {
              "outlinewidth": 0,
              "ticks": ""
             }
            },
            "marker": {
             "colorbar": {
              "outlinewidth": 0,
              "ticks": ""
             }
            },
            "type": "scatter3d"
           }
          ],
          "scattercarpet": [
           {
            "marker": {
             "colorbar": {
              "outlinewidth": 0,
              "ticks": ""
             }
            },
            "type": "scattercarpet"
           }
          ],
          "scattergeo": [
           {
            "marker": {
             "colorbar": {
              "outlinewidth": 0,
              "ticks": ""
             }
            },
            "type": "scattergeo"
           }
          ],
          "scattergl": [
           {
            "marker": {
             "colorbar": {
              "outlinewidth": 0,
              "ticks": ""
             }
            },
            "type": "scattergl"
           }
          ],
          "scattermapbox": [
           {
            "marker": {
             "colorbar": {
              "outlinewidth": 0,
              "ticks": ""
             }
            },
            "type": "scattermapbox"
           }
          ],
          "scatterpolar": [
           {
            "marker": {
             "colorbar": {
              "outlinewidth": 0,
              "ticks": ""
             }
            },
            "type": "scatterpolar"
           }
          ],
          "scatterpolargl": [
           {
            "marker": {
             "colorbar": {
              "outlinewidth": 0,
              "ticks": ""
             }
            },
            "type": "scatterpolargl"
           }
          ],
          "scatterternary": [
           {
            "marker": {
             "colorbar": {
              "outlinewidth": 0,
              "ticks": ""
             }
            },
            "type": "scatterternary"
           }
          ],
          "surface": [
           {
            "colorbar": {
             "outlinewidth": 0,
             "ticks": ""
            },
            "colorscale": [
             [
              0,
              "#0d0887"
             ],
             [
              0.1111111111111111,
              "#46039f"
             ],
             [
              0.2222222222222222,
              "#7201a8"
             ],
             [
              0.3333333333333333,
              "#9c179e"
             ],
             [
              0.4444444444444444,
              "#bd3786"
             ],
             [
              0.5555555555555556,
              "#d8576b"
             ],
             [
              0.6666666666666666,
              "#ed7953"
             ],
             [
              0.7777777777777778,
              "#fb9f3a"
             ],
             [
              0.8888888888888888,
              "#fdca26"
             ],
             [
              1,
              "#f0f921"
             ]
            ],
            "type": "surface"
           }
          ],
          "table": [
           {
            "cells": {
             "fill": {
              "color": "#EBF0F8"
             },
             "line": {
              "color": "white"
             }
            },
            "header": {
             "fill": {
              "color": "#C8D4E3"
             },
             "line": {
              "color": "white"
             }
            },
            "type": "table"
           }
          ]
         },
         "layout": {
          "annotationdefaults": {
           "arrowcolor": "#2a3f5f",
           "arrowhead": 0,
           "arrowwidth": 1
          },
          "autotypenumbers": "strict",
          "coloraxis": {
           "colorbar": {
            "outlinewidth": 0,
            "ticks": ""
           }
          },
          "colorscale": {
           "diverging": [
            [
             0,
             "#8e0152"
            ],
            [
             0.1,
             "#c51b7d"
            ],
            [
             0.2,
             "#de77ae"
            ],
            [
             0.3,
             "#f1b6da"
            ],
            [
             0.4,
             "#fde0ef"
            ],
            [
             0.5,
             "#f7f7f7"
            ],
            [
             0.6,
             "#e6f5d0"
            ],
            [
             0.7,
             "#b8e186"
            ],
            [
             0.8,
             "#7fbc41"
            ],
            [
             0.9,
             "#4d9221"
            ],
            [
             1,
             "#276419"
            ]
           ],
           "sequential": [
            [
             0,
             "#0d0887"
            ],
            [
             0.1111111111111111,
             "#46039f"
            ],
            [
             0.2222222222222222,
             "#7201a8"
            ],
            [
             0.3333333333333333,
             "#9c179e"
            ],
            [
             0.4444444444444444,
             "#bd3786"
            ],
            [
             0.5555555555555556,
             "#d8576b"
            ],
            [
             0.6666666666666666,
             "#ed7953"
            ],
            [
             0.7777777777777778,
             "#fb9f3a"
            ],
            [
             0.8888888888888888,
             "#fdca26"
            ],
            [
             1,
             "#f0f921"
            ]
           ],
           "sequentialminus": [
            [
             0,
             "#0d0887"
            ],
            [
             0.1111111111111111,
             "#46039f"
            ],
            [
             0.2222222222222222,
             "#7201a8"
            ],
            [
             0.3333333333333333,
             "#9c179e"
            ],
            [
             0.4444444444444444,
             "#bd3786"
            ],
            [
             0.5555555555555556,
             "#d8576b"
            ],
            [
             0.6666666666666666,
             "#ed7953"
            ],
            [
             0.7777777777777778,
             "#fb9f3a"
            ],
            [
             0.8888888888888888,
             "#fdca26"
            ],
            [
             1,
             "#f0f921"
            ]
           ]
          },
          "colorway": [
           "#636efa",
           "#EF553B",
           "#00cc96",
           "#ab63fa",
           "#FFA15A",
           "#19d3f3",
           "#FF6692",
           "#B6E880",
           "#FF97FF",
           "#FECB52"
          ],
          "font": {
           "color": "#2a3f5f"
          },
          "geo": {
           "bgcolor": "white",
           "lakecolor": "white",
           "landcolor": "#E5ECF6",
           "showlakes": true,
           "showland": true,
           "subunitcolor": "white"
          },
          "hoverlabel": {
           "align": "left"
          },
          "hovermode": "closest",
          "mapbox": {
           "style": "light"
          },
          "paper_bgcolor": "white",
          "plot_bgcolor": "#E5ECF6",
          "polar": {
           "angularaxis": {
            "gridcolor": "white",
            "linecolor": "white",
            "ticks": ""
           },
           "bgcolor": "#E5ECF6",
           "radialaxis": {
            "gridcolor": "white",
            "linecolor": "white",
            "ticks": ""
           }
          },
          "scene": {
           "xaxis": {
            "backgroundcolor": "#E5ECF6",
            "gridcolor": "white",
            "gridwidth": 2,
            "linecolor": "white",
            "showbackground": true,
            "ticks": "",
            "zerolinecolor": "white"
           },
           "yaxis": {
            "backgroundcolor": "#E5ECF6",
            "gridcolor": "white",
            "gridwidth": 2,
            "linecolor": "white",
            "showbackground": true,
            "ticks": "",
            "zerolinecolor": "white"
           },
           "zaxis": {
            "backgroundcolor": "#E5ECF6",
            "gridcolor": "white",
            "gridwidth": 2,
            "linecolor": "white",
            "showbackground": true,
            "ticks": "",
            "zerolinecolor": "white"
           }
          },
          "shapedefaults": {
           "line": {
            "color": "#2a3f5f"
           }
          },
          "ternary": {
           "aaxis": {
            "gridcolor": "white",
            "linecolor": "white",
            "ticks": ""
           },
           "baxis": {
            "gridcolor": "white",
            "linecolor": "white",
            "ticks": ""
           },
           "bgcolor": "#E5ECF6",
           "caxis": {
            "gridcolor": "white",
            "linecolor": "white",
            "ticks": ""
           }
          },
          "title": {
           "x": 0.05
          },
          "xaxis": {
           "automargin": true,
           "gridcolor": "white",
           "linecolor": "white",
           "ticks": "",
           "title": {
            "standoff": 15
           },
           "zerolinecolor": "white",
           "zerolinewidth": 2
          },
          "yaxis": {
           "automargin": true,
           "gridcolor": "white",
           "linecolor": "white",
           "ticks": "",
           "title": {
            "standoff": 15
           },
           "zerolinecolor": "white",
           "zerolinewidth": 2
          }
         }
        },
        "title": {
         "text": "Nội dung được thêm vào theo tháng"
        }
       }
      }
     },
     "metadata": {},
     "output_type": "display_data"
    }
   ],
   "source": [
    "df[\"date_added\"] = pd.to_datetime(df['date_added'])\n",
    "\n",
    "df['month_added']=df['date_added'].dt.month\n",
    "df['month_name_added']=df['date_added'].dt.month_name()\n",
    "df['year_added'] = df['date_added'].dt.year\n",
    "\n",
    "df.drop('date_added',axis=1,inplace=True)\n",
    "\n",
    "df_tv = df[df[\"type\"] == \"TV Show\"]\n",
    "df_movies = df[df[\"type\"] == \"Movie\"]\n",
    "\n",
    "df_content = df[['month_added','month_name_added']].value_counts().reset_index().rename(columns = {\n",
    "    0 : 'count'}).sort_values('month_added').drop('month_added',axis=1)\n",
    "df_content['percent'] = df_content['count'].apply(lambda x : 100*x/sum(df_content['count']))\n",
    "\n",
    "\n",
    "df_tv2 = df_tv[['month_added','month_name_added']].value_counts().reset_index().rename(columns = {\n",
    "    0 : 'count'}).sort_values('month_added').drop('month_added',axis=1)\n",
    "df_tv2['percent'] = df_tv2['count'].apply(lambda x : 100*x/sum(df_tv2['count']))\n",
    "\n",
    "\n",
    "df_movies2 = df_movies[['month_added','month_name_added']].value_counts().reset_index().rename(columns = {\n",
    "    0 : 'count'}).sort_values('month_added').drop('month_added',axis=1)\n",
    "df_movies2['percent'] = df_movies2['count'].apply(lambda x : 100*x/sum(df_movies2['count']))\n",
    "\n",
    "t1 = go.Scatter(x=df_movies2['month_name_added'], y=df_movies2[\"count\"], name=\"Movies\", marker=dict(color=\"#a678de\"))\n",
    "t2 = go.Scatter(x=df_tv2['month_name_added'], y=df_tv2[\"count\"], name=\"TV Shows\", marker=dict(color=\"#6ad49b\"))\n",
    "t3 = go.Scatter(x=df_content['month_name_added'], y=df_content[\"count\"], name=\"Total Contents\", marker=dict(color=\"Brown\"))\n",
    "\n",
    "\n",
    "data = [t1, t2, t3]\n",
    "\n",
    "layout = go.Layout(title=\"Nội dung được thêm vào theo tháng\", legend=dict(x=0.1, y=1.1, orientation=\"h\"))\n",
    "fig = go.Figure(data, layout=layout)\n",
    "fig.show()"
   ]
  },
  {
   "cell_type": "markdown",
   "metadata": {},
   "source": [
    "- Nội dung được thêm vào nhiều ở đầu năm (tháng 1), khoảng từ tháng 3 - 4, giữa năm (tháng 7), và cuối năm (tháng 12)\n",
    "- Tháng 2 là tháng có nội dung được thêm vào ít nhất\n"
   ]
  },
  {
   "cell_type": "markdown",
   "metadata": {},
   "source": [
    "#### Lý do chọn biểu đồ\n",
    "- Line chart có lợi cho việc quan sát sự thay đổi và xu hướng tăng giảm số lượng nội dung qua các giai đoạn thời gian.\n",
    "- Line chart cũng hữu ích trong việc trình bày các thay đổi nhỏ mà khó có thể thể hiện được trong các biểu đồ khác.\n",
    "- Line chart rất hữu dụng để làm nổi bật những điểm bất thường trong toàn bộ dữ liệu.\n",
    "- Có thể vẽ nhiều hơn 1 đường trong cùng hệ tọa độ để có thể so sánh."
   ]
  },
  {
   "cell_type": "markdown",
   "metadata": {},
   "source": [
    "### CÁC ĐẠO DIỄN PHIM NGƯỜI MỸ SÁNG TẠO NHIỀU NỘI DUNG TRÊN NETFLIX NHẤT"
   ]
  },
  {
   "cell_type": "code",
   "execution_count": 26,
   "metadata": {},
   "outputs": [
    {
     "data": {
      "application/vnd.plotly.v1+json": {
       "config": {
        "plotlyServerURL": "https://plot.ly"
       },
       "data": [
        {
         "marker": {
          "color": "orange"
         },
         "name": "TV Shows",
         "orientation": "h",
         "type": "bar",
         "x": [
          6,
          6,
          7,
          7,
          7,
          8,
          8,
          9,
          12,
          14,
          15
         ],
         "y": [
          "Steve Brill",
          "Steven Spielberg",
          "Ryan Polito",
          "Lance Bangs",
          "Leslie Small",
          "Martin Scorsese",
          "Troy Miller",
          "Shannon Hartman",
          "Jay Chapman",
          "Marcus Raboy",
          "Jay Karas"
         ]
        }
       ],
       "layout": {
        "legend": {
         "orientation": "h",
         "x": 0.1,
         "y": 1.1
        },
        "template": {
         "data": {
          "bar": [
           {
            "error_x": {
             "color": "#2a3f5f"
            },
            "error_y": {
             "color": "#2a3f5f"
            },
            "marker": {
             "line": {
              "color": "#E5ECF6",
              "width": 0.5
             },
             "pattern": {
              "fillmode": "overlay",
              "size": 10,
              "solidity": 0.2
             }
            },
            "type": "bar"
           }
          ],
          "barpolar": [
           {
            "marker": {
             "line": {
              "color": "#E5ECF6",
              "width": 0.5
             },
             "pattern": {
              "fillmode": "overlay",
              "size": 10,
              "solidity": 0.2
             }
            },
            "type": "barpolar"
           }
          ],
          "carpet": [
           {
            "aaxis": {
             "endlinecolor": "#2a3f5f",
             "gridcolor": "white",
             "linecolor": "white",
             "minorgridcolor": "white",
             "startlinecolor": "#2a3f5f"
            },
            "baxis": {
             "endlinecolor": "#2a3f5f",
             "gridcolor": "white",
             "linecolor": "white",
             "minorgridcolor": "white",
             "startlinecolor": "#2a3f5f"
            },
            "type": "carpet"
           }
          ],
          "choropleth": [
           {
            "colorbar": {
             "outlinewidth": 0,
             "ticks": ""
            },
            "type": "choropleth"
           }
          ],
          "contour": [
           {
            "colorbar": {
             "outlinewidth": 0,
             "ticks": ""
            },
            "colorscale": [
             [
              0,
              "#0d0887"
             ],
             [
              0.1111111111111111,
              "#46039f"
             ],
             [
              0.2222222222222222,
              "#7201a8"
             ],
             [
              0.3333333333333333,
              "#9c179e"
             ],
             [
              0.4444444444444444,
              "#bd3786"
             ],
             [
              0.5555555555555556,
              "#d8576b"
             ],
             [
              0.6666666666666666,
              "#ed7953"
             ],
             [
              0.7777777777777778,
              "#fb9f3a"
             ],
             [
              0.8888888888888888,
              "#fdca26"
             ],
             [
              1,
              "#f0f921"
             ]
            ],
            "type": "contour"
           }
          ],
          "contourcarpet": [
           {
            "colorbar": {
             "outlinewidth": 0,
             "ticks": ""
            },
            "type": "contourcarpet"
           }
          ],
          "heatmap": [
           {
            "colorbar": {
             "outlinewidth": 0,
             "ticks": ""
            },
            "colorscale": [
             [
              0,
              "#0d0887"
             ],
             [
              0.1111111111111111,
              "#46039f"
             ],
             [
              0.2222222222222222,
              "#7201a8"
             ],
             [
              0.3333333333333333,
              "#9c179e"
             ],
             [
              0.4444444444444444,
              "#bd3786"
             ],
             [
              0.5555555555555556,
              "#d8576b"
             ],
             [
              0.6666666666666666,
              "#ed7953"
             ],
             [
              0.7777777777777778,
              "#fb9f3a"
             ],
             [
              0.8888888888888888,
              "#fdca26"
             ],
             [
              1,
              "#f0f921"
             ]
            ],
            "type": "heatmap"
           }
          ],
          "heatmapgl": [
           {
            "colorbar": {
             "outlinewidth": 0,
             "ticks": ""
            },
            "colorscale": [
             [
              0,
              "#0d0887"
             ],
             [
              0.1111111111111111,
              "#46039f"
             ],
             [
              0.2222222222222222,
              "#7201a8"
             ],
             [
              0.3333333333333333,
              "#9c179e"
             ],
             [
              0.4444444444444444,
              "#bd3786"
             ],
             [
              0.5555555555555556,
              "#d8576b"
             ],
             [
              0.6666666666666666,
              "#ed7953"
             ],
             [
              0.7777777777777778,
              "#fb9f3a"
             ],
             [
              0.8888888888888888,
              "#fdca26"
             ],
             [
              1,
              "#f0f921"
             ]
            ],
            "type": "heatmapgl"
           }
          ],
          "histogram": [
           {
            "marker": {
             "pattern": {
              "fillmode": "overlay",
              "size": 10,
              "solidity": 0.2
             }
            },
            "type": "histogram"
           }
          ],
          "histogram2d": [
           {
            "colorbar": {
             "outlinewidth": 0,
             "ticks": ""
            },
            "colorscale": [
             [
              0,
              "#0d0887"
             ],
             [
              0.1111111111111111,
              "#46039f"
             ],
             [
              0.2222222222222222,
              "#7201a8"
             ],
             [
              0.3333333333333333,
              "#9c179e"
             ],
             [
              0.4444444444444444,
              "#bd3786"
             ],
             [
              0.5555555555555556,
              "#d8576b"
             ],
             [
              0.6666666666666666,
              "#ed7953"
             ],
             [
              0.7777777777777778,
              "#fb9f3a"
             ],
             [
              0.8888888888888888,
              "#fdca26"
             ],
             [
              1,
              "#f0f921"
             ]
            ],
            "type": "histogram2d"
           }
          ],
          "histogram2dcontour": [
           {
            "colorbar": {
             "outlinewidth": 0,
             "ticks": ""
            },
            "colorscale": [
             [
              0,
              "#0d0887"
             ],
             [
              0.1111111111111111,
              "#46039f"
             ],
             [
              0.2222222222222222,
              "#7201a8"
             ],
             [
              0.3333333333333333,
              "#9c179e"
             ],
             [
              0.4444444444444444,
              "#bd3786"
             ],
             [
              0.5555555555555556,
              "#d8576b"
             ],
             [
              0.6666666666666666,
              "#ed7953"
             ],
             [
              0.7777777777777778,
              "#fb9f3a"
             ],
             [
              0.8888888888888888,
              "#fdca26"
             ],
             [
              1,
              "#f0f921"
             ]
            ],
            "type": "histogram2dcontour"
           }
          ],
          "mesh3d": [
           {
            "colorbar": {
             "outlinewidth": 0,
             "ticks": ""
            },
            "type": "mesh3d"
           }
          ],
          "parcoords": [
           {
            "line": {
             "colorbar": {
              "outlinewidth": 0,
              "ticks": ""
             }
            },
            "type": "parcoords"
           }
          ],
          "pie": [
           {
            "automargin": true,
            "type": "pie"
           }
          ],
          "scatter": [
           {
            "fillpattern": {
             "fillmode": "overlay",
             "size": 10,
             "solidity": 0.2
            },
            "type": "scatter"
           }
          ],
          "scatter3d": [
           {
            "line": {
             "colorbar": {
              "outlinewidth": 0,
              "ticks": ""
             }
            },
            "marker": {
             "colorbar": {
              "outlinewidth": 0,
              "ticks": ""
             }
            },
            "type": "scatter3d"
           }
          ],
          "scattercarpet": [
           {
            "marker": {
             "colorbar": {
              "outlinewidth": 0,
              "ticks": ""
             }
            },
            "type": "scattercarpet"
           }
          ],
          "scattergeo": [
           {
            "marker": {
             "colorbar": {
              "outlinewidth": 0,
              "ticks": ""
             }
            },
            "type": "scattergeo"
           }
          ],
          "scattergl": [
           {
            "marker": {
             "colorbar": {
              "outlinewidth": 0,
              "ticks": ""
             }
            },
            "type": "scattergl"
           }
          ],
          "scattermapbox": [
           {
            "marker": {
             "colorbar": {
              "outlinewidth": 0,
              "ticks": ""
             }
            },
            "type": "scattermapbox"
           }
          ],
          "scatterpolar": [
           {
            "marker": {
             "colorbar": {
              "outlinewidth": 0,
              "ticks": ""
             }
            },
            "type": "scatterpolar"
           }
          ],
          "scatterpolargl": [
           {
            "marker": {
             "colorbar": {
              "outlinewidth": 0,
              "ticks": ""
             }
            },
            "type": "scatterpolargl"
           }
          ],
          "scatterternary": [
           {
            "marker": {
             "colorbar": {
              "outlinewidth": 0,
              "ticks": ""
             }
            },
            "type": "scatterternary"
           }
          ],
          "surface": [
           {
            "colorbar": {
             "outlinewidth": 0,
             "ticks": ""
            },
            "colorscale": [
             [
              0,
              "#0d0887"
             ],
             [
              0.1111111111111111,
              "#46039f"
             ],
             [
              0.2222222222222222,
              "#7201a8"
             ],
             [
              0.3333333333333333,
              "#9c179e"
             ],
             [
              0.4444444444444444,
              "#bd3786"
             ],
             [
              0.5555555555555556,
              "#d8576b"
             ],
             [
              0.6666666666666666,
              "#ed7953"
             ],
             [
              0.7777777777777778,
              "#fb9f3a"
             ],
             [
              0.8888888888888888,
              "#fdca26"
             ],
             [
              1,
              "#f0f921"
             ]
            ],
            "type": "surface"
           }
          ],
          "table": [
           {
            "cells": {
             "fill": {
              "color": "#EBF0F8"
             },
             "line": {
              "color": "white"
             }
            },
            "header": {
             "fill": {
              "color": "#C8D4E3"
             },
             "line": {
              "color": "white"
             }
            },
            "type": "table"
           }
          ]
         },
         "layout": {
          "annotationdefaults": {
           "arrowcolor": "#2a3f5f",
           "arrowhead": 0,
           "arrowwidth": 1
          },
          "autotypenumbers": "strict",
          "coloraxis": {
           "colorbar": {
            "outlinewidth": 0,
            "ticks": ""
           }
          },
          "colorscale": {
           "diverging": [
            [
             0,
             "#8e0152"
            ],
            [
             0.1,
             "#c51b7d"
            ],
            [
             0.2,
             "#de77ae"
            ],
            [
             0.3,
             "#f1b6da"
            ],
            [
             0.4,
             "#fde0ef"
            ],
            [
             0.5,
             "#f7f7f7"
            ],
            [
             0.6,
             "#e6f5d0"
            ],
            [
             0.7,
             "#b8e186"
            ],
            [
             0.8,
             "#7fbc41"
            ],
            [
             0.9,
             "#4d9221"
            ],
            [
             1,
             "#276419"
            ]
           ],
           "sequential": [
            [
             0,
             "#0d0887"
            ],
            [
             0.1111111111111111,
             "#46039f"
            ],
            [
             0.2222222222222222,
             "#7201a8"
            ],
            [
             0.3333333333333333,
             "#9c179e"
            ],
            [
             0.4444444444444444,
             "#bd3786"
            ],
            [
             0.5555555555555556,
             "#d8576b"
            ],
            [
             0.6666666666666666,
             "#ed7953"
            ],
            [
             0.7777777777777778,
             "#fb9f3a"
            ],
            [
             0.8888888888888888,
             "#fdca26"
            ],
            [
             1,
             "#f0f921"
            ]
           ],
           "sequentialminus": [
            [
             0,
             "#0d0887"
            ],
            [
             0.1111111111111111,
             "#46039f"
            ],
            [
             0.2222222222222222,
             "#7201a8"
            ],
            [
             0.3333333333333333,
             "#9c179e"
            ],
            [
             0.4444444444444444,
             "#bd3786"
            ],
            [
             0.5555555555555556,
             "#d8576b"
            ],
            [
             0.6666666666666666,
             "#ed7953"
            ],
            [
             0.7777777777777778,
             "#fb9f3a"
            ],
            [
             0.8888888888888888,
             "#fdca26"
            ],
            [
             1,
             "#f0f921"
            ]
           ]
          },
          "colorway": [
           "#636efa",
           "#EF553B",
           "#00cc96",
           "#ab63fa",
           "#FFA15A",
           "#19d3f3",
           "#FF6692",
           "#B6E880",
           "#FF97FF",
           "#FECB52"
          ],
          "font": {
           "color": "#2a3f5f"
          },
          "geo": {
           "bgcolor": "white",
           "lakecolor": "white",
           "landcolor": "#E5ECF6",
           "showlakes": true,
           "showland": true,
           "subunitcolor": "white"
          },
          "hoverlabel": {
           "align": "left"
          },
          "hovermode": "closest",
          "mapbox": {
           "style": "light"
          },
          "paper_bgcolor": "white",
          "plot_bgcolor": "#E5ECF6",
          "polar": {
           "angularaxis": {
            "gridcolor": "white",
            "linecolor": "white",
            "ticks": ""
           },
           "bgcolor": "#E5ECF6",
           "radialaxis": {
            "gridcolor": "white",
            "linecolor": "white",
            "ticks": ""
           }
          },
          "scene": {
           "xaxis": {
            "backgroundcolor": "#E5ECF6",
            "gridcolor": "white",
            "gridwidth": 2,
            "linecolor": "white",
            "showbackground": true,
            "ticks": "",
            "zerolinecolor": "white"
           },
           "yaxis": {
            "backgroundcolor": "#E5ECF6",
            "gridcolor": "white",
            "gridwidth": 2,
            "linecolor": "white",
            "showbackground": true,
            "ticks": "",
            "zerolinecolor": "white"
           },
           "zaxis": {
            "backgroundcolor": "#E5ECF6",
            "gridcolor": "white",
            "gridwidth": 2,
            "linecolor": "white",
            "showbackground": true,
            "ticks": "",
            "zerolinecolor": "white"
           }
          },
          "shapedefaults": {
           "line": {
            "color": "#2a3f5f"
           }
          },
          "ternary": {
           "aaxis": {
            "gridcolor": "white",
            "linecolor": "white",
            "ticks": ""
           },
           "baxis": {
            "gridcolor": "white",
            "linecolor": "white",
            "ticks": ""
           },
           "bgcolor": "#E5ECF6",
           "caxis": {
            "gridcolor": "white",
            "linecolor": "white",
            "ticks": ""
           }
          },
          "title": {
           "x": 0.05
          },
          "xaxis": {
           "automargin": true,
           "gridcolor": "white",
           "linecolor": "white",
           "ticks": "",
           "title": {
            "standoff": 15
           },
           "zerolinecolor": "white",
           "zerolinewidth": 2
          },
          "yaxis": {
           "automargin": true,
           "gridcolor": "white",
           "linecolor": "white",
           "ticks": "",
           "title": {
            "standoff": 15
           },
           "zerolinecolor": "white",
           "zerolinewidth": 2
          }
         }
        },
        "title": {
         "text": "Các đạo diễn phim người Mỹ sáng tạo nhiều nội dung nhất"
        }
       }
      }
     },
     "metadata": {},
     "output_type": "display_data"
    }
   ],
   "source": [
    "from collections import Counter\n",
    "\n",
    "small = df[df[\"type\"] == \"Movie\"]\n",
    "small = small[small[\"country\"] == \"United States\"]\n",
    "\n",
    "col = \"director\"\n",
    "categories = \", \".join(small[col].fillna(\"\")).split(\", \")\n",
    "counter_list = Counter(categories).most_common(12)\n",
    "counter_list = [_ for _ in counter_list if _[0] != \"\"]\n",
    "labels = [_[0] for _ in counter_list][::-1]\n",
    "values = [_[1] for _ in counter_list][::-1]\n",
    "trace1 = go.Bar(y=labels, x=values, orientation=\"h\", name=\"TV Shows\", marker=dict(color=\"orange\"))\n",
    "\n",
    "data = [trace1]\n",
    "layout = go.Layout(title=\"Các đạo diễn phim người Mỹ sáng tạo nhiều nội dung nhất\", legend=dict(x=0.1, y=1.1, orientation=\"h\"))\n",
    "fig = go.Figure(data, layout=layout)\n",
    "fig.show()"
   ]
  },
  {
   "cell_type": "markdown",
   "metadata": {},
   "source": [
    "#### Lý do chọn biểu đồ (Horizontal Bar Chart)\n",
    "- Tên nhãn dài có thể được biểu thị dễ dàng, dễ đọc mà không bị chồng với tên nhãn khác (Vertical Bar Chart).\n",
    "- Dễ dàng trình bày dữ liệu với số lượng lớn.\n",
    "- "
   ]
  },
  {
   "cell_type": "markdown",
   "metadata": {},
   "source": []
  },
  {
   "cell_type": "markdown",
   "metadata": {},
   "source": [
    "### Liên hệ giữa type và release year"
   ]
  },
  {
   "cell_type": "markdown",
   "metadata": {},
   "source": []
  }
 ],
 "metadata": {
  "kernelspec": {
   "display_name": "Python 3 (ipykernel)",
   "language": "python",
   "name": "python3"
  },
  "language_info": {
   "codemirror_mode": {
    "name": "ipython",
    "version": 3
   },
   "file_extension": ".py",
   "mimetype": "text/x-python",
   "name": "python",
   "nbconvert_exporter": "python",
   "pygments_lexer": "ipython3",
   "version": "3.10.0"
  }
 },
 "nbformat": 4,
 "nbformat_minor": 4
}
