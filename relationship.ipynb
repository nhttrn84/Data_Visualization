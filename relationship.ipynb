{
 "cells": [
  {
   "cell_type": "markdown",
   "metadata": {},
   "source": [
    "<div style=\"text-align: center; font-size: 25px;\">\n",
    "Trực quan hóa dữ liệu - CQ2021/21 <br>\n",
    "Nhóm 02<br>\n",
    "TLab 01: Data visualization with Python <br>\n",
    "Chủ đề: Visualize Netflix movies and TV show\n",
    "</div>"
   ]
  },
  {
   "cell_type": "code",
   "execution_count": 182,
   "metadata": {},
   "outputs": [
    {
     "data": {
      "text/html": [
       "<div>\n",
       "<style scoped>\n",
       "    .dataframe tbody tr th:only-of-type {\n",
       "        vertical-align: middle;\n",
       "    }\n",
       "\n",
       "    .dataframe tbody tr th {\n",
       "        vertical-align: top;\n",
       "    }\n",
       "\n",
       "    .dataframe thead th {\n",
       "        text-align: right;\n",
       "    }\n",
       "</style>\n",
       "<table border=\"1\" class=\"dataframe\">\n",
       "  <thead>\n",
       "    <tr style=\"text-align: right;\">\n",
       "      <th></th>\n",
       "      <th>show_id</th>\n",
       "      <th>type</th>\n",
       "      <th>title</th>\n",
       "      <th>director</th>\n",
       "      <th>cast</th>\n",
       "      <th>country</th>\n",
       "      <th>date_added</th>\n",
       "      <th>release_year</th>\n",
       "      <th>rating</th>\n",
       "      <th>duration</th>\n",
       "      <th>listed_in</th>\n",
       "      <th>description</th>\n",
       "    </tr>\n",
       "  </thead>\n",
       "  <tbody>\n",
       "    <tr>\n",
       "      <th>0</th>\n",
       "      <td>s1</td>\n",
       "      <td>Movie</td>\n",
       "      <td>Dick Johnson Is Dead</td>\n",
       "      <td>Kirsten Johnson</td>\n",
       "      <td>NaN</td>\n",
       "      <td>United States</td>\n",
       "      <td>9/25/2021</td>\n",
       "      <td>2020</td>\n",
       "      <td>PG-13</td>\n",
       "      <td>90 min</td>\n",
       "      <td>Documentaries</td>\n",
       "      <td>As her father nears the end of his life, filmm...</td>\n",
       "    </tr>\n",
       "    <tr>\n",
       "      <th>1</th>\n",
       "      <td>s2</td>\n",
       "      <td>TV Show</td>\n",
       "      <td>Blood &amp; Water</td>\n",
       "      <td>NaN</td>\n",
       "      <td>Ama Qamata, Khosi Ngema, Gail Mabalane, Thaban...</td>\n",
       "      <td>South Africa</td>\n",
       "      <td>9/24/2021</td>\n",
       "      <td>2021</td>\n",
       "      <td>TV-MA</td>\n",
       "      <td>2 Seasons</td>\n",
       "      <td>International TV Shows, TV Dramas, TV Mysteries</td>\n",
       "      <td>After crossing paths at a party, a Cape Town t...</td>\n",
       "    </tr>\n",
       "    <tr>\n",
       "      <th>2</th>\n",
       "      <td>s3</td>\n",
       "      <td>TV Show</td>\n",
       "      <td>Ganglands</td>\n",
       "      <td>Julien Leclercq</td>\n",
       "      <td>Sami Bouajila, Tracy Gotoas, Samuel Jouy, Nabi...</td>\n",
       "      <td>NaN</td>\n",
       "      <td>9/24/2021</td>\n",
       "      <td>2021</td>\n",
       "      <td>TV-MA</td>\n",
       "      <td>1 Season</td>\n",
       "      <td>Crime TV Shows, International TV Shows, TV Act...</td>\n",
       "      <td>To protect his family from a powerful drug lor...</td>\n",
       "    </tr>\n",
       "    <tr>\n",
       "      <th>3</th>\n",
       "      <td>s4</td>\n",
       "      <td>TV Show</td>\n",
       "      <td>Jailbirds New Orleans</td>\n",
       "      <td>NaN</td>\n",
       "      <td>NaN</td>\n",
       "      <td>NaN</td>\n",
       "      <td>9/24/2021</td>\n",
       "      <td>2021</td>\n",
       "      <td>TV-MA</td>\n",
       "      <td>1 Season</td>\n",
       "      <td>Docuseries, Reality TV</td>\n",
       "      <td>Feuds, flirtations and toilet talk go down amo...</td>\n",
       "    </tr>\n",
       "    <tr>\n",
       "      <th>4</th>\n",
       "      <td>s5</td>\n",
       "      <td>TV Show</td>\n",
       "      <td>Kota Factory</td>\n",
       "      <td>NaN</td>\n",
       "      <td>Mayur More, Jitendra Kumar, Ranjan Raj, Alam K...</td>\n",
       "      <td>India</td>\n",
       "      <td>9/24/2021</td>\n",
       "      <td>2021</td>\n",
       "      <td>TV-MA</td>\n",
       "      <td>2 Seasons</td>\n",
       "      <td>International TV Shows, Romantic TV Shows, TV ...</td>\n",
       "      <td>In a city of coaching centers known to train I...</td>\n",
       "    </tr>\n",
       "  </tbody>\n",
       "</table>\n",
       "</div>"
      ],
      "text/plain": [
       "  show_id     type                  title         director  \\\n",
       "0      s1    Movie   Dick Johnson Is Dead  Kirsten Johnson   \n",
       "1      s2  TV Show          Blood & Water              NaN   \n",
       "2      s3  TV Show              Ganglands  Julien Leclercq   \n",
       "3      s4  TV Show  Jailbirds New Orleans              NaN   \n",
       "4      s5  TV Show           Kota Factory              NaN   \n",
       "\n",
       "                                                cast        country  \\\n",
       "0                                                NaN  United States   \n",
       "1  Ama Qamata, Khosi Ngema, Gail Mabalane, Thaban...   South Africa   \n",
       "2  Sami Bouajila, Tracy Gotoas, Samuel Jouy, Nabi...            NaN   \n",
       "3                                                NaN            NaN   \n",
       "4  Mayur More, Jitendra Kumar, Ranjan Raj, Alam K...          India   \n",
       "\n",
       "  date_added  release_year rating   duration  \\\n",
       "0  9/25/2021          2020  PG-13     90 min   \n",
       "1  9/24/2021          2021  TV-MA  2 Seasons   \n",
       "2  9/24/2021          2021  TV-MA   1 Season   \n",
       "3  9/24/2021          2021  TV-MA   1 Season   \n",
       "4  9/24/2021          2021  TV-MA  2 Seasons   \n",
       "\n",
       "                                           listed_in  \\\n",
       "0                                      Documentaries   \n",
       "1    International TV Shows, TV Dramas, TV Mysteries   \n",
       "2  Crime TV Shows, International TV Shows, TV Act...   \n",
       "3                             Docuseries, Reality TV   \n",
       "4  International TV Shows, Romantic TV Shows, TV ...   \n",
       "\n",
       "                                         description  \n",
       "0  As her father nears the end of his life, filmm...  \n",
       "1  After crossing paths at a party, a Cape Town t...  \n",
       "2  To protect his family from a powerful drug lor...  \n",
       "3  Feuds, flirtations and toilet talk go down amo...  \n",
       "4  In a city of coaching centers known to train I...  "
      ]
     },
     "execution_count": 182,
     "metadata": {},
     "output_type": "execute_result"
    }
   ],
   "source": [
    "import pandas as pd\n",
    "import numpy as np\n",
    "import matplotlib.pyplot as plt\n",
    "import seaborn as sns\n",
    "import plotly.graph_objects as go\n",
    "\n",
    "df = pd.read_csv('netflix_titles.csv')\n",
    "df.head()"
   ]
  },
  {
   "cell_type": "markdown",
   "metadata": {},
   "source": [
    "# A. Thu thập dữ liệu"
   ]
  },
  {
   "cell_type": "markdown",
   "metadata": {},
   "source": [
    "* Ngữ cảnh:\n",
    "    * Netflix là một trong những nền tảng truyền thông phương tiện và phát trực tuyến lớn nhất, với hơn 8000 phim và chương trình truyền hình, và cùng với 260 triệu người đăng ký.\n",
    "\n",
    "    * Để tìm hiểu thêm về Netflix, cũng như dữ liệu về nội dung mà nền tảng này cung cấp, từ đó hiểu rõ hơn về định hướng của nền tảng, nhóm đã quyết định chọn bộ dữ liệu này để phân tích.\n",
    "\n",
    "* Bộ dữ liệu:\n",
    "    * Chủ đề: Phim và chương trình truyền hình của Netflix.\n",
    "    * Nguồn: https://www.kaggle.com/datasets/shivamb/netflix-shows\n",
    "\n",
    "* License:\n",
    "    * CC0: Hoàn toàn có được sự cho phép để copy, chỉnh sửa, phân loại và thực hiện các công việc mà không cần phải xin giấy phép.\n",
    "\n",
    "* Cách thức thu thập dữ liệu:\n",
    "    * Nguồn thu thập: cố định trên nền tảng Netflix\n",
    "    * Sử dụng cách gọi API để thu thập các dữ liệu trên nền tảng"
   ]
  },
  {
   "cell_type": "markdown",
   "metadata": {},
   "source": [
    "# B. Khám phá dữ liệu"
   ]
  },
  {
   "cell_type": "code",
   "execution_count": 183,
   "metadata": {},
   "outputs": [
    {
     "name": "stdout",
     "output_type": "stream",
     "text": [
      "Number of rows:  8807\n",
      "Number of columns:  12\n"
     ]
    }
   ],
   "source": [
    "print('Number of rows: ', df.shape[0])\n",
    "print('Number of columns: ', df.shape[1])"
   ]
  },
  {
   "cell_type": "markdown",
   "metadata": {},
   "source": [
    "* Bộ dữ liệu có tổng cộng 8807 dòng, mỗi dòng đều có đúng 1 ý nghĩa, đó là thể hiện dữ liệu liên quan đến 1 bộ phim hoặc chương trình truyền hình cụ thể\n",
    "\n",
    "* Bộ dữ liệu có 12 cột:\n",
    "    * `show_id`: chứa các giá trị id duy nhất cho một bộ phim/chương trình truyền hình\n",
    "    * `type`: thể loại của bộ phim/chương trình truyền hình\n",
    "    * `title`: tên của bộ phim/chương trình truyền hình\n",
    "    * `director`: tên của đạo diễn \n",
    "    * `cast`: các diễn viên tham gia bộ phim/chương trình truyền hình\n",
    "    * `country`: quốc gia mà bộ phim/chương trình truyền hình được sản xuất\n",
    "    * `date_added`: ngày được thêm vào Netflix\n",
    "    * `release_year`: năm phát hành của bộ phim/chương trình truyền hình\n",
    "    * `rating`: đánh giá độ tuổi được phép xem của bộ phim/chương trình truyền hình\n",
    "    * `duration`: tổng thời lượng phát sóng\n",
    "    * `listed_in`: các thể loại\n",
    "    * `description`: mô tả nội dung"
   ]
  },
  {
   "cell_type": "code",
   "execution_count": 184,
   "metadata": {},
   "outputs": [
    {
     "name": "stdout",
     "output_type": "stream",
     "text": [
      "show_id         object\n",
      "type            object\n",
      "title           object\n",
      "director        object\n",
      "cast            object\n",
      "country         object\n",
      "date_added      object\n",
      "release_year     int64\n",
      "rating          object\n",
      "duration        object\n",
      "listed_in       object\n",
      "description     object\n",
      "dtype: object\n"
     ]
    }
   ],
   "source": [
    "print(df.dtypes)"
   ]
  },
  {
   "cell_type": "markdown",
   "metadata": {},
   "source": [
    "* Kiểu dữ liệu của từng cột\n",
    "    * `show_id`: object\n",
    "    * `type`: object\n",
    "    * `title`: object\n",
    "    * `director`: object\n",
    "    * `cast`: object\n",
    "    * `country`: object\n",
    "    * `date_added`: object\n",
    "    * `release_year`: int\n",
    "    * `rating`: object\n",
    "    * `duration`: object\n",
    "    * `listed_in`: object\n",
    "    * `description`: object"
   ]
  },
  {
   "cell_type": "markdown",
   "metadata": {},
   "source": [
    "* Sau quá trình kiểm tra các giá trị của các cột trên thì ta nên xử lý cột `date_added`, chuyển dữ liệu từ object sang datetime"
   ]
  },
  {
   "cell_type": "code",
   "execution_count": 185,
   "metadata": {},
   "outputs": [
    {
     "data": {
      "text/plain": [
       "show_id                 object\n",
       "type                    object\n",
       "title                   object\n",
       "director                object\n",
       "cast                    object\n",
       "country                 object\n",
       "date_added      datetime64[ns]\n",
       "release_year             int64\n",
       "rating                  object\n",
       "duration                object\n",
       "listed_in               object\n",
       "description             object\n",
       "dtype: object"
      ]
     },
     "execution_count": 185,
     "metadata": {},
     "output_type": "execute_result"
    }
   ],
   "source": [
    "df['date_added'] = pd.to_datetime(df['date_added'], format='mixed')\n",
    "df.dtypes"
   ]
  },
  {
   "cell_type": "code",
   "execution_count": 186,
   "metadata": {},
   "outputs": [
    {
     "name": "stdout",
     "output_type": "stream",
     "text": [
      "Total unique id value:  8807\n",
      "Number of null values:  0\n"
     ]
    },
    {
     "data": {
      "text/plain": [
       "0    s1\n",
       "1    s2\n",
       "2    s3\n",
       "3    s4\n",
       "4    s5\n",
       "Name: show_id, dtype: object"
      ]
     },
     "execution_count": 186,
     "metadata": {},
     "output_type": "execute_result"
    }
   ],
   "source": [
    "print('Total unique id value: ', df['show_id'].nunique())\n",
    "print('Number of null values: ', df['show_id'].isnull().sum())\n",
    "df['show_id'].head()"
   ]
  },
  {
   "cell_type": "code",
   "execution_count": 187,
   "metadata": {},
   "outputs": [
    {
     "name": "stdout",
     "output_type": "stream",
     "text": [
      "Type:  ['Movie' 'TV Show']\n",
      "Total unique value:  2\n",
      "Number of null values:  0\n"
     ]
    }
   ],
   "source": [
    "print('Type: ', df['type'].unique())\n",
    "print('Total unique value: ', df['type'].nunique())\n",
    "print('Number of null values: ', df['type'].isnull().sum())"
   ]
  },
  {
   "cell_type": "code",
   "execution_count": 188,
   "metadata": {},
   "outputs": [
    {
     "name": "stdout",
     "output_type": "stream",
     "text": [
      "Total unique title value:  8804\n",
      "Number of null values:  0\n"
     ]
    },
    {
     "data": {
      "text/plain": [
       "0     Dick Johnson Is Dead\n",
       "1            Blood & Water\n",
       "2                Ganglands\n",
       "3    Jailbirds New Orleans\n",
       "4             Kota Factory\n",
       "Name: title, dtype: object"
      ]
     },
     "execution_count": 188,
     "metadata": {},
     "output_type": "execute_result"
    }
   ],
   "source": [
    "print('Total unique title value: ', df['title'].nunique())\n",
    "print('Number of null values: ', df['title'].isnull().sum())\n",
    "df['title'].head()"
   ]
  },
  {
   "cell_type": "code",
   "execution_count": 189,
   "metadata": {},
   "outputs": [
    {
     "name": "stdout",
     "output_type": "stream",
     "text": [
      "Total unique director value:  4528\n",
      "Number of null values:  2634\n"
     ]
    },
    {
     "data": {
      "text/plain": [
       "0    Kirsten Johnson\n",
       "1                NaN\n",
       "2    Julien Leclercq\n",
       "3                NaN\n",
       "4                NaN\n",
       "Name: director, dtype: object"
      ]
     },
     "execution_count": 189,
     "metadata": {},
     "output_type": "execute_result"
    }
   ],
   "source": [
    "print('Total unique director value: ', df['director'].nunique())\n",
    "print('Number of null values: ', df['director'].isnull().sum())\n",
    "df['director'].head()"
   ]
  },
  {
   "cell_type": "code",
   "execution_count": 190,
   "metadata": {},
   "outputs": [
    {
     "name": "stdout",
     "output_type": "stream",
     "text": [
      "Total unique cast value:  7692\n",
      "Number of null values:  825\n"
     ]
    },
    {
     "data": {
      "text/plain": [
       "0                                                  NaN\n",
       "1    Ama Qamata, Khosi Ngema, Gail Mabalane, Thaban...\n",
       "2    Sami Bouajila, Tracy Gotoas, Samuel Jouy, Nabi...\n",
       "3                                                  NaN\n",
       "4    Mayur More, Jitendra Kumar, Ranjan Raj, Alam K...\n",
       "Name: cast, dtype: object"
      ]
     },
     "execution_count": 190,
     "metadata": {},
     "output_type": "execute_result"
    }
   ],
   "source": [
    "print('Total unique cast value: ', df['cast'].nunique())\n",
    "print('Number of null values: ', df['cast'].isnull().sum())\n",
    "df['cast'].head()"
   ]
  },
  {
   "cell_type": "code",
   "execution_count": 191,
   "metadata": {},
   "outputs": [
    {
     "name": "stdout",
     "output_type": "stream",
     "text": [
      "Total unique country value:  748\n",
      "Number of null values:  831\n"
     ]
    },
    {
     "data": {
      "text/plain": [
       "0    United States\n",
       "1     South Africa\n",
       "2              NaN\n",
       "3              NaN\n",
       "4            India\n",
       "Name: country, dtype: object"
      ]
     },
     "execution_count": 191,
     "metadata": {},
     "output_type": "execute_result"
    }
   ],
   "source": [
    "print('Total unique country value: ', df['country'].nunique())\n",
    "print('Number of null values: ', df['country'].isnull().sum())\n",
    "df['country'].head()"
   ]
  },
  {
   "cell_type": "code",
   "execution_count": 192,
   "metadata": {},
   "outputs": [
    {
     "name": "stdout",
     "output_type": "stream",
     "text": [
      "Date added from:  2008-01-01 00:00:00  to  2021-09-25 00:00:00\n",
      "Number of null values:  10\n"
     ]
    }
   ],
   "source": [
    "print('Date added from: ', df['date_added'].min(), ' to ', df['date_added'].max())\n",
    "print('Number of null values: ', df['date_added'].isnull().sum())"
   ]
  },
  {
   "cell_type": "code",
   "execution_count": 193,
   "metadata": {},
   "outputs": [
    {
     "name": "stdout",
     "output_type": "stream",
     "text": [
      "Release year from:  1925  to  2021\n",
      "Number of null values:  0\n"
     ]
    }
   ],
   "source": [
    "print('Release year from: ', df['release_year'].min(), ' to ', df['release_year'].max())\n",
    "print('Number of null values: ', df['release_year'].isnull().sum())"
   ]
  },
  {
   "cell_type": "code",
   "execution_count": 194,
   "metadata": {},
   "outputs": [
    {
     "name": "stdout",
     "output_type": "stream",
     "text": [
      "Rating:  ['PG-13' 'TV-MA' 'PG' 'TV-14' 'TV-PG' 'TV-Y' 'TV-Y7' 'R' 'TV-G' 'G'\n",
      " 'NC-17' 'NR' nan 'TV-Y7-FV' 'UR']\n",
      "Total unique value:  14\n",
      "Number of null values:  4\n"
     ]
    }
   ],
   "source": [
    "print('Rating: ', df['rating'].unique())\n",
    "print('Total unique value: ', df['rating'].nunique())\n",
    "print('Number of null values: ', df['rating'].isnull().sum())"
   ]
  },
  {
   "cell_type": "code",
   "execution_count": 195,
   "metadata": {},
   "outputs": [
    {
     "name": "stdout",
     "output_type": "stream",
     "text": [
      "Total unique duration value:  220\n",
      "Number of null values:  0\n"
     ]
    },
    {
     "data": {
      "text/plain": [
       "0       90 min\n",
       "1    2 Seasons\n",
       "2     1 Season\n",
       "3     1 Season\n",
       "4    2 Seasons\n",
       "Name: duration, dtype: object"
      ]
     },
     "execution_count": 195,
     "metadata": {},
     "output_type": "execute_result"
    }
   ],
   "source": [
    "print('Total unique duration value: ', df['duration'].nunique())\n",
    "print('Number of null values: ', df['duration'].isnull().sum())\n",
    "df['duration'].head()"
   ]
  },
  {
   "cell_type": "code",
   "execution_count": 196,
   "metadata": {},
   "outputs": [
    {
     "name": "stdout",
     "output_type": "stream",
     "text": [
      "Total unique listed_in value:  514\n",
      "Number of null values:  0\n"
     ]
    },
    {
     "data": {
      "text/plain": [
       "0                                        Documentaries\n",
       "1      International TV Shows, TV Dramas, TV Mysteries\n",
       "2    Crime TV Shows, International TV Shows, TV Act...\n",
       "3                               Docuseries, Reality TV\n",
       "4    International TV Shows, Romantic TV Shows, TV ...\n",
       "Name: listed_in, dtype: object"
      ]
     },
     "execution_count": 196,
     "metadata": {},
     "output_type": "execute_result"
    }
   ],
   "source": [
    "print('Total unique listed_in value: ', df['listed_in'].nunique())\n",
    "print('Number of null values: ', df['listed_in'].isnull().sum())\n",
    "df['listed_in'].head()"
   ]
  },
  {
   "cell_type": "code",
   "execution_count": 197,
   "metadata": {},
   "outputs": [
    {
     "name": "stdout",
     "output_type": "stream",
     "text": [
      "Number of null values:  0\n"
     ]
    },
    {
     "data": {
      "text/plain": [
       "0    As her father nears the end of his life, filmm...\n",
       "1    After crossing paths at a party, a Cape Town t...\n",
       "2    To protect his family from a powerful drug lor...\n",
       "3    Feuds, flirtations and toilet talk go down amo...\n",
       "4    In a city of coaching centers known to train I...\n",
       "Name: description, dtype: object"
      ]
     },
     "execution_count": 197,
     "metadata": {},
     "output_type": "execute_result"
    }
   ],
   "source": [
    "print('Number of null values: ', df['description'].isnull().sum())\n",
    "df['description'].head()"
   ]
  },
  {
   "cell_type": "markdown",
   "metadata": {},
   "source": [
    "* Với mỗi cột, các giá trị được phân bố như sau:\n",
    "    * `show_id`: 8807 giá trị id duy nhất\n",
    "    * `type`: chỉ có 2 giá trị: `Movie` và `TV Show`\n",
    "    * `title`: 8807 tên khác nhau\n",
    "    * `director`: có khoảng 30% hàng không có giá trị, còn lại sẽ có 4528 cái tên phân biệt\n",
    "    * `cast`: có khoảng 9% hàng không có giá trị, còn lại sẽ có 7692 cái tên phân biệt\n",
    "    * `country`: có khoảng 9% hàng không có giá trị, còn lại sẽ có 748 cái tên phân biệt\n",
    "    * `date_added`: bao gồm các giá trị ngày tháng năm trong khoảng từ 01-01-2008 đến 25-09-2021\n",
    "    * `release_year`: bao gồm các giá trị số nguyên từ 1925 đến 2021\n",
    "    * `rating`: bao gồm các giá trị nhãn, gồm 14 nhãn khác nhau\n",
    "    * `duration`: thời lượng phát sóng được tính bằng số phút, hoặc tính theo mùa\n",
    "    * `listed_in`: gồm 514 thể loại khác nhau\n",
    "    * `description`: các chuỗi mô tả"
   ]
  },
  {
   "cell_type": "markdown",
   "metadata": {},
   "source": [
    "* Đối với bộ dữ liệu trên thì việc tiền xử lý là không cần thiết, không có cột nào có quá nhiều hàng không có giá trị, chỉ duy nhất là cột director bị thiếu mất khoảng 30% giá trị, tuy nhiên vẫn có thể chấp nhận được."
   ]
  },
  {
   "cell_type": "markdown",
   "metadata": {},
   "source": [
    "# C. Khám phá mối quan hệ trong dữ liệu"
   ]
  },
  {
   "cell_type": "markdown",
   "metadata": {},
   "source": [
    "### Nhận xét về loại hình phim (Movie type) trong dữ liệu"
   ]
  },
  {
   "cell_type": "code",
   "execution_count": 198,
   "metadata": {},
   "outputs": [
    {
     "data": {
      "image/png": "[encoded data removed]",
      "text/plain": [
       "<Figure size 1400x700 with 2 Axes>"
      ]
     },
     "metadata": {},
     "output_type": "display_data"
    }
   ],
   "source": [
    "import matplotlib.pyplot as plt\n",
    "import seaborn as sns\n",
    "\n",
    "# Create a figure with 2 subplots (1 row, 2 columns)\n",
    "fig, axes = plt.subplots(1, 2, figsize=(14, 7))\n",
    "\n",
    "# Pie chart\n",
    "type_counts = df['type'].value_counts()\n",
    "axes[0].pie(type_counts, labels=type_counts.index, autopct='%1.1f%%')\n",
    "axes[0].set_title('Tỉ lệ phần trăm của các Movie types')\n",
    "\n",
    "# Column chart\n",
    "sns.countplot(x='type', data=df, ax=axes[1])\n",
    "axes[1].set_ylabel('Số lượng')\n",
    "axes[1].set_xlabel('Loại hình')\n",
    "axes[1].set_title('Số lượng của các Movie types')\n",
    "\n",
    "plt.tight_layout()\n",
    "plt.show()\n"
   ]
  },
  {
   "cell_type": "markdown",
   "metadata": {},
   "source": [
    "#### Lí do chọn biểu đồ\n",
    "- Biểu đồ tròn thích hợp để hiển thị phần trăm của mỗi loại giá trị so với tổng số lượng. Điều này đặc biệt hữu ích khi biểu diễn tỷ lệ phần trăm của \"Movie\" so với \"TV-Show\" giúp người đọc dễ dàng so sánh tỷ lệ giữa hai loại giá trị.\n",
    "- Biểu đồ cột thích hợp để trực quan hóa số lượng của các loại giá trị, trong trường hợp này là \"Movie\" và \"TV-Show\". Cột được sắp xếp theo thứ giảm dần, giúp người đọc dễ dàng so sánh các giá trị.\n"
   ]
  },
  {
   "cell_type": "markdown",
   "metadata": {},
   "source": [
    "#### Nhận xét\n",
    "*   Số lượng phim kiểu \"Movie\" chiếm đa số trong tất cả các phim, với hơn 2/3 tổng số lượng phim và gấp đôi số lượng phim kiểu \"TV Show\". Điều này chỉ ra sự phổ biến của Movie so với TV Show."
   ]
  },
  {
   "cell_type": "markdown",
   "metadata": {},
   "source": [
    "### Nhận xét về năm phát hành (Release Year) của các bộ phim"
   ]
  },
  {
   "cell_type": "code",
   "execution_count": 199,
   "metadata": {},
   "outputs": [
    {
     "data": {
      "image/png": "[encoded data removed]",
      "text/plain": [
       "<Figure size 1000x500 with 1 Axes>"
      ]
     },
     "metadata": {},
     "output_type": "display_data"
    }
   ],
   "source": [
    "# Tính số lượng phát hành theo năm\n",
    "release_counts = df['release_year'].value_counts()\n",
    "\n",
    "# Vẽ biểu đồ cột\n",
    "plt.figure(figsize=(10,5))\n",
    "plt.bar(release_counts.index, release_counts.values)\n",
    "plt.xlabel('Năm phát hành')\n",
    "plt.ylabel('Số lượng')\n",
    "plt.title('Số lượng phim phát hành mỗi năm')\n",
    "plt.show()\n"
   ]
  },
  {
   "cell_type": "markdown",
   "metadata": {},
   "source": [
    "#### Lý do chọn biểu đồ\n",
    "\n",
    "* Biểu đồ cột rất phù hợp với trường hợp trường dữ liệu có nhiều giá trị như release year.\n",
    "* Có thể dễ dàng nhìn thấy xu hướng phát triển của ngành công nghiệp điện ảnh qua thời gian.\n",
    "* Biểu đồ được sắp xếp theo thứ tự tăng dần, giúp người đọc dễ so sánh số lượng phim phát hành giữa các năm hoặc nhận biết các năm có sự tăng trưởng đặc biệt."
   ]
  },
  {
   "cell_type": "markdown",
   "metadata": {},
   "source": [
    "#### Nhận xét\n",
    "\n",
    "* Từ những năm 2000 trở đi, số lượng phim đã bắt đầu tăng dần, cho thấy ngành công nghiệp điện ảnh bắt đầu phát triển. Trước đó, số lượng phim rất ít và không có sự tăng trưởng đáng kể.\n",
    "* Sự phát triển của ngành công nghiệp điện ảnh trở nên rõ rệt từ năm 2014, tăng đột biến số lượng phim được phát hành.\n",
    "* Năm 2018 được xác định là năm đỉnh điểm của số lượng phim được phát hành, cho thấy sự phát triển mạnh mẽ của ngành công nghiệp điện ảnh tại thời điểm này.\n",
    "* Từ năm 2018 trở đi, số lượng phim được phát hành giảm đột biến.\n",
    "\n",
    "=> Tổng quan, biểu đồ minh họa một hành trình phát triển độc đáo của ngành công nghiệp điện ảnh, từ sự phát triển từ những năm 2000, đạt đỉnh cao vào năm 2018, và sau đó trải qua sự giảm đột biến trong thời gian sau đó."
   ]
  },
  {
   "cell_type": "markdown",
   "metadata": {},
   "source": [
    "### Nhận xét về quốc gia sản xuất (Country) của các bộ phim"
   ]
  },
  {
   "cell_type": "code",
   "execution_count": 200,
   "metadata": {},
   "outputs": [
    {
     "data": {
      "image/png": "[encoded data removed]",
      "text/plain": [
       "<Figure size 1400x600 with 2 Axes>"
      ]
     },
     "metadata": {},
     "output_type": "display_data"
    }
   ],
   "source": [
    "# Đếm số lượng film ở mỗi quốc gia\n",
    "country_count = df[\"country\"].value_counts()\n",
    "top_countries = country_count.head(5)\n",
    "other_countries_count = country_count[5:].sum()\n",
    "top_and_others = pd.concat([top_countries, pd.Series(other_countries_count, index=['Others'])])\n",
    "\n",
    "# Set up the figure and axes\n",
    "fig, axes = plt.subplots(1, 2, figsize=(14, 6))\n",
    "# Pie chart\n",
    "axes[0].pie(top_and_others, labels=top_and_others.index, autopct='%1.1f%%', startangle=140, colors=['skyblue', 'lightgreen', 'lightcoral', 'orange', 'lightpink', 'grey'])\n",
    "axes[0].set_title(\"Phần trăm số lượng film theo quốc gia\")\n",
    "\n",
    "# Countplot\n",
    "sns.countplot(x='country', data=df, order=country_count.index[:5], ax=axes[1])\n",
    "axes[1].set_xlabel(\"Quốc gia\")\n",
    "axes[1].set_ylabel(\"Số lượng film\")\n",
    "axes[1].set_title(\"Số lượng film của 5 quốc gia hàng đầu\")\n",
    "\n",
    "# Adjust layout\n",
    "plt.tight_layout()\n",
    "plt.show()\n"
   ]
  },
  {
   "cell_type": "markdown",
   "metadata": {},
   "source": [
    "#### Lí do chọn biểu đồ\n",
    "- Pie chart là một lựa chọn phù hợp vì chúng ta quan tâm đến phân phối phần trăm của số lượng bộ phim ở mỗi quốc gia so với tổng số lượng bộ phim. Ở đây, ta lấy 5 quốc gia có nhiều phim nhất và gom tất cả các quốc gia còn lại thành nhóm others để dễ trực quan.\n",
    "- Countplot là một lựa chọn phù hợp khi muốn biểu diễn phân phối của một biến phân loại (categorical variable) dưới dạng số lượng.\n",
    "Ở đây, biến phân loại là country và số lượng film là country_count. Chỉ lấy top 5 quốc gia để dễ trực quan hóa.\n"
   ]
  },
  {
   "cell_type": "markdown",
   "metadata": {},
   "source": [
    "#### Nhận xét\n",
    "- Với tỉ lệ sản xuất phim chiếm 35.3% và gần 3000 bộ phim, Mỹ tiếp tục đóng vai trò quan trọng như một trung tâm sản xuất phim trên Netflix. Sức mạnh của ngành công nghiệp điện ảnh Mỹ và sự phát triển của Hollywood được phản ánh rõ qua con số này.\n",
    "- Với tỉ lệ sản xuất phim đạt 12.2% và gần 1000 bộ phim, Ấn Độ cũng là một trong những thị trường điện ảnh lớn nhất thế giới, và sự nổi tiếng của Bollywood đã góp phần vào sự đa dạng nội dung trên Netflix.\n",
    "- Biểu đồ cũng cho thấy sự đa dạng và phong phú của nội dung trên Netflix, phản ánh một môi trường đa văn hóa và đa ngôn ngữ trong ngành công nghiệp điện ảnh."
   ]
  },
  {
   "cell_type": "markdown",
   "metadata": {},
   "source": [
    "### Nhận xét về xếp loại (Rating) của các bộ phim"
   ]
  },
  {
   "cell_type": "code",
   "execution_count": 201,
   "metadata": {},
   "outputs": [
    {
     "data": {
      "image/png": "[encoded data removed]",
      "text/plain": [
       "<Figure size 640x480 with 1 Axes>"
      ]
     },
     "metadata": {},
     "output_type": "display_data"
    }
   ],
   "source": [
    "rating_count = df[\"rating\"].value_counts(normalize=True)\n",
    "sns.countplot(x=\"rating\", data=df, order=rating_count.index)\n",
    "plt.xlabel('Xếp loại phim')\n",
    "plt.ylabel('Số lượng')\n",
    "plt.title('Số lượng phim của từng xếp loại')\n",
    "plt.xticks(rotation=45)\n",
    "plt.show()"
   ]
  },
  {
   "cell_type": "markdown",
   "metadata": {},
   "source": [
    "#### Lí do chọn biểu đồ \n",
    "- Countplot là một lựa chọn phù hợp khi muốn biểu diễn phân phối của một biến phân loại (categorical variable) dưới dạng số lượng.\n",
    "- Ở đây, biến phân loại là rating và số lượng film là rating_count. "
   ]
  },
  {
   "cell_type": "markdown",
   "metadata": {},
   "source": [
    "#### Nhận xét\n",
    "- Nhìn chung, tag TV-MA (không phù hợp cho người dưới 17 tuổi) là tag phổ biến nhất, tiếp theo đó là tag TV-14 (phù hợp cho người 14 tuổi trở lên). "
   ]
  },
  {
   "cell_type": "markdown",
   "metadata": {},
   "source": [
    "### Nhận xét về thể loại (Listed_in) của các bộ phim"
   ]
  },
  {
   "cell_type": "code",
   "execution_count": 202,
   "metadata": {},
   "outputs": [],
   "source": [
    "#creating a dataframe for tv show\n",
    "tv_show = (df['type'] == 'TV Show')\n",
    "tvdf = df[tv_show]"
   ]
  },
  {
   "cell_type": "code",
   "execution_count": 203,
   "metadata": {},
   "outputs": [],
   "source": [
    "#creating a dataframe for movies\n",
    "movie = (df['type'] == 'Movie')\n",
    "movie_df = df[movie]"
   ]
  },
  {
   "cell_type": "code",
   "execution_count": 204,
   "metadata": {},
   "outputs": [],
   "source": [
    "#movie genres\n",
    "genres = {}\n",
    "for genre in movie_df['listed_in']:\n",
    "    for i in genre.split(','):\n",
    "        i=i.strip()\n",
    "        if i not in genres:\n",
    "            genres[i] = 1\n",
    "        else:\n",
    "            genres[i] += 1\n",
    "        \n",
    "genre_movie_df = pd.DataFrame(list(genres.items()), columns= ['Genre', 'Number of Movies'])\n",
    "genre_movie_df['Genre'].unique()\n",
    "genre_movie_df.sort_values(by = 'Number of Movies', ascending = False).head()\n",
    "top_genres = genre_movie_df.nlargest(5, columns=\"Number of Movies\")"
   ]
  },
  {
   "cell_type": "code",
   "execution_count": 210,
   "metadata": {
    "scrolled": true
   },
   "outputs": [
    {
     "data": {
      "image/png": "[encoded data removed]",
      "text/plain": [
       "<Figure size 6000x1500 with 1 Axes>"
      ]
     },
     "metadata": {},
     "output_type": "display_data"
    }
   ],
   "source": [
    "fig, ax = plt.subplots(figsize=(60, 15))\n",
    "sns.barplot(x='Genre', y='Number of Movies',\n",
    "            data=top_genres.sort_values(by='Number of Movies', ascending=False))\n",
    "ax.set_title(\"Top 5 thể loại có số lượng phim nhiều nhất\", fontsize=60, pad=30)\n",
    "plt.tick_params(labelsize=40) \n",
    "ax.set_xlabel('Thể loại', fontsize=40, labelpad=30)  \n",
    "ax.set_ylabel('Số lượng film', fontsize=40, labelpad=30)\n",
    "plt.show()"
   ]
  },
  {
   "cell_type": "markdown",
   "metadata": {},
   "source": [
    "#### Lí do chọn biểu đồ \n",
    "- Countplot là một lựa chọn phù hợp khi muốn biểu diễn phân phối của một biến phân loại (categorical variable) dưới dạng số lượng.\n",
    "- Ở đây, biến phân loại là genre và số lượng film là Number of Movies. Chỉ lấy top 5 thể loại có nhiều phim nhất để trực quan hóa."
   ]
  },
  {
   "cell_type": "markdown",
   "metadata": {},
   "source": [
    "#### Nhận xét: \n",
    "- Có thể dễ dàng nhận thấy, tag phim đa quốc gia là loại phim có số lượng nhiều nhất ở netflix, theo sau đó là phim truyện. \n",
    "- Các thể loại khác kém phổ biến hơn là Hài kịch, phim tài liệu và phim phiêu lưu hành động. \n",
    "- Phim đa quốc gia ở đây ko phải là một thể loại phim mà hay được xem như một tính chất hơn. Do đó không khó hiểu khi tag đa quốc gia sẽ là nhiều nhất."
   ]
  },
  {
   "cell_type": "markdown",
   "metadata": {},
   "source": [
    "### Nhận xét về số lượng phim được thêm vào theo tháng"
   ]
  },
  {
   "cell_type": "code",
   "execution_count": 206,
   "metadata": {
    "scrolled": true
   },
   "outputs": [
    {
     "data": {
      "application/vnd.plotly.v1+json": {
       "config": {
        "plotlyServerURL": "https://plot.ly"
       },
       "data": [
        {
         "marker": {
          "color": "#a678de"
         },
         "name": "Movies",
         "type": "scatter",
         "x": [
          "January",
          "February",
          "March",
          "April",
          "May",
          "June",
          "July",
          "August",
          "September",
          "October",
          "November",
          "December"
         ],
         "y": [
          546,
          382,
          529,
          550,
          439,
          492,
          565,
          519,
          519,
          545,
          498,
          547
         ]
        },
        {
         "marker": {
          "color": "#6ad49b"
         },
         "name": "TV Shows",
         "type": "scatter",
         "x": [
          "January",
          "February",
          "March",
          "April",
          "May",
          "June",
          "July",
          "August",
          "September",
          "October",
          "November",
          "December"
         ],
         "y": [
          192,
          181,
          213,
          214,
          193,
          236,
          262,
          236,
          251,
          215,
          207,
          266
         ]
        },
        {
         "marker": {
          "color": "Brown"
         },
         "name": "Total Contents",
         "type": "scatter",
         "x": [
          "January",
          "February",
          "March",
          "April",
          "May",
          "June",
          "July",
          "August",
          "September",
          "October",
          "November",
          "December"
         ],
         "y": [
          738,
          563,
          742,
          764,
          632,
          728,
          827,
          755,
          770,
          760,
          705,
          813
         ]
        }
       ],
       "layout": {
        "legend": {
         "orientation": "h",
         "x": 0.1,
         "y": 1.1
        },
        "template": {
         "data": {
          "bar": [
           {
            "error_x": {
             "color": "#2a3f5f"
            },
            "error_y": {
             "color": "#2a3f5f"
            },
            "marker": {
             "line": {
              "color": "#E5ECF6",
              "width": 0.5
             },
             "pattern": {
              "fillmode": "overlay",
              "size": 10,
              "solidity": 0.2
             }
            },
            "type": "bar"
           }
          ],
          "barpolar": [
           {
            "marker": {
             "line": {
              "color": "#E5ECF6",
              "width": 0.5
             },
             "pattern": {
              "fillmode": "overlay",
              "size": 10,
              "solidity": 0.2
             }
            },
            "type": "barpolar"
           }
          ],
          "carpet": [
           {
            "aaxis": {
             "endlinecolor": "#2a3f5f",
             "gridcolor": "white",
             "linecolor": "white",
             "minorgridcolor": "white",
             "startlinecolor": "#2a3f5f"
            },
            "baxis": {
             "endlinecolor": "#2a3f5f",
             "gridcolor": "white",
             "linecolor": "white",
             "minorgridcolor": "white",
             "startlinecolor": "#2a3f5f"
            },
            "type": "carpet"
           }
          ],
          "choropleth": [
           {
            "colorbar": {
             "outlinewidth": 0,
             "ticks": ""
            },
            "type": "choropleth"
           }
          ],
          "contour": [
           {
            "colorbar": {
             "outlinewidth": 0,
             "ticks": ""
            },
            "colorscale": [
             [
              0,
              "#0d0887"
             ],
             [
              0.1111111111111111,
              "#46039f"
             ],
             [
              0.2222222222222222,
              "#7201a8"
             ],
             [
              0.3333333333333333,
              "#9c179e"
             ],
             [
              0.4444444444444444,
              "#bd3786"
             ],
             [
              0.5555555555555556,
              "#d8576b"
             ],
             [
              0.6666666666666666,
              "#ed7953"
             ],
             [
              0.7777777777777778,
              "#fb9f3a"
             ],
             [
              0.8888888888888888,
              "#fdca26"
             ],
             [
              1,
              "#f0f921"
             ]
            ],
            "type": "contour"
           }
          ],
          "contourcarpet": [
           {
            "colorbar": {
             "outlinewidth": 0,
             "ticks": ""
            },
            "type": "contourcarpet"
           }
          ],
          "heatmap": [
           {
            "colorbar": {
             "outlinewidth": 0,
             "ticks": ""
            },
            "colorscale": [
             [
              0,
              "#0d0887"
             ],
             [
              0.1111111111111111,
              "#46039f"
             ],
             [
              0.2222222222222222,
              "#7201a8"
             ],
             [
              0.3333333333333333,
              "#9c179e"
             ],
             [
              0.4444444444444444,
              "#bd3786"
             ],
             [
              0.5555555555555556,
              "#d8576b"
             ],
             [
              0.6666666666666666,
              "#ed7953"
             ],
             [
              0.7777777777777778,
              "#fb9f3a"
             ],
             [
              0.8888888888888888,
              "#fdca26"
             ],
             [
              1,
              "#f0f921"
             ]
            ],
            "type": "heatmap"
           }
          ],
          "heatmapgl": [
           {
            "colorbar": {
             "outlinewidth": 0,
             "ticks": ""
            },
            "colorscale": [
             [
              0,
              "#0d0887"
             ],
             [
              0.1111111111111111,
              "#46039f"
             ],
             [
              0.2222222222222222,
              "#7201a8"
             ],
             [
              0.3333333333333333,
              "#9c179e"
             ],
             [
              0.4444444444444444,
              "#bd3786"
             ],
             [
              0.5555555555555556,
              "#d8576b"
             ],
             [
              0.6666666666666666,
              "#ed7953"
             ],
             [
              0.7777777777777778,
              "#fb9f3a"
             ],
             [
              0.8888888888888888,
              "#fdca26"
             ],
             [
              1,
              "#f0f921"
             ]
            ],
            "type": "heatmapgl"
           }
          ],
          "histogram": [
           {
            "marker": {
             "pattern": {
              "fillmode": "overlay",
              "size": 10,
              "solidity": 0.2
             }
            },
            "type": "histogram"
           }
          ],
          "histogram2d": [
           {
            "colorbar": {
             "outlinewidth": 0,
             "ticks": ""
            },
            "colorscale": [
             [
              0,
              "#0d0887"
             ],
             [
              0.1111111111111111,
              "#46039f"
             ],
             [
              0.2222222222222222,
              "#7201a8"
             ],
             [
              0.3333333333333333,
              "#9c179e"
             ],
             [
              0.4444444444444444,
              "#bd3786"
             ],
             [
              0.5555555555555556,
              "#d8576b"
             ],
             [
              0.6666666666666666,
              "#ed7953"
             ],
             [
              0.7777777777777778,
              "#fb9f3a"
             ],
             [
              0.8888888888888888,
              "#fdca26"
             ],
             [
              1,
              "#f0f921"
             ]
            ],
            "type": "histogram2d"
           }
          ],
          "histogram2dcontour": [
           {
            "colorbar": {
             "outlinewidth": 0,
             "ticks": ""
            },
            "colorscale": [
             [
              0,
              "#0d0887"
             ],
             [
              0.1111111111111111,
              "#46039f"
             ],
             [
              0.2222222222222222,
              "#7201a8"
             ],
             [
              0.3333333333333333,
              "#9c179e"
             ],
             [
              0.4444444444444444,
              "#bd3786"
             ],
             [
              0.5555555555555556,
              "#d8576b"
             ],
             [
              0.6666666666666666,
              "#ed7953"
             ],
             [
              0.7777777777777778,
              "#fb9f3a"
             ],
             [
              0.8888888888888888,
              "#fdca26"
             ],
             [
              1,
              "#f0f921"
             ]
            ],
            "type": "histogram2dcontour"
           }
          ],
          "mesh3d": [
           {
            "colorbar": {
             "outlinewidth": 0,
             "ticks": ""
            },
            "type": "mesh3d"
           }
          ],
          "parcoords": [
           {
            "line": {
             "colorbar": {
              "outlinewidth": 0,
              "ticks": ""
             }
            },
            "type": "parcoords"
           }
          ],
          "pie": [
           {
            "automargin": true,
            "type": "pie"
           }
          ],
          "scatter": [
           {
            "fillpattern": {
             "fillmode": "overlay",
             "size": 10,
             "solidity": 0.2
            },
            "type": "scatter"
           }
          ],
          "scatter3d": [
           {
            "line": {
             "colorbar": {
              "outlinewidth": 0,
              "ticks": ""
             }
            },
            "marker": {
             "colorbar": {
              "outlinewidth": 0,
              "ticks": ""
             }
            },
            "type": "scatter3d"
           }
          ],
          "scattercarpet": [
           {
            "marker": {
             "colorbar": {
              "outlinewidth": 0,
              "ticks": ""
             }
            },
            "type": "scattercarpet"
           }
          ],
          "scattergeo": [
           {
            "marker": {
             "colorbar": {
              "outlinewidth": 0,
              "ticks": ""
             }
            },
            "type": "scattergeo"
           }
          ],
          "scattergl": [
           {
            "marker": {
             "colorbar": {
              "outlinewidth": 0,
              "ticks": ""
             }
            },
            "type": "scattergl"
           }
          ],
          "scattermapbox": [
           {
            "marker": {
             "colorbar": {
              "outlinewidth": 0,
              "ticks": ""
             }
            },
            "type": "scattermapbox"
           }
          ],
          "scatterpolar": [
           {
            "marker": {
             "colorbar": {
              "outlinewidth": 0,
              "ticks": ""
             }
            },
            "type": "scatterpolar"
           }
          ],
          "scatterpolargl": [
           {
            "marker": {
             "colorbar": {
              "outlinewidth": 0,
              "ticks": ""
             }
            },
            "type": "scatterpolargl"
           }
          ],
          "scatterternary": [
           {
            "marker": {
             "colorbar": {
              "outlinewidth": 0,
              "ticks": ""
             }
            },
            "type": "scatterternary"
           }
          ],
          "surface": [
           {
            "colorbar": {
             "outlinewidth": 0,
             "ticks": ""
            },
            "colorscale": [
             [
              0,
              "#0d0887"
             ],
             [
              0.1111111111111111,
              "#46039f"
             ],
             [
              0.2222222222222222,
              "#7201a8"
             ],
             [
              0.3333333333333333,
              "#9c179e"
             ],
             [
              0.4444444444444444,
              "#bd3786"
             ],
             [
              0.5555555555555556,
              "#d8576b"
             ],
             [
              0.6666666666666666,
              "#ed7953"
             ],
             [
              0.7777777777777778,
              "#fb9f3a"
             ],
             [
              0.8888888888888888,
              "#fdca26"
             ],
             [
              1,
              "#f0f921"
             ]
            ],
            "type": "surface"
           }
          ],
          "table": [
           {
            "cells": {
             "fill": {
              "color": "#EBF0F8"
             },
             "line": {
              "color": "white"
             }
            },
            "header": {
             "fill": {
              "color": "#C8D4E3"
             },
             "line": {
              "color": "white"
             }
            },
            "type": "table"
           }
          ]
         },
         "layout": {
          "annotationdefaults": {
           "arrowcolor": "#2a3f5f",
           "arrowhead": 0,
           "arrowwidth": 1
          },
          "autotypenumbers": "strict",
          "coloraxis": {
           "colorbar": {
            "outlinewidth": 0,
            "ticks": ""
           }
          },
          "colorscale": {
           "diverging": [
            [
             0,
             "#8e0152"
            ],
            [
             0.1,
             "#c51b7d"
            ],
            [
             0.2,
             "#de77ae"
            ],
            [
             0.3,
             "#f1b6da"
            ],
            [
             0.4,
             "#fde0ef"
            ],
            [
             0.5,
             "#f7f7f7"
            ],
            [
             0.6,
             "#e6f5d0"
            ],
            [
             0.7,
             "#b8e186"
            ],
            [
             0.8,
             "#7fbc41"
            ],
            [
             0.9,
             "#4d9221"
            ],
            [
             1,
             "#276419"
            ]
           ],
           "sequential": [
            [
             0,
             "#0d0887"
            ],
            [
             0.1111111111111111,
             "#46039f"
            ],
            [
             0.2222222222222222,
             "#7201a8"
            ],
            [
             0.3333333333333333,
             "#9c179e"
            ],
            [
             0.4444444444444444,
             "#bd3786"
            ],
            [
             0.5555555555555556,
             "#d8576b"
            ],
            [
             0.6666666666666666,
             "#ed7953"
            ],
            [
             0.7777777777777778,
             "#fb9f3a"
            ],
            [
             0.8888888888888888,
             "#fdca26"
            ],
            [
             1,
             "#f0f921"
            ]
           ],
           "sequentialminus": [
            [
             0,
             "#0d0887"
            ],
            [
             0.1111111111111111,
             "#46039f"
            ],
            [
             0.2222222222222222,
             "#7201a8"
            ],
            [
             0.3333333333333333,
             "#9c179e"
            ],
            [
             0.4444444444444444,
             "#bd3786"
            ],
            [
             0.5555555555555556,
             "#d8576b"
            ],
            [
             0.6666666666666666,
             "#ed7953"
            ],
            [
             0.7777777777777778,
             "#fb9f3a"
            ],
            [
             0.8888888888888888,
             "#fdca26"
            ],
            [
             1,
             "#f0f921"
            ]
           ]
          },
          "colorway": [
           "#636efa",
           "#EF553B",
           "#00cc96",
           "#ab63fa",
           "#FFA15A",
           "#19d3f3",
           "#FF6692",
           "#B6E880",
           "#FF97FF",
           "#FECB52"
          ],
          "font": {
           "color": "#2a3f5f"
          },
          "geo": {
           "bgcolor": "white",
           "lakecolor": "white",
           "landcolor": "#E5ECF6",
           "showlakes": true,
           "showland": true,
           "subunitcolor": "white"
          },
          "hoverlabel": {
           "align": "left"
          },
          "hovermode": "closest",
          "mapbox": {
           "style": "light"
          },
          "paper_bgcolor": "white",
          "plot_bgcolor": "#E5ECF6",
          "polar": {
           "angularaxis": {
            "gridcolor": "white",
            "linecolor": "white",
            "ticks": ""
           },
           "bgcolor": "#E5ECF6",
           "radialaxis": {
            "gridcolor": "white",
            "linecolor": "white",
            "ticks": ""
           }
          },
          "scene": {
           "xaxis": {
            "backgroundcolor": "#E5ECF6",
            "gridcolor": "white",
            "gridwidth": 2,
            "linecolor": "white",
            "showbackground": true,
            "ticks": "",
            "zerolinecolor": "white"
           },
           "yaxis": {
            "backgroundcolor": "#E5ECF6",
            "gridcolor": "white",
            "gridwidth": 2,
            "linecolor": "white",
            "showbackground": true,
            "ticks": "",
            "zerolinecolor": "white"
           },
           "zaxis": {
            "backgroundcolor": "#E5ECF6",
            "gridcolor": "white",
            "gridwidth": 2,
            "linecolor": "white",
            "showbackground": true,
            "ticks": "",
            "zerolinecolor": "white"
           }
          },
          "shapedefaults": {
           "line": {
            "color": "#2a3f5f"
           }
          },
          "ternary": {
           "aaxis": {
            "gridcolor": "white",
            "linecolor": "white",
            "ticks": ""
           },
           "baxis": {
            "gridcolor": "white",
            "linecolor": "white",
            "ticks": ""
           },
           "bgcolor": "#E5ECF6",
           "caxis": {
            "gridcolor": "white",
            "linecolor": "white",
            "ticks": ""
           }
          },
          "title": {
           "x": 0.05
          },
          "xaxis": {
           "automargin": true,
           "gridcolor": "white",
           "linecolor": "white",
           "ticks": "",
           "title": {
            "standoff": 15
           },
           "zerolinecolor": "white",
           "zerolinewidth": 2
          },
          "yaxis": {
           "automargin": true,
           "gridcolor": "white",
           "linecolor": "white",
           "ticks": "",
           "title": {
            "standoff": 15
           },
           "zerolinecolor": "white",
           "zerolinewidth": 2
          }
         }
        },
        "title": {
         "text": "Số lượng phim được thêm vào theo tháng"
        }
       }
      }
     },
     "metadata": {},
     "output_type": "display_data"
    }
   ],
   "source": [
    "df[\"date_added\"] = pd.to_datetime(df['date_added'])\n",
    "\n",
    "df['month_added']=df['date_added'].dt.month\n",
    "df['month_name_added']=df['date_added'].dt.month_name()\n",
    "df['year_added'] = df['date_added'].dt.year\n",
    "\n",
    "df.drop('date_added',axis=1,inplace=True)\n",
    "\n",
    "df_tv = df[df[\"type\"] == \"TV Show\"]\n",
    "df_movies = df[df[\"type\"] == \"Movie\"]\n",
    "\n",
    "df_content = df[['month_added','month_name_added']].value_counts().reset_index().rename(columns = {\n",
    "    0 : 'count'}).sort_values('month_added').drop('month_added',axis=1)\n",
    "df_content['percent'] = df_content['count'].apply(lambda x : 100*x/sum(df_content['count']))\n",
    "\n",
    "\n",
    "df_tv2 = df_tv[['month_added','month_name_added']].value_counts().reset_index().rename(columns = {\n",
    "    0 : 'count'}).sort_values('month_added').drop('month_added',axis=1)\n",
    "df_tv2['percent'] = df_tv2['count'].apply(lambda x : 100*x/sum(df_tv2['count']))\n",
    "\n",
    "\n",
    "df_movies2 = df_movies[['month_added','month_name_added']].value_counts().reset_index().rename(columns = {\n",
    "    0 : 'count'}).sort_values('month_added').drop('month_added',axis=1)\n",
    "df_movies2['percent'] = df_movies2['count'].apply(lambda x : 100*x/sum(df_movies2['count']))\n",
    "\n",
    "t1 = go.Scatter(x=df_movies2['month_name_added'], y=df_movies2[\"count\"], name=\"Movies\", marker=dict(color=\"#a678de\"))\n",
    "t2 = go.Scatter(x=df_tv2['month_name_added'], y=df_tv2[\"count\"], name=\"TV Shows\", marker=dict(color=\"#6ad49b\"))\n",
    "t3 = go.Scatter(x=df_content['month_name_added'], y=df_content[\"count\"], name=\"Total Contents\", marker=dict(color=\"Brown\"))\n",
    "\n",
    "\n",
    "data = [t1, t2, t3]\n",
    "\n",
    "layout = go.Layout(title=\"Số lượng phim được thêm vào theo tháng\", legend=dict(x=0.1, y=1.1, orientation=\"h\"))\n",
    "fig = go.Figure(data, layout=layout)\n",
    "fig.show()"
   ]
  },
  {
   "cell_type": "markdown",
   "metadata": {},
   "source": [
    "#### Lý do chọn biểu đồ\n",
    "- Line chart có lợi cho việc quan sát sự thay đổi và xu hướng tăng giảm số lượng nội dung qua các giai đoạn thời gian.\n",
    "- Line chart cũng hữu ích trong việc trình bày các thay đổi nhỏ mà khó có thể thể hiện được trong các biểu đồ khác.\n",
    "- Line chart rất hữu dụng để làm nổi bật những điểm bất thường trong toàn bộ dữ liệu.\n",
    "- Có thể vẽ nhiều hơn 1 đường trong cùng hệ tọa độ để có thể so sánh."
   ]
  },
  {
   "cell_type": "markdown",
   "metadata": {},
   "source": [
    "#### Nhận xét"
   ]
  },
  {
   "cell_type": "markdown",
   "metadata": {},
   "source": [
    "- Nội dung được thêm vào nhiều ở đầu năm (tháng 1), khoảng từ tháng 3 - 4, giữa năm (tháng 7), và cuối năm (tháng 12)\n",
    "- Tháng 2 là tháng có nội dung được thêm vào ít nhất\n"
   ]
  },
  {
   "cell_type": "markdown",
   "metadata": {},
   "source": [
    "### Các đạo diễn phim người Mỹ sáng tạo nhiều nội dung trên netflix nhất"
   ]
  },
  {
   "cell_type": "code",
   "execution_count": 214,
   "metadata": {},
   "outputs": [
    {
     "data": {
      "application/vnd.plotly.v1+json": {
       "config": {
        "plotlyServerURL": "https://plot.ly"
       },
       "data": [
        {
         "marker": {
          "color": "orange"
         },
         "name": "TV Shows",
         "orientation": "h",
         "type": "bar",
         "x": [
          6,
          6,
          6,
          7,
          7,
          7,
          8,
          8,
          9,
          12,
          14,
          15
         ],
         "y": [
          "Robert Rodriguez",
          "Steve Brill",
          "Steven Spielberg",
          "Ryan Polito",
          "Lance Bangs",
          "Leslie Small",
          "Martin Scorsese",
          "Troy Miller",
          "Shannon Hartman",
          "Jay Chapman",
          "Marcus Raboy",
          "Jay Karas"
         ]
        }
       ],
       "layout": {
        "legend": {
         "orientation": "h",
         "x": 0.1,
         "y": 1.1
        },
        "template": {
         "data": {
          "bar": [
           {
            "error_x": {
             "color": "#2a3f5f"
            },
            "error_y": {
             "color": "#2a3f5f"
            },
            "marker": {
             "line": {
              "color": "#E5ECF6",
              "width": 0.5
             },
             "pattern": {
              "fillmode": "overlay",
              "size": 10,
              "solidity": 0.2
             }
            },
            "type": "bar"
           }
          ],
          "barpolar": [
           {
            "marker": {
             "line": {
              "color": "#E5ECF6",
              "width": 0.5
             },
             "pattern": {
              "fillmode": "overlay",
              "size": 10,
              "solidity": 0.2
             }
            },
            "type": "barpolar"
           }
          ],
          "carpet": [
           {
            "aaxis": {
             "endlinecolor": "#2a3f5f",
             "gridcolor": "white",
             "linecolor": "white",
             "minorgridcolor": "white",
             "startlinecolor": "#2a3f5f"
            },
            "baxis": {
             "endlinecolor": "#2a3f5f",
             "gridcolor": "white",
             "linecolor": "white",
             "minorgridcolor": "white",
             "startlinecolor": "#2a3f5f"
            },
            "type": "carpet"
           }
          ],
          "choropleth": [
           {
            "colorbar": {
             "outlinewidth": 0,
             "ticks": ""
            },
            "type": "choropleth"
           }
          ],
          "contour": [
           {
            "colorbar": {
             "outlinewidth": 0,
             "ticks": ""
            },
            "colorscale": [
             [
              0,
              "#0d0887"
             ],
             [
              0.1111111111111111,
              "#46039f"
             ],
             [
              0.2222222222222222,
              "#7201a8"
             ],
             [
              0.3333333333333333,
              "#9c179e"
             ],
             [
              0.4444444444444444,
              "#bd3786"
             ],
             [
              0.5555555555555556,
              "#d8576b"
             ],
             [
              0.6666666666666666,
              "#ed7953"
             ],
             [
              0.7777777777777778,
              "#fb9f3a"
             ],
             [
              0.8888888888888888,
              "#fdca26"
             ],
             [
              1,
              "#f0f921"
             ]
            ],
            "type": "contour"
           }
          ],
          "contourcarpet": [
           {
            "colorbar": {
             "outlinewidth": 0,
             "ticks": ""
            },
            "type": "contourcarpet"
           }
          ],
          "heatmap": [
           {
            "colorbar": {
             "outlinewidth": 0,
             "ticks": ""
            },
            "colorscale": [
             [
              0,
              "#0d0887"
             ],
             [
              0.1111111111111111,
              "#46039f"
             ],
             [
              0.2222222222222222,
              "#7201a8"
             ],
             [
              0.3333333333333333,
              "#9c179e"
             ],
             [
              0.4444444444444444,
              "#bd3786"
             ],
             [
              0.5555555555555556,
              "#d8576b"
             ],
             [
              0.6666666666666666,
              "#ed7953"
             ],
             [
              0.7777777777777778,
              "#fb9f3a"
             ],
             [
              0.8888888888888888,
              "#fdca26"
             ],
             [
              1,
              "#f0f921"
             ]
            ],
            "type": "heatmap"
           }
          ],
          "heatmapgl": [
           {
            "colorbar": {
             "outlinewidth": 0,
             "ticks": ""
            },
            "colorscale": [
             [
              0,
              "#0d0887"
             ],
             [
              0.1111111111111111,
              "#46039f"
             ],
             [
              0.2222222222222222,
              "#7201a8"
             ],
             [
              0.3333333333333333,
              "#9c179e"
             ],
             [
              0.4444444444444444,
              "#bd3786"
             ],
             [
              0.5555555555555556,
              "#d8576b"
             ],
             [
              0.6666666666666666,
              "#ed7953"
             ],
             [
              0.7777777777777778,
              "#fb9f3a"
             ],
             [
              0.8888888888888888,
              "#fdca26"
             ],
             [
              1,
              "#f0f921"
             ]
            ],
            "type": "heatmapgl"
           }
          ],
          "histogram": [
           {
            "marker": {
             "pattern": {
              "fillmode": "overlay",
              "size": 10,
              "solidity": 0.2
             }
            },
            "type": "histogram"
           }
          ],
          "histogram2d": [
           {
            "colorbar": {
             "outlinewidth": 0,
             "ticks": ""
            },
            "colorscale": [
             [
              0,
              "#0d0887"
             ],
             [
              0.1111111111111111,
              "#46039f"
             ],
             [
              0.2222222222222222,
              "#7201a8"
             ],
             [
              0.3333333333333333,
              "#9c179e"
             ],
             [
              0.4444444444444444,
              "#bd3786"
             ],
             [
              0.5555555555555556,
              "#d8576b"
             ],
             [
              0.6666666666666666,
              "#ed7953"
             ],
             [
              0.7777777777777778,
              "#fb9f3a"
             ],
             [
              0.8888888888888888,
              "#fdca26"
             ],
             [
              1,
              "#f0f921"
             ]
            ],
            "type": "histogram2d"
           }
          ],
          "histogram2dcontour": [
           {
            "colorbar": {
             "outlinewidth": 0,
             "ticks": ""
            },
            "colorscale": [
             [
              0,
              "#0d0887"
             ],
             [
              0.1111111111111111,
              "#46039f"
             ],
             [
              0.2222222222222222,
              "#7201a8"
             ],
             [
              0.3333333333333333,
              "#9c179e"
             ],
             [
              0.4444444444444444,
              "#bd3786"
             ],
             [
              0.5555555555555556,
              "#d8576b"
             ],
             [
              0.6666666666666666,
              "#ed7953"
             ],
             [
              0.7777777777777778,
              "#fb9f3a"
             ],
             [
              0.8888888888888888,
              "#fdca26"
             ],
             [
              1,
              "#f0f921"
             ]
            ],
            "type": "histogram2dcontour"
           }
          ],
          "mesh3d": [
           {
            "colorbar": {
             "outlinewidth": 0,
             "ticks": ""
            },
            "type": "mesh3d"
           }
          ],
          "parcoords": [
           {
            "line": {
             "colorbar": {
              "outlinewidth": 0,
              "ticks": ""
             }
            },
            "type": "parcoords"
           }
          ],
          "pie": [
           {
            "automargin": true,
            "type": "pie"
           }
          ],
          "scatter": [
           {
            "fillpattern": {
             "fillmode": "overlay",
             "size": 10,
             "solidity": 0.2
            },
            "type": "scatter"
           }
          ],
          "scatter3d": [
           {
            "line": {
             "colorbar": {
              "outlinewidth": 0,
              "ticks": ""
             }
            },
            "marker": {
             "colorbar": {
              "outlinewidth": 0,
              "ticks": ""
             }
            },
            "type": "scatter3d"
           }
          ],
          "scattercarpet": [
           {
            "marker": {
             "colorbar": {
              "outlinewidth": 0,
              "ticks": ""
             }
            },
            "type": "scattercarpet"
           }
          ],
          "scattergeo": [
           {
            "marker": {
             "colorbar": {
              "outlinewidth": 0,
              "ticks": ""
             }
            },
            "type": "scattergeo"
           }
          ],
          "scattergl": [
           {
            "marker": {
             "colorbar": {
              "outlinewidth": 0,
              "ticks": ""
             }
            },
            "type": "scattergl"
           }
          ],
          "scattermapbox": [
           {
            "marker": {
             "colorbar": {
              "outlinewidth": 0,
              "ticks": ""
             }
            },
            "type": "scattermapbox"
           }
          ],
          "scatterpolar": [
           {
            "marker": {
             "colorbar": {
              "outlinewidth": 0,
              "ticks": ""
             }
            },
            "type": "scatterpolar"
           }
          ],
          "scatterpolargl": [
           {
            "marker": {
             "colorbar": {
              "outlinewidth": 0,
              "ticks": ""
             }
            },
            "type": "scatterpolargl"
           }
          ],
          "scatterternary": [
           {
            "marker": {
             "colorbar": {
              "outlinewidth": 0,
              "ticks": ""
             }
            },
            "type": "scatterternary"
           }
          ],
          "surface": [
           {
            "colorbar": {
             "outlinewidth": 0,
             "ticks": ""
            },
            "colorscale": [
             [
              0,
              "#0d0887"
             ],
             [
              0.1111111111111111,
              "#46039f"
             ],
             [
              0.2222222222222222,
              "#7201a8"
             ],
             [
              0.3333333333333333,
              "#9c179e"
             ],
             [
              0.4444444444444444,
              "#bd3786"
             ],
             [
              0.5555555555555556,
              "#d8576b"
             ],
             [
              0.6666666666666666,
              "#ed7953"
             ],
             [
              0.7777777777777778,
              "#fb9f3a"
             ],
             [
              0.8888888888888888,
              "#fdca26"
             ],
             [
              1,
              "#f0f921"
             ]
            ],
            "type": "surface"
           }
          ],
          "table": [
           {
            "cells": {
             "fill": {
              "color": "#EBF0F8"
             },
             "line": {
              "color": "white"
             }
            },
            "header": {
             "fill": {
              "color": "#C8D4E3"
             },
             "line": {
              "color": "white"
             }
            },
            "type": "table"
           }
          ]
         },
         "layout": {
          "annotationdefaults": {
           "arrowcolor": "#2a3f5f",
           "arrowhead": 0,
           "arrowwidth": 1
          },
          "autotypenumbers": "strict",
          "coloraxis": {
           "colorbar": {
            "outlinewidth": 0,
            "ticks": ""
           }
          },
          "colorscale": {
           "diverging": [
            [
             0,
             "#8e0152"
            ],
            [
             0.1,
             "#c51b7d"
            ],
            [
             0.2,
             "#de77ae"
            ],
            [
             0.3,
             "#f1b6da"
            ],
            [
             0.4,
             "#fde0ef"
            ],
            [
             0.5,
             "#f7f7f7"
            ],
            [
             0.6,
             "#e6f5d0"
            ],
            [
             0.7,
             "#b8e186"
            ],
            [
             0.8,
             "#7fbc41"
            ],
            [
             0.9,
             "#4d9221"
            ],
            [
             1,
             "#276419"
            ]
           ],
           "sequential": [
            [
             0,
             "#0d0887"
            ],
            [
             0.1111111111111111,
             "#46039f"
            ],
            [
             0.2222222222222222,
             "#7201a8"
            ],
            [
             0.3333333333333333,
             "#9c179e"
            ],
            [
             0.4444444444444444,
             "#bd3786"
            ],
            [
             0.5555555555555556,
             "#d8576b"
            ],
            [
             0.6666666666666666,
             "#ed7953"
            ],
            [
             0.7777777777777778,
             "#fb9f3a"
            ],
            [
             0.8888888888888888,
             "#fdca26"
            ],
            [
             1,
             "#f0f921"
            ]
           ],
           "sequentialminus": [
            [
             0,
             "#0d0887"
            ],
            [
             0.1111111111111111,
             "#46039f"
            ],
            [
             0.2222222222222222,
             "#7201a8"
            ],
            [
             0.3333333333333333,
             "#9c179e"
            ],
            [
             0.4444444444444444,
             "#bd3786"
            ],
            [
             0.5555555555555556,
             "#d8576b"
            ],
            [
             0.6666666666666666,
             "#ed7953"
            ],
            [
             0.7777777777777778,
             "#fb9f3a"
            ],
            [
             0.8888888888888888,
             "#fdca26"
            ],
            [
             1,
             "#f0f921"
            ]
           ]
          },
          "colorway": [
           "#636efa",
           "#EF553B",
           "#00cc96",
           "#ab63fa",
           "#FFA15A",
           "#19d3f3",
           "#FF6692",
           "#B6E880",
           "#FF97FF",
           "#FECB52"
          ],
          "font": {
           "color": "#2a3f5f"
          },
          "geo": {
           "bgcolor": "white",
           "lakecolor": "white",
           "landcolor": "#E5ECF6",
           "showlakes": true,
           "showland": true,
           "subunitcolor": "white"
          },
          "hoverlabel": {
           "align": "left"
          },
          "hovermode": "closest",
          "mapbox": {
           "style": "light"
          },
          "paper_bgcolor": "white",
          "plot_bgcolor": "#E5ECF6",
          "polar": {
           "angularaxis": {
            "gridcolor": "white",
            "linecolor": "white",
            "ticks": ""
           },
           "bgcolor": "#E5ECF6",
           "radialaxis": {
            "gridcolor": "white",
            "linecolor": "white",
            "ticks": ""
           }
          },
          "scene": {
           "xaxis": {
            "backgroundcolor": "#E5ECF6",
            "gridcolor": "white",
            "gridwidth": 2,
            "linecolor": "white",
            "showbackground": true,
            "ticks": "",
            "zerolinecolor": "white"
           },
           "yaxis": {
            "backgroundcolor": "#E5ECF6",
            "gridcolor": "white",
            "gridwidth": 2,
            "linecolor": "white",
            "showbackground": true,
            "ticks": "",
            "zerolinecolor": "white"
           },
           "zaxis": {
            "backgroundcolor": "#E5ECF6",
            "gridcolor": "white",
            "gridwidth": 2,
            "linecolor": "white",
            "showbackground": true,
            "ticks": "",
            "zerolinecolor": "white"
           }
          },
          "shapedefaults": {
           "line": {
            "color": "#2a3f5f"
           }
          },
          "ternary": {
           "aaxis": {
            "gridcolor": "white",
            "linecolor": "white",
            "ticks": ""
           },
           "baxis": {
            "gridcolor": "white",
            "linecolor": "white",
            "ticks": ""
           },
           "bgcolor": "#E5ECF6",
           "caxis": {
            "gridcolor": "white",
            "linecolor": "white",
            "ticks": ""
           }
          },
          "title": {
           "x": 0.05
          },
          "xaxis": {
           "automargin": true,
           "gridcolor": "white",
           "linecolor": "white",
           "ticks": "",
           "title": {
            "standoff": 15
           },
           "zerolinecolor": "white",
           "zerolinewidth": 2
          },
          "yaxis": {
           "automargin": true,
           "gridcolor": "white",
           "linecolor": "white",
           "ticks": "",
           "title": {
            "standoff": 15
           },
           "zerolinecolor": "white",
           "zerolinewidth": 2
          }
         }
        },
        "title": {
         "text": "Top 12 đạo diễn phim người Mỹ sáng tạo nhiều phim điện ảnh nhất"
        }
       }
      }
     },
     "metadata": {},
     "output_type": "display_data"
    }
   ],
   "source": [
    "from collections import Counter\n",
    "\n",
    "small = df[df[\"type\"] == \"Movie\"]\n",
    "small = small[small[\"country\"] == \"United States\"]\n",
    "\n",
    "col = \"director\"\n",
    "categories = \", \".join(small[col].fillna(\"\")).split(\", \")\n",
    "counter_list = Counter(categories).most_common(13)\n",
    "counter_list = [_ for _ in counter_list if _[0] != \"\"]\n",
    "labels = [_[0] for _ in counter_list][::-1]\n",
    "values = [_[1] for _ in counter_list][::-1]\n",
    "trace1 = go.Bar(y=labels, x=values, orientation=\"h\", name=\"TV Shows\", marker=dict(color=\"orange\"))\n",
    "\n",
    "data = [trace1]\n",
    "layout = go.Layout(title=\"Top 12 đạo diễn phim người Mỹ sáng tạo nhiều phim điện ảnh nhất\", legend=dict(x=0.1, y=1.1, orientation=\"h\"))\n",
    "fig = go.Figure(data, layout=layout)\n",
    "fig.show()"
   ]
  },
  {
   "cell_type": "markdown",
   "metadata": {},
   "source": [
    "#### Lý do chọn biểu đồ\n",
    "- Biểu đồ cột ngang (horizontal bar chart) phù hợp để hiển thị sự so sánh số lượng phim của mỗi đạo diễn người Mỹ.  \n",
    "- Tên nhãn dài có thể được biểu thị dễ dàng, dễ đọc mà không bị chồng với tên nhãn khác (vertical bar chart).\n",
    "- Dễ dàng trình bày dữ liệu với số lượng lớn.\n"
   ]
  },
  {
   "cell_type": "markdown",
   "metadata": {},
   "source": [
    "#### Nhận xét\n",
    "- Đạo diễn người Mỹ có số lượng phim nhiều nhất là Jay Karas với 15 bộ phim, cùng với đạo diễn Marcus Raboy nhiều thứ 2 với 14 bộ phim\n",
    "- Từ biểu đồ trên ta cũng có thể kết luận được độ ảnh hưởng của từng đạo diễn người Mỹ đối với nền phim điện ảnh"
   ]
  },
  {
   "cell_type": "markdown",
   "metadata": {},
   "source": [
    "### Nhận xét về tỷ lệ các loại hình phim (Type) qua các thập kỷ (Decade)"
   ]
  },
  {
   "cell_type": "code",
   "execution_count": 208,
   "metadata": {},
   "outputs": [
    {
     "data": {
      "image/png": "[encoded data removed]",
      "text/plain": [
       "<Figure size 1200x600 with 1 Axes>"
      ]
     },
     "metadata": {},
     "output_type": "display_data"
    }
   ],
   "source": [
    "df['decade'] = (df['release_year'] // 10) * 10\n",
    "\n",
    "grouped = df.groupby(['decade', 'type']).size().unstack(fill_value=0)\n",
    "normalized = grouped.div(grouped.sum(axis=1), axis=0)\n",
    "\n",
    "normalized.plot(kind='bar', stacked=True, figsize=(12, 6))\n",
    "plt.title('Tỷ lệ các loại hình phim qua các thập kỷ')\n",
    "plt.xlabel('')\n",
    "plt.legend(title='Type')\n",
    "plt.xticks(rotation=45)\n",
    "plt.show()"
   ]
  },
  {
   "cell_type": "markdown",
   "metadata": {},
   "source": [
    "#### Lí do chọn biểu đồ\n",
    "- Biểu đồ cột chồng (stacked bar chart) thường được sử dụng để so sánh tỷ lệ phần trăm của các nhóm con trong một tập hợp lớn, giúp người đọc dễ dàng so sánh sự phân bố của các loại hình phim qua các thập kỷ một cách trực quan.\n",
    "- Việc sử dụng biểu đồ cột chồng cũng giúp hiển thị tổng thể của dữ liệu cũng như mối quan hệ giữa các loại hình phim qua thời gian."
   ]
  },
  {
   "cell_type": "markdown",
   "metadata": {},
   "source": [
    "#### Nhật xét\n",
    "- Tỷ lệ phần trăm của các loại phim đã thay đổi đáng kể qua các thập kỷ. \n",
    "- Những năm giữa của thế kỷ 20, các chương trình của Netflix chủ yếu là Movie, tuy nhiên từ thập niên 1960 đến hiện tại, tỷ lệ của TV Show có xu hướng tăng dần, đặc biệt từ thập niên 2000 sự gia tăng tỉ lệ của TV Show càng trở nên rõ rệt."
   ]
  },
  {
   "cell_type": "markdown",
   "metadata": {},
   "source": [
    "### Nhận xét về tỷ lệ loại hình phim (Type) của các quốc gia (Country)"
   ]
  },
  {
   "cell_type": "code",
   "execution_count": 209,
   "metadata": {},
   "outputs": [
    {
     "name": "stdout",
     "output_type": "stream",
     "text": [
      "type               Movie   TV Show\n",
      "United States   0.730305  0.269695\n",
      "India           0.918724  0.081276\n",
      "United Kingdom  0.491647  0.508353\n",
      "Japan           0.310204  0.689796\n",
      "South Korea     0.206030  0.793970\n",
      "Other           0.727355  0.272645\n"
     ]
    },
    {
     "data": {
      "image/png": "[encoded data removed]",
      "text/plain": [
       "<Figure size 1200x600 with 1 Axes>"
      ]
     },
     "metadata": {},
     "output_type": "display_data"
    }
   ],
   "source": [
    "# Group by country and type, then count occurrences\n",
    "grouped_df = df.groupby(['country', 'type']).size().unstack(fill_value=0)\n",
    "\n",
    "# Get top 5 countries by count\n",
    "top_countries = grouped_df.sum(axis=1).nlargest(5).index\n",
    "\n",
    "# Aggregate counts for top 5 countries\n",
    "top_df = grouped_df.loc[top_countries]\n",
    "\n",
    "# Sum counts for the rest of the countries\n",
    "rest_df = grouped_df.drop(top_countries)\n",
    "rest_sum = rest_df.sum()\n",
    "rest_df = pd.DataFrame(rest_sum).transpose()\n",
    "rest_df.index = ['Other']  # Rename index to \"Other\"\n",
    "\n",
    "# Concatenate top countries and the rest\n",
    "final_df = pd.concat([top_df, rest_df])\n",
    "\n",
    "# Normalize each row to get proportions\n",
    "normalized_df = final_df.div(final_df.sum(axis=1), axis=0)\n",
    "\n",
    "print(normalized_df)\n",
    "\n",
    "# Plotting\n",
    "normalized_df.plot(kind='bar', stacked=True, figsize=(12, 6))\n",
    "plt.title('Tỷ lệ các loại hình phim của các quốc gia')\n",
    "plt.xticks(rotation=0)\n",
    "\n",
    "plt.legend(title='')\n",
    "plt.show()\n"
   ]
  },
  {
   "cell_type": "markdown",
   "metadata": {},
   "source": [
    "### Lý do chọn biểu đồ\n",
    "- Biểu đồ cột chồng trong trường hợp này là để so sánh tỷ lệ phần trăm của các loại hình phim giữa các quốc gia. \n",
    "- Biểu đồ giúp người đọc dễ dàng nhận biết tỷ lệ phần trăm của từng loại hình phim trong mỗi quốc gia và hiểu được mức độ đóng góp của từng loại hình phim vào tổng thể của mỗi quốc gia."
   ]
  },
  {
   "cell_type": "markdown",
   "metadata": {},
   "source": [
    "### Nhận xét\n",
    "- Tỷ lệ phần trăm của các loại phim có sự khác biệt đáng kể qua từng quốc gia. \n",
    "- Trong top 5 các quốc gia có số lượng phim nhiều nhất, United States và India có tỷ lệ Movie cao nhất, trong khi TV Show chỉ chiếm tỷ lệ nhỏ rất nhỏ. \n",
    "- Ngược lại, Japan và South Korea lại có tỷ lệ TV Show rất cao trong khi Movie có tỷ lệ nhỏ hơn nhiều. United Kingdom có tỷ lệ gần như đồng đều giữa Movie và TV Show. \n",
    "- Nhóm các quốc gia ngoài top 5 có tỉ lệ Movie áp đảo so với TV Show.\n",
    "- Trong top 5 quốc gia có số lượng phim nhiều nhất, quốc gia có tỉ lệ Movie cao nhất là India, quốc gia có tỷ lệ TV Show cao nhất là Korea."
   ]
  }
 ],
 "metadata": {
  "kernelspec": {
   "display_name": "Python 3 (ipykernel)",
   "language": "python",
   "name": "python3"
  },
  "language_info": {
   "codemirror_mode": {
    "name": "ipython",
    "version": 3
   },
   "file_extension": ".py",
   "mimetype": "text/x-python",
   "name": "python",
   "nbconvert_exporter": "python",
   "pygments_lexer": "ipython3",
   "version": "3.10.0"
  }
 },
 "nbformat": 4,
 "nbformat_minor": 4
}
